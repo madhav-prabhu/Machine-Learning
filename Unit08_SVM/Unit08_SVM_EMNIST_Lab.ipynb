{
  "nbformat": 4,
  "nbformat_minor": 0,
  "metadata": {
    "colab": {
      "name": "Unit08_SVM_EMNIST_Lab.ipynb",
      "provenance": [],
      "collapsed_sections": []
    },
    "kernelspec": {
      "name": "python3",
      "display_name": "Python 3"
    }
  },
  "cells": [
    {
      "cell_type": "markdown",
      "metadata": {
        "id": "jWhRITB4VqB1"
      },
      "source": [
        "# **Lab: SVMs on Extended MNIST**\n",
        "\n",
        "Digit and Non-Digit recognition wherein non-digits are assigned to 11th class\n",
        "\n",
        "Importing required packages"
      ]
    },
    {
      "cell_type": "code",
      "metadata": {
        "id": "DhzSOWDoPKgD"
      },
      "source": [
        "import numpy as np\n",
        "import matplotlib.pyplot as plt\n",
        "%matplotlib inline\n",
        "from sklearn import linear_model, preprocessing"
      ],
      "execution_count": 1,
      "outputs": []
    },
    {
      "cell_type": "markdown",
      "metadata": {
        "id": "hpnnufS6WQ9S"
      },
      "source": [
        "Downloading the EMNIST Dataset"
      ]
    },
    {
      "cell_type": "code",
      "metadata": {
        "id": "KYpM9B9FWPkK",
        "outputId": "600379b3-75e7-43bc-9632-bb8d5badacde",
        "colab": {
          "base_uri": "https://localhost:8080/"
        }
      },
      "source": [
        "from tqdm import tqdm\n",
        "import requests\n",
        "import os\n",
        "import zipfile\n",
        "\n",
        "def download_file(src_url, dst_fn):\n",
        "    \n",
        "    if os.path.exists(dst_fn):\n",
        "        print('File %s already exists' % dst_fn)\n",
        "        return\n",
        "    \n",
        "    print('Downloading %s' % dst_fn)\n",
        "    \n",
        "    # Streaming, so we can iterate over the response.\n",
        "    r = requests.get(src_url, stream=True)\n",
        "\n",
        "    # Total size in MB.\n",
        "    total_size = int(r.headers.get('content-length', 0)); \n",
        "    block_size = 1024\n",
        "    wrote = 0 \n",
        "    with open(dst_fn, 'wb') as f:\n",
        "        with tqdm(total=total_size//block_size, unit='kB', \n",
        "                           unit_scale=True, unit_divisor=1024) as pbar:\n",
        "            for data in r.iter_content(block_size):\n",
        "                wrote = wrote + len(data)\n",
        "                pbar.update(1)\n",
        "                f.write(data)\n",
        "    if total_size != 0 and wrote != total_size:\n",
        "        print(\"ERROR, something went wrong\") \n",
        "\n",
        "matlab_dir = 'matlab'\n",
        "digits_fn =  os.path.join(matlab_dir,'emnist-digits.mat')\n",
        "letters_fn = os.path.join(matlab_dir,'emnist-letters.mat')\n",
        "\n",
        "# Check if files exists\n",
        "if os.path.exists(matlab_dir):\n",
        "    if os.path.exists(digits_fn) and os.path.exists(letters_fn):\n",
        "        print('Files already downloaded')\n",
        "        files_exists = True\n",
        "else:\n",
        "    files_exists = False\n",
        "    \n",
        "if not files_exists:\n",
        "    # First download the zip file if needed\n",
        "    src_url = \"http://www.itl.nist.gov/iaui/vip/cs_links/EMNIST/matlab.zip\"\n",
        "    dst_fn = 'matlab.zip'\n",
        "    download_file(src_url, dst_fn)\n",
        "    \n",
        "    # Then, unzip the file\n",
        "    print('Unzipping %s...' % dst_fn)\n",
        "    zip_ref = zipfile.ZipFile(dst_fn, 'r')\n",
        "    zip_ref.extractall('.')\n",
        "    zip_ref.close()\n",
        "    print('Unzip completed')"
      ],
      "execution_count": 2,
      "outputs": [
        {
          "output_type": "stream",
          "text": [
            "Files already downloaded\n"
          ],
          "name": "stdout"
        }
      ]
    },
    {
      "cell_type": "code",
      "metadata": {
        "id": "IBJaZ_kqW07f"
      },
      "source": [
        "import scipy.io\n",
        "def load_emnist(file_path='emnist-digits.mat'):\n",
        "    \"\"\"\n",
        "    Loads training and test data with ntr and nts training and test samples\n",
        "    The `file_path` is the location of the `eminst-balanced.mat`.\n",
        "    \"\"\"    \n",
        "    \n",
        "    # Load the MATLAB file\n",
        "    mat = scipy.io.loadmat(file_path)\n",
        "    \n",
        "    # Get the training data\n",
        "    Xtr = mat['dataset'][0][0][0][0][0][0][:]\n",
        "    ntr = Xtr.shape[0]\n",
        "    ytr = mat['dataset'][0][0][0][0][0][1][:].reshape(ntr).astype(int)\n",
        "    \n",
        "    # Get the test data\n",
        "    Xts = mat['dataset'][0][0][1][0][0][0][:]\n",
        "    nts = Xts.shape[0]\n",
        "    yts = mat['dataset'][0][0][1][0][0][1][:].reshape(nts).astype(int)\n",
        "    \n",
        "    print(\"%d training samples, %d test samples loaded\" % (ntr, nts))\n",
        "\n",
        "    return [Xtr, Xts, ytr, yts]"
      ],
      "execution_count": 3,
      "outputs": []
    },
    {
      "cell_type": "code",
      "metadata": {
        "id": "rLcrCEseW55o",
        "outputId": "dfb9dc31-264d-40d4-8ce8-4cec057e0050",
        "colab": {
          "base_uri": "https://localhost:8080/"
        }
      },
      "source": [
        "Xtr_dig, Xts_dig, ytr_dig, yts_dig = load_emnist(digits_fn)"
      ],
      "execution_count": 4,
      "outputs": [
        {
          "output_type": "stream",
          "text": [
            "240000 training samples, 40000 test samples loaded\n"
          ],
          "name": "stdout"
        }
      ]
    },
    {
      "cell_type": "code",
      "metadata": {
        "id": "CjfWv4QiX0yD",
        "outputId": "c8d5f56d-7253-4daf-beca-1677d342b944",
        "colab": {
          "base_uri": "https://localhost:8080/"
        }
      },
      "source": [
        "Xtr_let, Xts_let, ytr_let, yts_let = load_emnist(letters_fn)"
      ],
      "execution_count": 5,
      "outputs": [
        {
          "output_type": "stream",
          "text": [
            "124800 training samples, 20800 test samples loaded\n"
          ],
          "name": "stdout"
        }
      ]
    },
    {
      "cell_type": "code",
      "metadata": {
        "id": "jYoPn9twYzhS"
      },
      "source": [
        "ntr_dig = Xtr_dig.shape[0]\n",
        "nts_dig = Xts_dig.shape[0]\n",
        "\n",
        "ntr_let = Xtr_let.shape[0]\n",
        "nts_let = Xts_let.shape[0]"
      ],
      "execution_count": 6,
      "outputs": []
    },
    {
      "cell_type": "markdown",
      "metadata": {
        "id": "Ub5caQ7FYeEU"
      },
      "source": [
        "Plotting the digits"
      ]
    },
    {
      "cell_type": "code",
      "metadata": {
        "id": "pPMM9hIDYAdy"
      },
      "source": [
        "def plt_entity(ax, x):\n",
        "    nrow = 28\n",
        "    ncol = 28\n",
        "    xsq = x.reshape((nrow,ncol))\n",
        "    ax.imshow(xsq.T,  cmap='Greys_r')\n",
        "    ax.set_xticks([])\n",
        "    ax.set_yticks([])"
      ],
      "execution_count": 7,
      "outputs": []
    },
    {
      "cell_type": "code",
      "metadata": {
        "id": "9becon9hbVGh",
        "outputId": "01879083-0694-4769-c593-3409447f312e",
        "colab": {
          "base_uri": "https://localhost:8080/",
          "height": 94
        }
      },
      "source": [
        "nplt = 8\n",
        "Iperm = np.random.permutation(ntr_dig)\n",
        "\n",
        "fig, ax = plt.subplots(1,nplt,figsize=(10,3))\n",
        "for i in range(nplt):\n",
        "    ind = Iperm[i]\n",
        "    plt_entity(ax[i], Xtr_dig[ind,:])"
      ],
      "execution_count": 8,
      "outputs": [
        {
          "output_type": "display_data",
          "data": {
            "image/png": "[encoded data removed]",
            "text/plain": [
              "<Figure size 720x216 with 8 Axes>"
            ]
          },
          "metadata": {
            "tags": []
          }
        }
      ]
    },
    {
      "cell_type": "markdown",
      "metadata": {
        "id": "61vLbdAOaqLK"
      },
      "source": [
        "Plotting the letters"
      ]
    },
    {
      "cell_type": "code",
      "metadata": {
        "id": "jLfWC6-GasBD",
        "outputId": "af623352-2364-41bd-dd07-a6f015b56824",
        "colab": {
          "base_uri": "https://localhost:8080/",
          "height": 94
        }
      },
      "source": [
        "nplt = 8\n",
        "Iperm = np.random.permutation(ntr_let)\n",
        "\n",
        "fig, ax = plt.subplots(1,nplt,figsize=(10,3))\n",
        "for i in range(nplt):\n",
        "    ind = Iperm[i]\n",
        "    plt_entity(ax[i], Xtr_let[ind,:])"
      ],
      "execution_count": 9,
      "outputs": [
        {
          "output_type": "display_data",
          "data": {
            "image/png": "[encoded data removed]",
            "text/plain": [
              "<Figure size 720x216 with 8 Axes>"
            ]
          },
          "metadata": {
            "tags": []
          }
        }
      ]
    },
    {
      "cell_type": "markdown",
      "metadata": {
        "id": "gxnBbH7RcP87"
      },
      "source": [
        "**Creating a Non-Digit Class**\n",
        "\n",
        "Removing letters similar to numbers"
      ]
    },
    {
      "cell_type": "code",
      "metadata": {
        "id": "y_kIuO8AcPY5",
        "outputId": "6b65c1ec-bdec-4c46-f037-d32e3b1a246d",
        "colab": {
          "base_uri": "https://localhost:8080/"
        }
      },
      "source": [
        "Xts_let.shape"
      ],
      "execution_count": 10,
      "outputs": [
        {
          "output_type": "execute_result",
          "data": {
            "text/plain": [
              "(20800, 784)"
            ]
          },
          "metadata": {
            "tags": []
          },
          "execution_count": 10
        }
      ]
    },
    {
      "cell_type": "code",
      "metadata": {
        "id": "kBTdGEqDdvNp"
      },
      "source": [
        "remove_list = np.array([9,12,15])\n",
        "\n",
        "temp1 = np.nonzero(ytr_let[:,None] == remove_list)[0]\n",
        "Xtr_let_rem = np.delete(Xtr_let, temp1, axis=0)\n",
        "ytr_let_rem = np.delete(ytr_let, temp1)\n",
        "\n",
        "temp2 = np.nonzero(yts_let[:,None] == remove_list)[0]\n",
        "Xts_let_rem = np.delete(Xts_let, temp2, axis=0)\n",
        "yts_let_rem = np.delete(yts_let, temp2)"
      ],
      "execution_count": 11,
      "outputs": []
    },
    {
      "cell_type": "code",
      "metadata": {
        "id": "SuqrWCLnzqvk"
      },
      "source": [
        "ntr_let_new = Xtr_let_rem.shape[0]\n",
        "nts_let_new = Xts_let_rem.shape[0]"
      ],
      "execution_count": 12,
      "outputs": []
    },
    {
      "cell_type": "markdown",
      "metadata": {
        "id": "9Yea7kL5u7UM"
      },
      "source": [
        "Creating train and test splits"
      ]
    },
    {
      "cell_type": "code",
      "metadata": {
        "id": "EJd53rdYu9MJ"
      },
      "source": [
        "ntr_dig2 = 5000\n",
        "nts_dig2 = 5000\n",
        "nts_let2 = 1000\n",
        "ntr_let2 = 1000\n",
        "\n",
        "Iperm_tr_dig = np.random.permutation(ntr_dig)\n",
        "Iperm_ts_dig = np.random.permutation(nts_dig)\n",
        "Iperm_tr_let = np.random.permutation(ntr_let_new)\n",
        "Iperm_ts_let = np.random.permutation(nts_let_new)"
      ],
      "execution_count": 13,
      "outputs": []
    },
    {
      "cell_type": "code",
      "metadata": {
        "id": "Nm2KglZ5zVfx"
      },
      "source": [
        "Xtr1_dig = Xtr_dig[Iperm_tr_dig[:ntr_dig2],:]\n",
        "ytr1_dig = ytr_dig[Iperm_tr_dig[:ntr_dig2]]\n",
        "Xtr1_let = Xtr_let_rem[Iperm_tr_let[:ntr_let2],:]\n",
        "ytr1_let = ytr_let_rem[Iperm_tr_let[:ntr_let2]]\n",
        "\n",
        "Xts1_dig = Xts_dig[Iperm_ts_dig[:nts_dig2],:]\n",
        "yts1_dig = yts_dig[Iperm_ts_dig[:nts_dig2]]\n",
        "Xts1_let = Xts_let_rem[Iperm_ts_let[:nts_let2],:]\n",
        "yts1_let = yts_let_rem[Iperm_ts_let[:nts_let2]]"
      ],
      "execution_count": 14,
      "outputs": []
    },
    {
      "cell_type": "markdown",
      "metadata": {
        "id": "-wPOoVYfe1O0"
      },
      "source": [
        "Assigning class label = 10 for all letters"
      ]
    },
    {
      "cell_type": "code",
      "metadata": {
        "id": "AU1Jfqgp9fEI"
      },
      "source": [
        "ytest = np.full((1000,), 10)"
      ],
      "execution_count": 15,
      "outputs": []
    },
    {
      "cell_type": "code",
      "metadata": {
        "id": "TMiuaCiO-H9A"
      },
      "source": [
        "Xtr = np.vstack((Xtr1_dig, Xtr1_let))\n",
        "Xts = np.vstack((Xts1_dig, Xts1_let))"
      ],
      "execution_count": 16,
      "outputs": []
    },
    {
      "cell_type": "code",
      "metadata": {
        "id": "gKEB3QNV_fmW"
      },
      "source": [
        "ytr = np.hstack((ytr1_dig, ytest))\n",
        "yts = np.hstack((yts1_dig, ytest))"
      ],
      "execution_count": 17,
      "outputs": []
    },
    {
      "cell_type": "code",
      "metadata": {
        "id": "XgseuKPGAAzH"
      },
      "source": [
        "Xtr1 = 2*(Xtr/255 - 0.5)\n",
        "Xts1 = 2*(Xts/255 - 0.5)"
      ],
      "execution_count": 18,
      "outputs": []
    },
    {
      "cell_type": "markdown",
      "metadata": {
        "id": "zbPX9L7NB9oZ"
      },
      "source": [
        "**Running the SVM Classifier**"
      ]
    },
    {
      "cell_type": "code",
      "metadata": {
        "id": "NkFNZICKB06u"
      },
      "source": [
        "from sklearn import svm\n",
        "svc = svm.SVC(probability=False,  kernel=\"rbf\", C=2.8, gamma=.0073)"
      ],
      "execution_count": 19,
      "outputs": []
    },
    {
      "cell_type": "code",
      "metadata": {
        "id": "F0xW4yCBCC8-",
        "outputId": "c56bf0f3-e2f5-4b0b-ee4a-66955416d8cf",
        "colab": {
          "base_uri": "https://localhost:8080/"
        }
      },
      "source": [
        "svc.fit(Xtr1, ytr)"
      ],
      "execution_count": 20,
      "outputs": [
        {
          "output_type": "execute_result",
          "data": {
            "text/plain": [
              "SVC(C=2.8, break_ties=False, cache_size=200, class_weight=None, coef0=0.0,\n",
              "    decision_function_shape='ovr', degree=3, gamma=0.0073, kernel='rbf',\n",
              "    max_iter=-1, probability=False, random_state=None, shrinking=True,\n",
              "    tol=0.001, verbose=False)"
            ]
          },
          "metadata": {
            "tags": []
          },
          "execution_count": 20
        }
      ]
    },
    {
      "cell_type": "code",
      "metadata": {
        "id": "5kTSAPqIE6ya"
      },
      "source": [
        "yhat_ts = svc.predict(Xts1)"
      ],
      "execution_count": 21,
      "outputs": []
    },
    {
      "cell_type": "code",
      "metadata": {
        "id": "SA6hFzWkFFPE",
        "outputId": "5d2759d1-41ea-45de-a2e1-057ad9b96fd4",
        "colab": {
          "base_uri": "https://localhost:8080/"
        }
      },
      "source": [
        "acc = np.mean(yhat_ts == yts)\n",
        "print('Accuaracy = {0:f}'.format(acc))"
      ],
      "execution_count": 22,
      "outputs": [
        {
          "output_type": "stream",
          "text": [
            "Accuaracy = 0.912833\n"
          ],
          "name": "stdout"
        }
      ]
    },
    {
      "cell_type": "code",
      "metadata": {
        "id": "9O2aJ1S0FH7P",
        "outputId": "0ba58624-1e21-409a-ddc7-5bef45aed803",
        "colab": {
          "base_uri": "https://localhost:8080/",
          "height": 172
        }
      },
      "source": [
        "Ierr = np.where((yhat_ts != yts))[0]\n",
        "nplt = 4\n",
        "fig, ax = plt.subplots(1,nplt,figsize=(10, 4))\n",
        "for i in range(nplt):             \n",
        "    ind = Ierr[i]    \n",
        "    plt_entity(ax[i], Xts1[ind,:])        \n",
        "    title = 'true={0:d} est={1:d}'.format(yts[ind].astype(int), yhat_ts[ind].astype(int))\n",
        "    ax[i].set_title(title)"
      ],
      "execution_count": 23,
      "outputs": [
        {
          "output_type": "display_data",
          "data": {
            "image/png": "[encoded data removed]",
            "text/plain": [
              "<Figure size 720x288 with 4 Axes>"
            ]
          },
          "metadata": {
            "tags": []
          }
        }
      ]
    },
    {
      "cell_type": "code",
      "metadata": {
        "id": "h7_nvICbGx3a",
        "outputId": "981f27ef-17fc-4269-8b5a-6f9234cdf7bc",
        "colab": {
          "base_uri": "https://localhost:8080/",
          "height": 469
        }
      },
      "source": [
        "from sklearn.metrics import confusion_matrix\n",
        "C = confusion_matrix(yts,yhat_ts)\n",
        "\n",
        "\n",
        "Csum = np.sum(C,1)\n",
        "C = C / Csum[None,:]\n",
        "\n",
        "\n",
        "print(np.array_str(C, precision=3, suppress_small=True))\n",
        "plt.imshow(C, interpolation='none')\n",
        "plt.colorbar()"
      ],
      "execution_count": 24,
      "outputs": [
        {
          "output_type": "stream",
          "text": [
            "[[0.928 0.    0.    0.    0.002 0.    0.002 0.002 0.    0.    0.032]\n",
            " [0.    0.98  0.    0.    0.    0.    0.002 0.004 0.002 0.    0.006]\n",
            " [0.004 0.    0.913 0.    0.    0.    0.    0.006 0.    0.    0.04 ]\n",
            " [0.    0.    0.01  0.929 0.    0.006 0.    0.004 0.01  0.004 0.018]\n",
            " [0.    0.    0.    0.002 0.891 0.    0.002 0.    0.    0.009 0.053]\n",
            " [0.002 0.    0.    0.01  0.002 0.904 0.004 0.    0.002 0.006 0.036]\n",
            " [0.    0.002 0.    0.    0.002 0.002 0.922 0.    0.002 0.    0.035]\n",
            " [0.    0.    0.004 0.    0.004 0.    0.    0.966 0.    0.009 0.009]\n",
            " [0.002 0.002 0.002 0.006 0.    0.002 0.    0.    0.887 0.004 0.046]\n",
            " [0.    0.002 0.    0.004 0.009 0.    0.    0.002 0.004 0.94  0.017]\n",
            " [0.017 0.01  0.041 0.014 0.033 0.063 0.042 0.008 0.027 0.047 0.849]]\n"
          ],
          "name": "stdout"
        },
        {
          "output_type": "execute_result",
          "data": {
            "text/plain": [
              "<matplotlib.colorbar.Colorbar at 0x7f89d2e64da0>"
            ]
          },
          "metadata": {
            "tags": []
          },
          "execution_count": 24
        },
        {
          "output_type": "display_data",
          "data": {
            "image/png": "[encoded data removed]",
            "text/plain": [
              "<Figure size 432x288 with 2 Axes>"
            ]
          },
          "metadata": {
            "tags": [],
            "needs_background": "light"
          }
        }
      ]
    },
    {
      "cell_type": "code",
      "metadata": {
        "id": "dDJqofDFKX6d",
        "outputId": "2dac7a26-a7f1-4caf-b220-0cecea48b37a",
        "colab": {
          "base_uri": "https://localhost:8080/"
        }
      },
      "source": [
        "dig_mis = 0\n",
        "let_mis = 0\n",
        "for i in range(len(yts)):\n",
        "  if yts[i] != 10 and yhat_ts[i] == 10:\n",
        "    dig_mis = dig_mis + 1\n",
        "  if yts[i] == 10 and yhat_ts[i] != 10:\n",
        "    let_mis = let_mis + 1\n",
        "\n",
        "digits = Xts1_dig.shape[0]\n",
        "letters = Xts1_let.shape[0]\n",
        "print(\"Fraction of digits mislabeled as letters = \", dig_mis/digits)\n",
        "print(\"Fraction of letters mislabeled as digits = \", let_mis/letters)"
      ],
      "execution_count": 26,
      "outputs": [
        {
          "output_type": "stream",
          "text": [
            "Fraction of digits mislabeled as letters =  0.0584\n",
            "Fraction of letters mislabeled as digits =  0.151\n"
          ],
          "name": "stdout"
        }
      ]
    },
    {
      "cell_type": "markdown",
      "metadata": {
        "id": "ehzDA9mEKUc6"
      },
      "source": [
        "**Selecting gamma and C via Cross-Validation (Using For-Loops)**"
      ]
    },
    {
      "cell_type": "code",
      "metadata": {
        "id": "G4SQsNF5KSan"
      },
      "source": [
        "C_test = [0.1,1,10]\n",
        "gam_test = [0.001,0.01,0.1]\n",
        "\n",
        "nC = len(C_test)\n",
        "ngam = len(gam_test)\n",
        "acc = np.zeros((nC,ngam))\n",
        "\n",
        "for i in range(3):\n",
        "  for j in range(3):\n",
        "    svc = svm.SVC(probability=False,  kernel=\"rbf\", C=C_test[i], gamma=gam_test[j])\n",
        "    svc.fit(Xtr1, ytr)\n",
        "    yhat_ts = svc.predict(Xts1)\n",
        "    acc[i, j] = np.mean(yhat_ts == yts)\n"
      ],
      "execution_count": 27,
      "outputs": []
    },
    {
      "cell_type": "markdown",
      "metadata": {
        "id": "WGIxdFOKegvZ"
      },
      "source": [
        "Printing the accuracy matrix"
      ]
    },
    {
      "cell_type": "code",
      "metadata": {
        "id": "tLEM3JqFeuBt",
        "outputId": "6adf32a3-c360-4922-8f17-6fd093151be2",
        "colab": {
          "base_uri": "https://localhost:8080/"
        }
      },
      "source": [
        "acc"
      ],
      "execution_count": 28,
      "outputs": [
        {
          "output_type": "execute_result",
          "data": {
            "text/plain": [
              "array([[0.79316667, 0.59533333, 0.16666667],\n",
              "       [0.87333333, 0.89183333, 0.21533333],\n",
              "       [0.90283333, 0.89516667, 0.21733333]])"
            ]
          },
          "metadata": {
            "tags": []
          },
          "execution_count": 28
        }
      ]
    },
    {
      "cell_type": "code",
      "metadata": {
        "id": "tQamYC_UMAaA",
        "outputId": "803d32de-931b-448f-f4e6-bbb7b754a9c0",
        "colab": {
          "base_uri": "https://localhost:8080/"
        }
      },
      "source": [
        "indices = np.where(acc == acc.max())\n",
        "i = indices[0][0]\n",
        "j = indices[1][0]\n",
        "Cmax = C_test[i]\n",
        "Gammax = gam_test[j]\n",
        "\n",
        "print(\"The maximum accuracy is = {}\\nCorresponding C is = {}\\nCorresponding gamma is = {}\".format(acc.max(), Cmax, Gammax))"
      ],
      "execution_count": 29,
      "outputs": [
        {
          "output_type": "stream",
          "text": [
            "The maximum accuracy is = 0.9028333333333334\n",
            "Corresponding C is = 10\n",
            "Corresponding gamma is = 0.001\n"
          ],
          "name": "stdout"
        }
      ]
    }
  ]
}