{
  "nbformat": 4,
  "nbformat_minor": 0,
  "metadata": {
    "colab": {
      "name": "Unit08_SVM_MNIST_Demo.ipynb",
      "provenance": [],
      "collapsed_sections": []
    },
    "kernelspec": {
      "name": "python3",
      "display_name": "Python 3"
    }
  },
  "cells": [
    {
      "cell_type": "markdown",
      "metadata": {
        "id": "nUJNlvJx93Ub"
      },
      "source": [
        "# **Demo: SVM for MNIST Digit Recognition**"
      ]
    },
    {
      "cell_type": "markdown",
      "metadata": {
        "id": "rpX7SYtg9_-1"
      },
      "source": [
        "Loading the data"
      ]
    },
    {
      "cell_type": "code",
      "metadata": {
        "id": "6-fgafZJsx8A"
      },
      "source": [
        "import numpy as np\n",
        "import matplotlib\n",
        "import matplotlib.pyplot as plt"
      ],
      "execution_count": 1,
      "outputs": []
    },
    {
      "cell_type": "markdown",
      "metadata": {
        "id": "Ng54Dc4G-Mwk"
      },
      "source": [
        "Importing MNIST dataset using Tensorflow"
      ]
    },
    {
      "cell_type": "code",
      "metadata": {
        "id": "HdLoMIrR-DGj",
        "outputId": "174c65bd-799c-4251-f169-bc6ff3da0a1e",
        "colab": {
          "base_uri": "https://localhost:8080/",
          "height": 107
        }
      },
      "source": [
        "import tensorflow as tf\n",
        "\n",
        "(Xtr,ytr),(Xts,yts) = tf.keras.datasets.mnist.load_data()\n",
        "\n",
        "print('Xtr shape: %s' % str(Xtr.shape))\n",
        "print('Xts shape: %s' % str(Xts.shape))\n",
        "\n",
        "ntr = Xtr.shape[0]\n",
        "nts = Xts.shape[0]\n",
        "nrow = Xtr.shape[1]\n",
        "ncol = Xtr.shape[2]"
      ],
      "execution_count": 2,
      "outputs": [
        {
          "output_type": "stream",
          "text": [
            "Downloading data from https://storage.googleapis.com/tensorflow/tf-keras-datasets/mnist.npz\n",
            "11493376/11490434 [==============================] - 0s 0us/step\n",
            "Xtr shape: (60000, 28, 28)\n",
            "Xts shape: (10000, 28, 28)\n"
          ],
          "name": "stdout"
        }
      ]
    },
    {
      "cell_type": "markdown",
      "metadata": {
        "id": "p-8hFfv5-ZkG"
      },
      "source": [
        "Rescaling the value to -1 to 1 and reshaping it as a $ntr*npix$ and $nts*npix$"
      ]
    },
    {
      "cell_type": "code",
      "metadata": {
        "id": "hmeTUqIv-SHu"
      },
      "source": [
        "npix = nrow*ncol\n",
        "Xtr = 2*(Xtr/255 - 0.5)\n",
        "Xtr = Xtr.reshape((ntr,npix))\n",
        "\n",
        "Xts = 2*(Xts/255 - 0.5)\n",
        "Xts = Xts.reshape((nts,npix))"
      ],
      "execution_count": 3,
      "outputs": []
    },
    {
      "cell_type": "markdown",
      "metadata": {
        "id": "GjMQmD2-_KVD"
      },
      "source": [
        "Displaying random images"
      ]
    },
    {
      "cell_type": "code",
      "metadata": {
        "id": "-ePN0aFs_L3x",
        "outputId": "f1ac6ca3-936b-47d8-e797-396df970ff5e",
        "colab": {
          "base_uri": "https://localhost:8080/",
          "height": 94
        }
      },
      "source": [
        "def plt_digit(ax, x):\n",
        "    nrow = 28\n",
        "    ncol = 28\n",
        "    xsq = x.reshape((nrow,ncol))\n",
        "    ax.imshow(xsq,  cmap='Greys_r')\n",
        "    ax.set_xticks([])\n",
        "    ax.set_yticks([])\n",
        "\n",
        "# Select random digits\n",
        "nplt = 8\n",
        "Iperm = np.random.permutation(ntr)\n",
        "\n",
        "# Plot the images using the subplot command\n",
        "fig, ax = plt.subplots(1,nplt,figsize=(10,3))\n",
        "for i in range(nplt):\n",
        "    ind = Iperm[i]\n",
        "    plt_digit(ax[i], Xtr[ind,:])"
      ],
      "execution_count": 4,
      "outputs": [
        {
          "output_type": "display_data",
          "data": {
            "image/png": "[encoded data removed]",
            "text/plain": [
              "<Figure size 720x216 with 8 Axes>"
            ]
          },
          "metadata": {
            "tags": []
          }
        }
      ]
    },
    {
      "cell_type": "markdown",
      "metadata": {
        "id": "sc3sgs7o_aBC"
      },
      "source": [
        "**Trying a Logistic Regression Classifier**"
      ]
    },
    {
      "cell_type": "code",
      "metadata": {
        "id": "QwXxlZKA_fFF"
      },
      "source": [
        "ntr1 = 5000\n",
        "Xtr1 = Xtr[Iperm[:ntr1],:]\n",
        "ytr1 = ytr[Iperm[:ntr1]]"
      ],
      "execution_count": 5,
      "outputs": []
    },
    {
      "cell_type": "markdown",
      "metadata": {
        "id": "Q6o_DrHY_vm9"
      },
      "source": [
        "Running the classifier"
      ]
    },
    {
      "cell_type": "code",
      "metadata": {
        "id": "zK5B0Vd8_yNQ",
        "outputId": "f2dc64d7-5b6e-4cef-8e1c-60cb46a50cb5",
        "colab": {
          "base_uri": "https://localhost:8080/",
          "height": 319
        }
      },
      "source": [
        "from sklearn import linear_model\n",
        "\n",
        "logreg = linear_model.LogisticRegression(verbose=10, solver='lbfgs', max_iter=500)\n",
        "logreg.fit(Xtr1, ytr1)"
      ],
      "execution_count": 6,
      "outputs": [
        {
          "output_type": "stream",
          "text": [
            "[Parallel(n_jobs=1)]: Using backend SequentialBackend with 1 concurrent workers.\n",
            "/usr/local/lib/python3.6/dist-packages/sklearn/linear_model/_logistic.py:940: ConvergenceWarning: lbfgs failed to converge (status=1):\n",
            "STOP: TOTAL NO. of ITERATIONS REACHED LIMIT.\n",
            "\n",
            "Increase the number of iterations (max_iter) or scale the data as shown in:\n",
            "    https://scikit-learn.org/stable/modules/preprocessing.html\n",
            "Please also refer to the documentation for alternative solver options:\n",
            "    https://scikit-learn.org/stable/modules/linear_model.html#logistic-regression\n",
            "  extra_warning_msg=_LOGISTIC_SOLVER_CONVERGENCE_MSG)\n",
            "[Parallel(n_jobs=1)]: Done   1 out of   1 | elapsed:  1.3min remaining:    0.0s\n",
            "[Parallel(n_jobs=1)]: Done   1 out of   1 | elapsed:  1.3min finished\n"
          ],
          "name": "stderr"
        },
        {
          "output_type": "execute_result",
          "data": {
            "text/plain": [
              "LogisticRegression(C=1.0, class_weight=None, dual=False, fit_intercept=True,\n",
              "                   intercept_scaling=1, l1_ratio=None, max_iter=500,\n",
              "                   multi_class='auto', n_jobs=None, penalty='l2',\n",
              "                   random_state=None, solver='lbfgs', tol=0.0001, verbose=10,\n",
              "                   warm_start=False)"
            ]
          },
          "metadata": {
            "tags": []
          },
          "execution_count": 6
        }
      ]
    },
    {
      "cell_type": "markdown",
      "metadata": {
        "id": "-P_si6IkAe3l"
      },
      "source": [
        "Saving the results in a pickle file"
      ]
    },
    {
      "cell_type": "code",
      "metadata": {
        "id": "rMSJL1YeAHqH"
      },
      "source": [
        "import pickle\n",
        "\n",
        "with open(\"mnist_logreg.p\", \"wb\") as fp:\n",
        "  pickle.dump( [logreg,Xtr1, ytr1, Iperm], fp)"
      ],
      "execution_count": 7,
      "outputs": []
    },
    {
      "cell_type": "code",
      "metadata": {
        "id": "Yx05YyMDAw4Z"
      },
      "source": [
        "with open(\"mnist_logreg.p\", \"rb\") as fp:\n",
        "  logreg, Xtr1, ytr1, Iperm = pickle.load(fp)"
      ],
      "execution_count": 8,
      "outputs": []
    },
    {
      "cell_type": "markdown",
      "metadata": {
        "id": "3AXDzOxmA97c"
      },
      "source": [
        "Measuring accuracy on the test data"
      ]
    },
    {
      "cell_type": "code",
      "metadata": {
        "id": "OWFpcXKNA74s",
        "outputId": "76510d13-c513-4c58-f8df-536e80dd1b4c",
        "colab": {
          "base_uri": "https://localhost:8080/",
          "height": 35
        }
      },
      "source": [
        "nts1 = 5000\n",
        "Iperm_ts = np.random.permutation(nts) \n",
        "Xts1 = Xts[Iperm_ts[:nts1],:]\n",
        "yts1 = yts[Iperm_ts[:nts1]]\n",
        "yhat = logreg.predict(Xts1)\n",
        "acc = np.mean(yhat == yts1)\n",
        "print('Accuaracy = {0:f}'.format(acc))"
      ],
      "execution_count": 9,
      "outputs": [
        {
          "output_type": "stream",
          "text": [
            "Accuaracy = 0.887600\n"
          ],
          "name": "stdout"
        }
      ]
    },
    {
      "cell_type": "markdown",
      "metadata": {
        "id": "6pgsU5V8BOTM"
      },
      "source": [
        "Plotting errors"
      ]
    },
    {
      "cell_type": "code",
      "metadata": {
        "id": "m1pl5uhfBJxF",
        "outputId": "449fd991-ae3c-4751-828f-dcbc0e5038b8",
        "colab": {
          "base_uri": "https://localhost:8080/",
          "height": 172
        }
      },
      "source": [
        "nplt = 4\n",
        "Ierr = np.where(yts1 != yhat)[0]\n",
        "\n",
        "fig, ax = plt.subplots(1,nplt,figsize=(10, 4))\n",
        "for i in range(nplt):        \n",
        "    ind = Ierr[i]    \n",
        "    plt_digit(ax[i], Xts1[ind,:])        \n",
        "    title = 'true={0:d} est={1:d}'.format(yts1[ind].astype(int), yhat[ind].astype(int))\n",
        "    ax[i].set_title(title)"
      ],
      "execution_count": 10,
      "outputs": [
        {
          "output_type": "display_data",
          "data": {
            "image/png": "[encoded data removed]",
            "text/plain": [
              "<Figure size 720x288 with 4 Axes>"
            ]
          },
          "metadata": {
            "tags": []
          }
        }
      ]
    },
    {
      "cell_type": "markdown",
      "metadata": {
        "id": "YiglJBg5BZjf"
      },
      "source": [
        "Plotting the confusion matrix"
      ]
    },
    {
      "cell_type": "code",
      "metadata": {
        "id": "IbvhM35yBQIX",
        "outputId": "63b95673-d6d6-467d-89eb-84bc58b91f56",
        "colab": {
          "base_uri": "https://localhost:8080/",
          "height": 459
        }
      },
      "source": [
        "from sklearn.metrics import confusion_matrix\n",
        "C = confusion_matrix(yts1,yhat)\n",
        "\n",
        "# Normalize the confusion matrix\n",
        "Csum = np.sum(C,1)\n",
        "C = C / Csum[None,:]\n",
        "\n",
        "# Print the confusion matrix\n",
        "print(np.array_str(C, precision=3, suppress_small=True))\n",
        "plt.imshow(C, interpolation='none')\n",
        "plt.colorbar()"
      ],
      "execution_count": 11,
      "outputs": [
        {
          "output_type": "stream",
          "text": [
            "[[0.952 0.    0.006 0.002 0.    0.036 0.004 0.    0.004 0.   ]\n",
            " [0.    0.967 0.006 0.004 0.    0.005 0.002 0.    0.021 0.   ]\n",
            " [0.01  0.007 0.848 0.029 0.01  0.009 0.013 0.019 0.054 0.006]\n",
            " [0.004 0.004 0.025 0.855 0.002 0.036 0.004 0.011 0.041 0.024]\n",
            " [0.002 0.004 0.008 0.004 0.909 0.002 0.009 0.004 0.012 0.041]\n",
            " [0.006 0.002 0.014 0.054 0.014 0.832 0.019 0.002 0.029 0.008]\n",
            " [0.024 0.004 0.004 0.    0.012 0.029 0.917 0.006 0.    0.002]\n",
            " [0.004 0.013 0.018 0.016 0.008 0.    0.002 0.887 0.002 0.051]\n",
            " [0.006 0.017 0.012 0.045 0.008 0.057 0.021 0.01  0.806 0.017]\n",
            " [0.01  0.006 0.01  0.012 0.041 0.007 0.002 0.019 0.008 0.893]]\n"
          ],
          "name": "stdout"
        },
        {
          "output_type": "execute_result",
          "data": {
            "text/plain": [
              "<matplotlib.colorbar.Colorbar at 0x7f4bab9865f8>"
            ]
          },
          "metadata": {
            "tags": []
          },
          "execution_count": 11
        },
        {
          "output_type": "display_data",
          "data": {
            "image/png": "[encoded data removed]",
            "text/plain": [
              "<Figure size 432x288 with 2 Axes>"
            ]
          },
          "metadata": {
            "tags": [],
            "needs_background": "light"
          }
        }
      ]
    },
    {
      "cell_type": "markdown",
      "metadata": {
        "id": "qRQFbBdEBiT4"
      },
      "source": [
        "Plotting weights for each digit"
      ]
    },
    {
      "cell_type": "code",
      "metadata": {
        "id": "icRhCjpABfRR",
        "outputId": "67c881ee-f3b1-4322-9b86-9fde18b872e3",
        "colab": {
          "base_uri": "https://localhost:8080/",
          "height": 279
        }
      },
      "source": [
        "W = logreg.coef_\n",
        "ndigit = W.shape[0]\n",
        "fig, ax = plt.subplots(2,5,figsize=(10, 5))\n",
        "for i in range(ndigit):\n",
        "    irow = i // 5\n",
        "    icol = i % 5\n",
        "    plt_digit(ax[irow,icol], W[i,:])"
      ],
      "execution_count": 12,
      "outputs": [
        {
          "output_type": "display_data",
          "data": {
            "image/png": "[encoded data removed]",
            "text/plain": [
              "<Figure size 720x360 with 10 Axes>"
            ]
          },
          "metadata": {
            "tags": []
          }
        }
      ]
    },
    {
      "cell_type": "code",
      "metadata": {
        "id": "HJaiA4hcBm_7",
        "outputId": "d2a50e78-040f-45a2-ee60-55f2859bfcbd",
        "colab": {
          "base_uri": "https://localhost:8080/",
          "height": 249
        }
      },
      "source": [
        "idig = 2\n",
        "Idig   = np.where(ytr==idig)[0]\n",
        "Inodig = np.where(ytr!=idig)[0]\n",
        "n = len(Idig)\n",
        "Idig = Idig[np.random.permutation(n)]\n",
        "n = len(Inodig)\n",
        "Inodig = Inodig[np.random.permutation(n)]\n",
        "\n",
        "# Set the weight to the first digit\n",
        "w = Xtr[Idig[0],:]\n",
        "w = w / np.sum(np.abs(w))\n",
        "\n",
        "# Find the correlation coefficient with the other digits 7\n",
        "nplot = 8\n",
        "fig, ax = plt.subplots(2,nplot,figsize=(12, 6))\n",
        "rho = np.zeros(nplot)\n",
        "for i in range(nplot):\n",
        "    # Get a true and false digit\n",
        "    j0 = Idig[i]\n",
        "    j1 = Inodig[i]\n",
        "    x0 = Xtr[j0,:]\n",
        "    x1 = Xtr[j1,:]\n",
        "    \n",
        "    # Compute the correlations with the two digits\n",
        "    rho0 = w.dot(x0)\n",
        "    rho1 = w.dot(x1)\n",
        "    \n",
        "    plt_digit(ax[0,i], x0)    \n",
        "    ax[0,i].set_title('%5.3f' % rho0)\n",
        "    plt_digit(ax[1,i], x1)\n",
        "    ax[1,i].set_title('%5.3f' % rho1)\n",
        "\n",
        "plt.tight_layout()"
      ],
      "execution_count": 13,
      "outputs": [
        {
          "output_type": "display_data",
          "data": {
            "image/png": "[encoded data removed]",
            "text/plain": [
              "<Figure size 864x432 with 16 Axes>"
            ]
          },
          "metadata": {
            "tags": []
          }
        }
      ]
    },
    {
      "cell_type": "markdown",
      "metadata": {
        "id": "YVkPQvNmIfGI"
      },
      "source": [
        "**Run an SVM Classifier**"
      ]
    },
    {
      "cell_type": "code",
      "metadata": {
        "id": "YWfNmVS7IV-1"
      },
      "source": [
        "from sklearn import svm\n",
        "\n",
        "# Create a classifier: a support vector classifier\n",
        "# svc = svm.SVC(probability=False,  kernel=\"rbf\", C=2.8, gamma=.0073,verbose=10)\n",
        "svc = svm.SVC(probability=False,  kernel=\"linear\", C=2.8, gamma=.0073,verbose=10)"
      ],
      "execution_count": 14,
      "outputs": []
    },
    {
      "cell_type": "code",
      "metadata": {
        "id": "bLA3mxtcInOm",
        "outputId": "b5a4b762-5e7b-4bab-d07a-4df909eac970",
        "colab": {
          "base_uri": "https://localhost:8080/",
          "height": 87
        }
      },
      "source": [
        "ntr1 = 5000\n",
        "nts1 = 5000\n",
        "Xtr2 = Xtr[Iperm[:ntr1],:]\n",
        "ytr2 = ytr[Iperm[:ntr1]]\n",
        "Xts2 = Xts[Iperm_ts[:nts1],:]\n",
        "yts2 = yts[Iperm_ts[:nts1]]\n",
        "svc.fit(Xtr2,ytr2)"
      ],
      "execution_count": 15,
      "outputs": [
        {
          "output_type": "stream",
          "text": [
            "[LibSVM]"
          ],
          "name": "stdout"
        },
        {
          "output_type": "execute_result",
          "data": {
            "text/plain": [
              "SVC(C=2.8, break_ties=False, cache_size=200, class_weight=None, coef0=0.0,\n",
              "    decision_function_shape='ovr', degree=3, gamma=0.0073, kernel='linear',\n",
              "    max_iter=-1, probability=False, random_state=None, shrinking=True,\n",
              "    tol=0.001, verbose=10)"
            ]
          },
          "metadata": {
            "tags": []
          },
          "execution_count": 15
        }
      ]
    },
    {
      "cell_type": "code",
      "metadata": {
        "id": "ND2WZq4VI0ov"
      },
      "source": [
        "import pickle\n",
        "\n",
        "with open( \"mnist_svc.p\", \"wb\" ) as fp:\n",
        "    pickle.dump( [svc, Xtr1,ytr1], fp)"
      ],
      "execution_count": 16,
      "outputs": []
    },
    {
      "cell_type": "code",
      "metadata": {
        "id": "WpDJXlsaI7Bf"
      },
      "source": [
        "yhat_ts = svc.predict(Xts1)"
      ],
      "execution_count": 17,
      "outputs": []
    },
    {
      "cell_type": "code",
      "metadata": {
        "id": "XjS7n6tbJAYh"
      },
      "source": [
        "with open(\"mnist_svc_test.p\", \"wb\") as fp:\n",
        "    pickle.dump([Xts1,yts1,yhat_ts], fp)"
      ],
      "execution_count": 18,
      "outputs": []
    },
    {
      "cell_type": "code",
      "metadata": {
        "id": "5L0nxui9JJFz"
      },
      "source": [
        "with open(\"mnist_svc_test.p\", \"rb\") as fp:\n",
        "    Xts1,yts1,yhat_ts = pickle.load(fp)"
      ],
      "execution_count": 19,
      "outputs": []
    },
    {
      "cell_type": "code",
      "metadata": {
        "id": "L-K9ZMT8JKqY",
        "outputId": "664b5d18-5b8d-427d-8e0c-30b3882d01a0",
        "colab": {
          "base_uri": "https://localhost:8080/",
          "height": 35
        }
      },
      "source": [
        "acc = np.mean(yhat_ts == yts1)\n",
        "print('Accuaracy = {0:f}'.format(acc))"
      ],
      "execution_count": 20,
      "outputs": [
        {
          "output_type": "stream",
          "text": [
            "Accuaracy = 0.913800\n"
          ],
          "name": "stdout"
        }
      ]
    },
    {
      "cell_type": "markdown",
      "metadata": {
        "id": "aJ69o2OgJVaj"
      },
      "source": [
        "Visualizing support vectors"
      ]
    },
    {
      "cell_type": "code",
      "metadata": {
        "id": "Bcpb3hxNJMzq",
        "outputId": "01f1c43e-8de6-4c16-891c-4de4d8ee3bdc",
        "colab": {
          "base_uri": "https://localhost:8080/",
          "height": 35
        }
      },
      "source": [
        "S = svc.support_vectors_\n",
        "S.shape"
      ],
      "execution_count": 21,
      "outputs": [
        {
          "output_type": "execute_result",
          "data": {
            "text/plain": [
              "(1722, 784)"
            ]
          },
          "metadata": {
            "tags": []
          },
          "execution_count": 21
        }
      ]
    },
    {
      "cell_type": "code",
      "metadata": {
        "id": "4qnlmT-BKTJj",
        "outputId": "ed0c5dae-5a17-4a30-e2fe-537cae62eecc",
        "colab": {
          "base_uri": "https://localhost:8080/",
          "height": 156
        }
      },
      "source": [
        "nplt = 4\n",
        "nsv = S.shape[0]\n",
        "Iperms = np.random.permutation(nsv)\n",
        "fig, ax = plt.subplots(1,nplt,figsize=(10, 4))\n",
        "for i in range(nplt):                \n",
        "    ind = Iperms[i]\n",
        "    plt_digit(ax[i], S[ind,:])"
      ],
      "execution_count": 22,
      "outputs": [
        {
          "output_type": "display_data",
          "data": {
            "image/png": "[encoded data removed]",
            "text/plain": [
              "<Figure size 720x288 with 4 Axes>"
            ]
          },
          "metadata": {
            "tags": []
          }
        }
      ]
    },
    {
      "cell_type": "markdown",
      "metadata": {
        "id": "ARJy2JJaKYeT"
      },
      "source": [
        "Using the RBF Kernel"
      ]
    },
    {
      "cell_type": "code",
      "metadata": {
        "id": "FfXWmcYkKX1N"
      },
      "source": [
        "svcrbf = svm.SVC(probability=False,  kernel=\"rbf\", C=2.8, gamma=.0073,verbose=10)"
      ],
      "execution_count": 23,
      "outputs": []
    },
    {
      "cell_type": "code",
      "metadata": {
        "id": "ooQH7tKDKTuD",
        "outputId": "74b849ce-c6d1-4677-a7bf-7ebb075a6c8d",
        "colab": {
          "base_uri": "https://localhost:8080/",
          "height": 35
        }
      },
      "source": [
        "svcrbf.fit(Xtr1,ytr1)\n",
        "import pickle\n",
        "with open( \"mnist_svcrbf.p\", \"wb\" ) as fp:\n",
        "    pickle.dump( [svcrbf, Xtr1, ytr1], fp)"
      ],
      "execution_count": 24,
      "outputs": [
        {
          "output_type": "stream",
          "text": [
            "[LibSVM]"
          ],
          "name": "stdout"
        }
      ]
    },
    {
      "cell_type": "code",
      "metadata": {
        "id": "Qp5qyFBnKeVG"
      },
      "source": [
        "import pickle\n",
        "with open( \"mnist_svcrbf.p\", \"rb\" ) as fp:\n",
        "    svcrbf, Xtr1, ytr1 = pickle.load(fp)"
      ],
      "execution_count": 25,
      "outputs": []
    },
    {
      "cell_type": "code",
      "metadata": {
        "id": "W_cVbe3MKjuY"
      },
      "source": [
        "yhat_ts = svcrbf.predict(Xts1)\n",
        "\n",
        "with open(\"mnist_svcrbf_test.p\", \"wb\") as fp:\n",
        "    pickle.dump([yhat_ts,yts1,Xts1], fp)"
      ],
      "execution_count": 26,
      "outputs": []
    },
    {
      "cell_type": "code",
      "metadata": {
        "id": "qwpSUcIjKulE",
        "outputId": "7df6dc83-70a4-4b89-e669-6a9a85898d60",
        "colab": {
          "base_uri": "https://localhost:8080/",
          "height": 35
        }
      },
      "source": [
        "acc = np.mean(yhat_ts == yts1)\n",
        "print('Accuaracy = {0:f}'.format(acc))"
      ],
      "execution_count": 27,
      "outputs": [
        {
          "output_type": "stream",
          "text": [
            "Accuaracy = 0.965400\n"
          ],
          "name": "stdout"
        }
      ]
    },
    {
      "cell_type": "code",
      "metadata": {
        "id": "VgYgdwF3KyyR",
        "outputId": "92fe0f22-bce8-48f8-ec0c-1d8fec893ba1",
        "colab": {
          "base_uri": "https://localhost:8080/",
          "height": 172
        }
      },
      "source": [
        "Ierr = np.where((yhat_ts != yts1))[0]\n",
        "nplt = 4\n",
        "fig, ax = plt.subplots(1,nplt,figsize=(10, 4))\n",
        "for i in range(nplt):             \n",
        "    ind = Ierr[i]    \n",
        "    plt_digit(ax[i], Xts1[ind,:])        \n",
        "    title = 'true={0:d} est={1:d}'.format(yts1[ind].astype(int), yhat_ts[ind].astype(int))\n",
        "    ax[i].set_title(title)"
      ],
      "execution_count": 28,
      "outputs": [
        {
          "output_type": "display_data",
          "data": {
            "image/png": "[encoded data removed]",
            "text/plain": [
              "<Figure size 720x288 with 4 Axes>"
            ]
          },
          "metadata": {
            "tags": []
          }
        }
      ]
    },
    {
      "cell_type": "code",
      "metadata": {
        "id": "_6TGEJM4K2r9",
        "outputId": "a26f52c2-0e9e-4c0f-aff4-d6ef6dc816b1",
        "colab": {
          "base_uri": "https://localhost:8080/",
          "height": 35
        }
      },
      "source": [
        "S = svcrbf.support_vectors_\n",
        "S.shape"
      ],
      "execution_count": 29,
      "outputs": [
        {
          "output_type": "execute_result",
          "data": {
            "text/plain": [
              "(3000, 784)"
            ]
          },
          "metadata": {
            "tags": []
          },
          "execution_count": 29
        }
      ]
    },
    {
      "cell_type": "code",
      "metadata": {
        "id": "7IwY3r8uLBGD",
        "outputId": "0819729e-218a-4483-a5e3-067c29498f4d",
        "colab": {
          "base_uri": "https://localhost:8080/",
          "height": 156
        }
      },
      "source": [
        "nplt = 4\n",
        "nsv = S.shape[0]\n",
        "Iperms = np.random.permutation(nsv)\n",
        "fig, ax = plt.subplots(1,nplt,figsize=(10, 4))\n",
        "for i in range(nplt):        \n",
        "    ind = Iperms[i]\n",
        "    plt_digit(ax[i], S[ind,:])"
      ],
      "execution_count": 30,
      "outputs": [
        {
          "output_type": "display_data",
          "data": {
            "image/png": "[encoded data removed]",
            "text/plain": [
              "<Figure size 720x288 with 4 Axes>"
            ]
          },
          "metadata": {
            "tags": []
          }
        }
      ]
    }
  ]
}