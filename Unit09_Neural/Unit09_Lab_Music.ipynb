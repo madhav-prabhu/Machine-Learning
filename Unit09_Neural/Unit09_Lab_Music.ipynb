{
  "nbformat": 4,
  "nbformat_minor": 0,
  "metadata": {
    "colab": {
      "name": "Unit09_Lab_Music.ipynb",
      "provenance": [],
      "collapsed_sections": []
    },
    "kernelspec": {
      "name": "python3",
      "display_name": "Python 3"
    },
    "accelerator": "GPU"
  },
  "cells": [
    {
      "cell_type": "markdown",
      "metadata": {
        "id": "qTd6oz0hxvFT"
      },
      "source": [
        "# **Lab: Neural Networks for Music Classification**"
      ]
    },
    {
      "cell_type": "code",
      "metadata": {
        "id": "shHw29MzxnIz"
      },
      "source": [
        "import tensorflow as tf\n",
        "import numpy as np\n",
        "import matplotlib\n",
        "import matplotlib.pyplot as plt"
      ],
      "execution_count": 5,
      "outputs": []
    },
    {
      "cell_type": "markdown",
      "metadata": {
        "id": "nd4OLlUYznqK"
      },
      "source": [
        "Import Librosa for audio feature extraction"
      ]
    },
    {
      "cell_type": "code",
      "metadata": {
        "id": "7UjWRze4zgvg"
      },
      "source": [
        "import librosa\n",
        "import librosa.display\n",
        "import librosa.feature"
      ],
      "execution_count": 6,
      "outputs": []
    },
    {
      "cell_type": "code",
      "metadata": {
        "id": "l_RIWbE7zmkI"
      },
      "source": [
        "import requests\n",
        "fn = \"SopSax.Vib.pp.C6Eb6.aiff\"\n",
        "url = \"http://theremin.music.uiowa.edu/sound files/MIS/Woodwinds/sopranosaxophone/\"+fn\n",
        "r = requests.get(url, allow_redirects=True)\n",
        "\n",
        "open(fn, 'wb').write(r.content)\n",
        "\n",
        "y, sr = librosa.load(fn)"
      ],
      "execution_count": 7,
      "outputs": []
    },
    {
      "cell_type": "markdown",
      "metadata": {
        "id": "lD1ODvdR3msb"
      },
      "source": [
        "Displaying Mel Frequency Spectrogram "
      ]
    },
    {
      "cell_type": "code",
      "metadata": {
        "id": "ingA_fZ929kj",
        "outputId": "2c38d644-4739-4a80-8d5a-f4fee07b2b82",
        "colab": {
          "base_uri": "https://localhost:8080/",
          "height": 297
        }
      },
      "source": [
        "S = librosa.feature.melspectrogram(y=y, sr=sr, n_mels=128, fmax=8000)\n",
        "librosa.display.specshow(librosa.amplitude_to_db(S),\n",
        "                         y_axis='mel', fmax=8000, x_axis='time')\n",
        "plt.colorbar(format='%+2.0f dB')\n",
        "plt.title('Mel spectrogram')\n",
        "plt.tight_layout()"
      ],
      "execution_count": 8,
      "outputs": [
        {
          "output_type": "display_data",
          "data": {
            "image/png": "[encoded data removed]",
            "text/plain": [
              "<Figure size 432x288 with 2 Axes>"
            ]
          },
          "metadata": {
            "tags": [],
            "needs_background": "light"
          }
        }
      ]
    },
    {
      "cell_type": "markdown",
      "metadata": {
        "id": "RSyn9PIT4Bqq"
      },
      "source": [
        "Loading the data"
      ]
    },
    {
      "cell_type": "code",
      "metadata": {
        "id": "6bNbbGDx4l7s",
        "outputId": "2993fb3f-6946-4aa0-c3b5-94765b14f2d7",
        "colab": {
          "base_uri": "https://localhost:8080/"
        }
      },
      "source": [
        "from google.colab import drive\n",
        "\n",
        "drive.mount(\"/content/gdrive\")\n",
        "!gunzip -c \"./gdrive/My Drive/Datasets/instrument_dataset.tgz\"  | tar xf -"
      ],
      "execution_count": 9,
      "outputs": [
        {
          "output_type": "stream",
          "text": [
            "Mounted at /content/gdrive\n"
          ],
          "name": "stdout"
        }
      ]
    },
    {
      "cell_type": "code",
      "metadata": {
        "id": "ELSDbGY53LIO"
      },
      "source": [
        "data_dir = 'instrument_dataset/'\n",
        "Xtr = np.load(data_dir+'uiowa_train_data.npy')\n",
        "ytr = np.load(data_dir+'uiowa_train_labels.npy')\n",
        "Xts = np.load(data_dir+'uiowa_test_data.npy')\n",
        "yts = np.load(data_dir+'uiowa_test_labels.npy')"
      ],
      "execution_count": 10,
      "outputs": []
    },
    {
      "cell_type": "code",
      "metadata": {
        "id": "RzV_e76s5rzn",
        "outputId": "4ff79d71-93de-42ee-b0fb-1178ae726b60",
        "colab": {
          "base_uri": "https://localhost:8080/"
        }
      },
      "source": [
        "print(\"The number of training samples = {} and number of test samples = {}\".format(Xtr.shape[0], Xts.shape[0]))\n",
        "print(\"The number of features = {}\".format(Xtr.shape[1]))\n",
        "print(\"The number of classes = {}\".format(int(np.max(ytr)+1)))"
      ],
      "execution_count": 11,
      "outputs": [
        {
          "output_type": "stream",
          "text": [
            "The number of training samples = 66247 and number of test samples = 14904\n",
            "The number of features = 120\n",
            "The number of classes = 10\n"
          ],
          "name": "stdout"
        }
      ]
    },
    {
      "cell_type": "markdown",
      "metadata": {
        "id": "pMwKqJg-67iu"
      },
      "source": [
        "Scaling the test and training data"
      ]
    },
    {
      "cell_type": "code",
      "metadata": {
        "id": "7BuRmgmZ6f7V"
      },
      "source": [
        "from sklearn.preprocessing import StandardScaler\n",
        "\n",
        "scal = StandardScaler()\n",
        "Xtr_scale = scal.fit_transform(Xtr)\n",
        "Xts_scale = scal.transform(Xts)"
      ],
      "execution_count": 12,
      "outputs": []
    },
    {
      "cell_type": "markdown",
      "metadata": {
        "id": "cO-axXdcIuAE"
      },
      "source": [
        "Building a Neural Network Classifier"
      ]
    },
    {
      "cell_type": "code",
      "metadata": {
        "id": "isSMzqlaIwtw"
      },
      "source": [
        "from tensorflow.keras.models import Model, Sequential\n",
        "from tensorflow.keras.layers import Dense, Activation\n",
        "import tensorflow.keras.backend as K\n",
        "K.clear_session()"
      ],
      "execution_count": 13,
      "outputs": []
    },
    {
      "cell_type": "code",
      "metadata": {
        "id": "NhZA5o9GI7Zl"
      },
      "source": [
        "nh = 256\n",
        "nin = Xtr_scale.shape[1]  \n",
        "nout = int(np.max(ytr)+1)    \n",
        "model = Sequential()\n",
        "model.add(Dense(units=nh, input_shape=(nin,), activation='sigmoid', name='hidden'))\n",
        "model.add(Dense(units=nout, activation='softmax', name='output'))"
      ],
      "execution_count": 14,
      "outputs": []
    },
    {
      "cell_type": "code",
      "metadata": {
        "id": "3pIQfU8wK0KJ",
        "outputId": "65fd0a3a-e6d6-4749-da68-cae0307cf529",
        "colab": {
          "base_uri": "https://localhost:8080/"
        }
      },
      "source": [
        "model.summary()"
      ],
      "execution_count": 15,
      "outputs": [
        {
          "output_type": "stream",
          "text": [
            "Model: \"sequential\"\n",
            "_________________________________________________________________\n",
            "Layer (type)                 Output Shape              Param #   \n",
            "=================================================================\n",
            "hidden (Dense)               (None, 256)               30976     \n",
            "_________________________________________________________________\n",
            "output (Dense)               (None, 10)                2570      \n",
            "=================================================================\n",
            "Total params: 33,546\n",
            "Trainable params: 33,546\n",
            "Non-trainable params: 0\n",
            "_________________________________________________________________\n"
          ],
          "name": "stdout"
        }
      ]
    },
    {
      "cell_type": "code",
      "metadata": {
        "id": "-HCdQPuwK_81"
      },
      "source": [
        "from tensorflow.keras import optimizers\n",
        "\n",
        "opt = optimizers.Adam(lr=0.001) \n",
        "model.compile(optimizer=opt,\n",
        "              loss='sparse_categorical_crossentropy',\n",
        "              metrics=['accuracy'])"
      ],
      "execution_count": 16,
      "outputs": []
    },
    {
      "cell_type": "code",
      "metadata": {
        "id": "bNfYfTzdMpWG",
        "outputId": "088e00e9-0ee9-425a-ec7a-01141b190198",
        "colab": {
          "base_uri": "https://localhost:8080/"
        }
      },
      "source": [
        "hist = model.fit(Xtr_scale, ytr, epochs=10, batch_size=100, validation_data=(Xts_scale,yts))"
      ],
      "execution_count": 17,
      "outputs": [
        {
          "output_type": "stream",
          "text": [
            "Epoch 1/10\n",
            "663/663 [==============================] - 2s 3ms/step - loss: 0.3689 - accuracy: 0.9000 - val_loss: 0.1914 - val_accuracy: 0.9448\n",
            "Epoch 2/10\n",
            "663/663 [==============================] - 2s 2ms/step - loss: 0.1020 - accuracy: 0.9753 - val_loss: 0.1050 - val_accuracy: 0.9685\n",
            "Epoch 3/10\n",
            "663/663 [==============================] - 2s 2ms/step - loss: 0.0602 - accuracy: 0.9855 - val_loss: 0.0623 - val_accuracy: 0.9849\n",
            "Epoch 4/10\n",
            "663/663 [==============================] - 2s 2ms/step - loss: 0.0429 - accuracy: 0.9893 - val_loss: 0.0574 - val_accuracy: 0.9849\n",
            "Epoch 5/10\n",
            "663/663 [==============================] - 2s 2ms/step - loss: 0.0322 - accuracy: 0.9916 - val_loss: 0.0379 - val_accuracy: 0.9899\n",
            "Epoch 6/10\n",
            "663/663 [==============================] - 2s 2ms/step - loss: 0.0260 - accuracy: 0.9932 - val_loss: 0.0348 - val_accuracy: 0.9906\n",
            "Epoch 7/10\n",
            "663/663 [==============================] - 2s 2ms/step - loss: 0.0213 - accuracy: 0.9943 - val_loss: 0.0334 - val_accuracy: 0.9892\n",
            "Epoch 8/10\n",
            "663/663 [==============================] - 2s 2ms/step - loss: 0.0179 - accuracy: 0.9954 - val_loss: 0.0284 - val_accuracy: 0.9911\n",
            "Epoch 9/10\n",
            "663/663 [==============================] - 2s 2ms/step - loss: 0.0152 - accuracy: 0.9959 - val_loss: 0.0282 - val_accuracy: 0.9906\n",
            "Epoch 10/10\n",
            "663/663 [==============================] - 2s 2ms/step - loss: 0.0132 - accuracy: 0.9964 - val_loss: 0.0249 - val_accuracy: 0.9925\n"
          ],
          "name": "stdout"
        }
      ]
    },
    {
      "cell_type": "code",
      "metadata": {
        "id": "OC2rcV8uNFVn",
        "outputId": "a5f19968-fd5d-4359-e7c3-aa50a3697dca",
        "colab": {
          "base_uri": "https://localhost:8080/",
          "height": 298
        }
      },
      "source": [
        "tr_accuracy = hist.history['accuracy']\n",
        "val_accuracy = hist.history['val_accuracy']\n",
        "\n",
        "plt.plot(tr_accuracy)\n",
        "plt.plot(val_accuracy)\n",
        "plt.grid()\n",
        "plt.xlabel('epochs')\n",
        "plt.ylabel('accuarcy')\n",
        "plt.legend(['training accuracy', 'validation accuracy'])"
      ],
      "execution_count": 18,
      "outputs": [
        {
          "output_type": "execute_result",
          "data": {
            "text/plain": [
              "<matplotlib.legend.Legend at 0x7f40c0346a90>"
            ]
          },
          "metadata": {
            "tags": []
          },
          "execution_count": 18
        },
        {
          "output_type": "display_data",
          "data": {
            "image/png": "[encoded data removed]",
            "text/plain": [
              "<Figure size 432x288 with 1 Axes>"
            ]
          },
          "metadata": {
            "tags": [],
            "needs_background": "light"
          }
        }
      ]
    },
    {
      "cell_type": "code",
      "metadata": {
        "id": "ZH8Abvz6OQHJ",
        "outputId": "0e05dad7-bc26-4735-8af4-1b9a652f447d",
        "colab": {
          "base_uri": "https://localhost:8080/",
          "height": 328
        }
      },
      "source": [
        "loss = hist.history['loss']\n",
        "\n",
        "plt.semilogy(loss)\n",
        "plt.grid()\n",
        "plt.tight_layout()\n",
        "plt.xlabel('epochs')\n",
        "plt.ylabel('loss')"
      ],
      "execution_count": 19,
      "outputs": [
        {
          "output_type": "execute_result",
          "data": {
            "text/plain": [
              "Text(18.50828125, 0.5, 'loss')"
            ]
          },
          "metadata": {
            "tags": []
          },
          "execution_count": 19
        },
        {
          "output_type": "display_data",
          "data": {
            "image/png": "[encoded data removed]",
            "text/plain": [
              "<Figure size 432x288 with 1 Axes>"
            ]
          },
          "metadata": {
            "tags": [],
            "needs_background": "light"
          }
        }
      ]
    },
    {
      "cell_type": "markdown",
      "metadata": {
        "id": "u2rBsAhPO-tO"
      },
      "source": [
        "Optimizing the learning rate"
      ]
    },
    {
      "cell_type": "code",
      "metadata": {
        "id": "9hFvyirzPAir",
        "outputId": "e0cd6c6b-f5c8-423c-b1b7-31109c8cefee",
        "colab": {
          "base_uri": "https://localhost:8080/"
        }
      },
      "source": [
        "rates = [0.01,0.001,0.0001]\n",
        "batch_size = 100\n",
        "loss_hist = []\n",
        "acc_hist = []\n",
        "\n",
        "for lr in rates:\n",
        "  \n",
        "  K.clear_session()\n",
        "\n",
        "  print(\"--------------------------For lr={}--------------------------\".format(lr))\n",
        "  opt = optimizers.Adam(lr=lr) \n",
        "  \n",
        "  model.compile(optimizer=opt, loss='sparse_categorical_crossentropy', metrics=['accuracy'])\n",
        "  \n",
        "  hist = model.fit(Xtr_scale, ytr, epochs=20, batch_size=100, validation_data=(Xts_scale,yts))\n",
        "\n",
        "  loss_hist.append(hist.history['loss'])\n",
        "  acc_hist.append(hist.history['accuracy'])\n",
        "  "
      ],
      "execution_count": 20,
      "outputs": [
        {
          "output_type": "stream",
          "text": [
            "--------------------------For lr=0.01--------------------------\n",
            "Epoch 1/20\n",
            "663/663 [==============================] - 2s 3ms/step - loss: 0.0317 - accuracy: 0.9897 - val_loss: 0.0227 - val_accuracy: 0.9914\n",
            "Epoch 2/20\n",
            "663/663 [==============================] - 2s 2ms/step - loss: 0.0218 - accuracy: 0.9928 - val_loss: 0.0488 - val_accuracy: 0.9820\n",
            "Epoch 3/20\n",
            "663/663 [==============================] - 2s 2ms/step - loss: 0.0229 - accuracy: 0.9928 - val_loss: 0.0704 - val_accuracy: 0.9776\n",
            "Epoch 4/20\n",
            "663/663 [==============================] - 2s 2ms/step - loss: 0.0153 - accuracy: 0.9950 - val_loss: 0.0620 - val_accuracy: 0.9835\n",
            "Epoch 5/20\n",
            "663/663 [==============================] - 2s 2ms/step - loss: 0.0183 - accuracy: 0.9941 - val_loss: 0.0380 - val_accuracy: 0.9882\n",
            "Epoch 6/20\n",
            "663/663 [==============================] - 2s 2ms/step - loss: 0.0153 - accuracy: 0.9952 - val_loss: 0.0492 - val_accuracy: 0.9873\n",
            "Epoch 7/20\n",
            "663/663 [==============================] - 2s 2ms/step - loss: 0.0129 - accuracy: 0.9961 - val_loss: 0.0301 - val_accuracy: 0.9910\n",
            "Epoch 8/20\n",
            "663/663 [==============================] - 2s 2ms/step - loss: 0.0115 - accuracy: 0.9961 - val_loss: 0.1011 - val_accuracy: 0.9783\n",
            "Epoch 9/20\n",
            "663/663 [==============================] - 2s 2ms/step - loss: 0.0113 - accuracy: 0.9965 - val_loss: 0.0705 - val_accuracy: 0.9840\n",
            "Epoch 10/20\n",
            "663/663 [==============================] - 2s 2ms/step - loss: 0.0109 - accuracy: 0.9968 - val_loss: 0.0497 - val_accuracy: 0.9871\n",
            "Epoch 11/20\n",
            "663/663 [==============================] - 2s 2ms/step - loss: 0.0127 - accuracy: 0.9960 - val_loss: 0.1357 - val_accuracy: 0.9737\n",
            "Epoch 12/20\n",
            "663/663 [==============================] - 2s 2ms/step - loss: 0.0098 - accuracy: 0.9971 - val_loss: 0.0512 - val_accuracy: 0.9885\n",
            "Epoch 13/20\n",
            "663/663 [==============================] - 2s 2ms/step - loss: 0.0085 - accuracy: 0.9974 - val_loss: 0.0717 - val_accuracy: 0.9820\n",
            "Epoch 14/20\n",
            "663/663 [==============================] - 2s 2ms/step - loss: 0.0129 - accuracy: 0.9964 - val_loss: 0.0447 - val_accuracy: 0.9886\n",
            "Epoch 15/20\n",
            "663/663 [==============================] - 2s 2ms/step - loss: 0.0105 - accuracy: 0.9967 - val_loss: 0.0370 - val_accuracy: 0.9924\n",
            "Epoch 16/20\n",
            "663/663 [==============================] - 2s 2ms/step - loss: 0.0124 - accuracy: 0.9965 - val_loss: 0.0447 - val_accuracy: 0.9893\n",
            "Epoch 17/20\n",
            "663/663 [==============================] - 2s 2ms/step - loss: 0.0079 - accuracy: 0.9974 - val_loss: 0.0726 - val_accuracy: 0.9850\n",
            "Epoch 18/20\n",
            "663/663 [==============================] - 2s 2ms/step - loss: 0.0061 - accuracy: 0.9981 - val_loss: 0.0599 - val_accuracy: 0.9873\n",
            "Epoch 19/20\n",
            "663/663 [==============================] - 2s 2ms/step - loss: 0.0089 - accuracy: 0.9973 - val_loss: 0.0728 - val_accuracy: 0.9864\n",
            "Epoch 20/20\n",
            "663/663 [==============================] - 2s 2ms/step - loss: 0.0111 - accuracy: 0.9971 - val_loss: 0.0778 - val_accuracy: 0.9864\n",
            "--------------------------For lr=0.001--------------------------\n",
            "Epoch 1/20\n",
            "663/663 [==============================] - 2s 3ms/step - loss: 0.0017 - accuracy: 0.9995 - val_loss: 0.0374 - val_accuracy: 0.9919\n",
            "Epoch 2/20\n",
            "663/663 [==============================] - 2s 2ms/step - loss: 8.5796e-04 - accuracy: 0.9997 - val_loss: 0.0395 - val_accuracy: 0.9911\n",
            "Epoch 3/20\n",
            "663/663 [==============================] - 2s 2ms/step - loss: 5.2578e-04 - accuracy: 0.9998 - val_loss: 0.0411 - val_accuracy: 0.9913\n",
            "Epoch 4/20\n",
            "663/663 [==============================] - 2s 2ms/step - loss: 6.3919e-04 - accuracy: 0.9998 - val_loss: 0.0382 - val_accuracy: 0.9918\n",
            "Epoch 5/20\n",
            "663/663 [==============================] - 2s 2ms/step - loss: 3.6435e-04 - accuracy: 0.9999 - val_loss: 0.0409 - val_accuracy: 0.9912\n",
            "Epoch 6/20\n",
            "663/663 [==============================] - 2s 2ms/step - loss: 4.0926e-04 - accuracy: 0.9999 - val_loss: 0.0442 - val_accuracy: 0.9905\n",
            "Epoch 7/20\n",
            "663/663 [==============================] - 2s 2ms/step - loss: 4.0200e-04 - accuracy: 0.9999 - val_loss: 0.0395 - val_accuracy: 0.9915\n",
            "Epoch 8/20\n",
            "663/663 [==============================] - 2s 2ms/step - loss: 3.7519e-04 - accuracy: 0.9998 - val_loss: 0.0394 - val_accuracy: 0.9913\n",
            "Epoch 9/20\n",
            "663/663 [==============================] - 2s 2ms/step - loss: 3.4650e-04 - accuracy: 0.9999 - val_loss: 0.0413 - val_accuracy: 0.9911\n",
            "Epoch 10/20\n",
            "663/663 [==============================] - 2s 2ms/step - loss: 3.3341e-04 - accuracy: 0.9998 - val_loss: 0.0404 - val_accuracy: 0.9913\n",
            "Epoch 11/20\n",
            "663/663 [==============================] - 2s 2ms/step - loss: 3.2381e-04 - accuracy: 0.9999 - val_loss: 0.0386 - val_accuracy: 0.9917\n",
            "Epoch 12/20\n",
            "663/663 [==============================] - 2s 2ms/step - loss: 2.6320e-04 - accuracy: 1.0000 - val_loss: 0.0383 - val_accuracy: 0.9917\n",
            "Epoch 13/20\n",
            "663/663 [==============================] - 2s 2ms/step - loss: 2.2698e-04 - accuracy: 0.9999 - val_loss: 0.0489 - val_accuracy: 0.9901\n",
            "Epoch 14/20\n",
            "663/663 [==============================] - 2s 2ms/step - loss: 3.5045e-04 - accuracy: 0.9999 - val_loss: 0.0422 - val_accuracy: 0.9910\n",
            "Epoch 15/20\n",
            "663/663 [==============================] - 2s 2ms/step - loss: 2.2229e-04 - accuracy: 0.9999 - val_loss: 0.0399 - val_accuracy: 0.9917\n",
            "Epoch 16/20\n",
            "663/663 [==============================] - 2s 3ms/step - loss: 1.6652e-04 - accuracy: 1.0000 - val_loss: 0.0409 - val_accuracy: 0.9918\n",
            "Epoch 17/20\n",
            "663/663 [==============================] - 2s 3ms/step - loss: 2.6745e-04 - accuracy: 0.9999 - val_loss: 0.0377 - val_accuracy: 0.9922\n",
            "Epoch 18/20\n",
            "663/663 [==============================] - 2s 3ms/step - loss: 2.7917e-04 - accuracy: 0.9999 - val_loss: 0.0424 - val_accuracy: 0.9917\n",
            "Epoch 19/20\n",
            "663/663 [==============================] - 2s 3ms/step - loss: 1.6591e-04 - accuracy: 1.0000 - val_loss: 0.0386 - val_accuracy: 0.9923\n",
            "Epoch 20/20\n",
            "663/663 [==============================] - 2s 3ms/step - loss: 2.4508e-04 - accuracy: 0.9999 - val_loss: 0.0399 - val_accuracy: 0.9920\n",
            "--------------------------For lr=0.0001--------------------------\n",
            "Epoch 1/20\n",
            "663/663 [==============================] - 2s 3ms/step - loss: 9.8069e-05 - accuracy: 1.0000 - val_loss: 0.0391 - val_accuracy: 0.9922\n",
            "Epoch 2/20\n",
            "663/663 [==============================] - 2s 2ms/step - loss: 8.6704e-05 - accuracy: 1.0000 - val_loss: 0.0385 - val_accuracy: 0.9924\n",
            "Epoch 3/20\n",
            "663/663 [==============================] - 2s 2ms/step - loss: 7.5386e-05 - accuracy: 1.0000 - val_loss: 0.0389 - val_accuracy: 0.9922\n",
            "Epoch 4/20\n",
            "663/663 [==============================] - 2s 2ms/step - loss: 7.8819e-05 - accuracy: 1.0000 - val_loss: 0.0397 - val_accuracy: 0.9921\n",
            "Epoch 5/20\n",
            "663/663 [==============================] - 2s 2ms/step - loss: 7.3842e-05 - accuracy: 1.0000 - val_loss: 0.0390 - val_accuracy: 0.9921\n",
            "Epoch 6/20\n",
            "663/663 [==============================] - 2s 2ms/step - loss: 7.6719e-05 - accuracy: 1.0000 - val_loss: 0.0394 - val_accuracy: 0.9921\n",
            "Epoch 7/20\n",
            "663/663 [==============================] - 2s 2ms/step - loss: 7.2462e-05 - accuracy: 1.0000 - val_loss: 0.0393 - val_accuracy: 0.9922\n",
            "Epoch 8/20\n",
            "663/663 [==============================] - 2s 2ms/step - loss: 6.9913e-05 - accuracy: 1.0000 - val_loss: 0.0394 - val_accuracy: 0.9919\n",
            "Epoch 9/20\n",
            "663/663 [==============================] - 2s 2ms/step - loss: 6.9526e-05 - accuracy: 1.0000 - val_loss: 0.0393 - val_accuracy: 0.9921\n",
            "Epoch 10/20\n",
            "663/663 [==============================] - 2s 2ms/step - loss: 7.2583e-05 - accuracy: 1.0000 - val_loss: 0.0401 - val_accuracy: 0.9919\n",
            "Epoch 11/20\n",
            "663/663 [==============================] - 2s 2ms/step - loss: 6.5314e-05 - accuracy: 1.0000 - val_loss: 0.0390 - val_accuracy: 0.9921\n",
            "Epoch 12/20\n",
            "663/663 [==============================] - 2s 2ms/step - loss: 6.8896e-05 - accuracy: 1.0000 - val_loss: 0.0392 - val_accuracy: 0.9921\n",
            "Epoch 13/20\n",
            "663/663 [==============================] - 2s 2ms/step - loss: 6.3870e-05 - accuracy: 1.0000 - val_loss: 0.0400 - val_accuracy: 0.9919\n",
            "Epoch 14/20\n",
            "663/663 [==============================] - 2s 2ms/step - loss: 6.7510e-05 - accuracy: 1.0000 - val_loss: 0.0397 - val_accuracy: 0.9919\n",
            "Epoch 15/20\n",
            "663/663 [==============================] - 2s 2ms/step - loss: 6.9548e-05 - accuracy: 1.0000 - val_loss: 0.0398 - val_accuracy: 0.9919\n",
            "Epoch 16/20\n",
            "663/663 [==============================] - 2s 2ms/step - loss: 6.4600e-05 - accuracy: 1.0000 - val_loss: 0.0391 - val_accuracy: 0.9922\n",
            "Epoch 17/20\n",
            "663/663 [==============================] - 2s 2ms/step - loss: 5.9695e-05 - accuracy: 1.0000 - val_loss: 0.0393 - val_accuracy: 0.9922\n",
            "Epoch 18/20\n",
            "663/663 [==============================] - 2s 2ms/step - loss: 6.4436e-05 - accuracy: 1.0000 - val_loss: 0.0390 - val_accuracy: 0.9923\n",
            "Epoch 19/20\n",
            "663/663 [==============================] - 2s 2ms/step - loss: 6.1118e-05 - accuracy: 1.0000 - val_loss: 0.0390 - val_accuracy: 0.9921\n",
            "Epoch 20/20\n",
            "663/663 [==============================] - 2s 2ms/step - loss: 5.7219e-05 - accuracy: 1.0000 - val_loss: 0.0390 - val_accuracy: 0.9923\n"
          ],
          "name": "stdout"
        }
      ]
    },
    {
      "cell_type": "code",
      "metadata": {
        "id": "J5v7U--JS41t",
        "outputId": "c9e8316a-8cba-49ba-83c7-a19bac994806",
        "colab": {
          "base_uri": "https://localhost:8080/",
          "height": 328
        }
      },
      "source": [
        "plt.semilogy(loss_hist[0])\n",
        "plt.semilogy(loss_hist[1])\n",
        "plt.semilogy(loss_hist[2])\n",
        "plt.grid()\n",
        "plt.tight_layout()\n",
        "plt.xlabel('epochs')\n",
        "plt.ylabel('loss')\n",
        "plt.legend(['lr=0.01','lr=0.001','lr=0.0001'])"
      ],
      "execution_count": 21,
      "outputs": [
        {
          "output_type": "execute_result",
          "data": {
            "text/plain": [
              "<matplotlib.legend.Legend at 0x7f406c2a15f8>"
            ]
          },
          "metadata": {
            "tags": []
          },
          "execution_count": 21
        },
        {
          "output_type": "display_data",
          "data": {
            "image/png": "[encoded data removed]",
            "text/plain": [
              "<Figure size 432x288 with 1 Axes>"
            ]
          },
          "metadata": {
            "tags": [],
            "needs_background": "light"
          }
        }
      ]
    }
  ]
}