{
  "nbformat": 4,
  "nbformat_minor": 0,
  "metadata": {
    "colab": {
      "name": "Unit09_Demo2_MNIST.ipynb",
      "provenance": [],
      "collapsed_sections": []
    },
    "kernelspec": {
      "name": "python3",
      "display_name": "Python 3"
    }
  },
  "cells": [
    {
      "cell_type": "markdown",
      "metadata": {
        "id": "P7OMYVRrvX6n"
      },
      "source": [
        "# **MNIST Classification using Neural Network**"
      ]
    },
    {
      "cell_type": "code",
      "metadata": {
        "id": "Gq1f8JLElURJ"
      },
      "source": [
        "import tensorflow as tf\n",
        "import numpy as np\n",
        "import matplotlib.pyplot as plt"
      ],
      "execution_count": 1,
      "outputs": []
    },
    {
      "cell_type": "markdown",
      "metadata": {
        "id": "XQU7S6b_vnQf"
      },
      "source": [
        "Loading and processing data"
      ]
    },
    {
      "cell_type": "code",
      "metadata": {
        "id": "JdUzdphqvjpU",
        "outputId": "ad64bc90-ae33-451c-f27a-651c7ad2272f",
        "colab": {
          "base_uri": "https://localhost:8080/"
        }
      },
      "source": [
        "(Xtr,ytr),(Xts,yts) = tf.keras.datasets.mnist.load_data()\n",
        "\n",
        "Xtr = 2*(Xtr/255 - 0.5)\n",
        "ntr, nrow, ncol = Xtr.shape\n",
        "Xtr = Xtr.reshape((ntr,nrow*ncol))\n",
        "\n",
        "Xts = 2*(Xts/255 - 0.5)\n",
        "nts, nrow, ncol = Xts.shape\n",
        "Xts = Xts.reshape((nts,nrow*ncol))"
      ],
      "execution_count": 2,
      "outputs": [
        {
          "output_type": "stream",
          "text": [
            "Downloading data from https://storage.googleapis.com/tensorflow/tf-keras-datasets/mnist.npz\n",
            "11493376/11490434 [==============================] - 0s 0us/step\n"
          ],
          "name": "stdout"
        }
      ]
    },
    {
      "cell_type": "code",
      "metadata": {
        "id": "X75Be-wavpp7",
        "outputId": "3bb161b2-aafe-4382-af86-2afef40807bb",
        "colab": {
          "base_uri": "https://localhost:8080/",
          "height": 95
        }
      },
      "source": [
        "def plt_digit(ax, x):\n",
        "    nrow = 28\n",
        "    ncol = 28\n",
        "    xsq = x.reshape((nrow,ncol))\n",
        "    ax.imshow(xsq,  cmap='Greys_r')\n",
        "    ax.set_xticks([])\n",
        "    ax.set_yticks([])\n",
        "    \n",
        "# Select random digits\n",
        "nplt = 4\n",
        "nsamp = Xtr.shape[0]\n",
        "Iperm = np.random.permutation(nsamp)\n",
        "\n",
        "# Plot the images using the subplot command\n",
        "fig, ax = plt.subplots(1,nplt, figsize=(5,10))\n",
        "for i in range(nplt):\n",
        "    ind = Iperm[i]    \n",
        "    plt_digit(ax[i], Xtr[ind,:])"
      ],
      "execution_count": 3,
      "outputs": [
        {
          "output_type": "display_data",
          "data": {
            "image/png": "[encoded data removed]",
            "text/plain": [
              "<Figure size 360x720 with 4 Axes>"
            ]
          },
          "metadata": {
            "tags": []
          }
        }
      ]
    },
    {
      "cell_type": "markdown",
      "metadata": {
        "id": "LTggAAIyvwoe"
      },
      "source": [
        "Creating a simple Neural Network"
      ]
    },
    {
      "cell_type": "code",
      "metadata": {
        "id": "WDXYL-gbvuoi"
      },
      "source": [
        "from tensorflow.keras.models import Model, Sequential\n",
        "from tensorflow.keras.layers import Dense, Activation\n",
        "import tensorflow.keras.backend as K\n",
        "K.clear_session()"
      ],
      "execution_count": 4,
      "outputs": []
    },
    {
      "cell_type": "code",
      "metadata": {
        "id": "yfPuy2xewATw"
      },
      "source": [
        "nin = Xtr.shape[1]  # dimension of input data\n",
        "nh = 100     # number of hidden units\n",
        "nout = int(np.max(ytr)+1)    # number of outputs = 10 since there are 10 classes\n",
        "model = Sequential()\n",
        "model.add(Dense(units=nh, input_shape=(nin,), activation='sigmoid', name='hidden'))\n",
        "model.add(Dense(units=nout, activation='softmax', name='output'))"
      ],
      "execution_count": 5,
      "outputs": []
    },
    {
      "cell_type": "code",
      "metadata": {
        "id": "87tgLLx9wLEM",
        "outputId": "0d96a749-5163-44e6-9794-05b0c97b708e",
        "colab": {
          "base_uri": "https://localhost:8080/"
        }
      },
      "source": [
        "model.summary()"
      ],
      "execution_count": 6,
      "outputs": [
        {
          "output_type": "stream",
          "text": [
            "Model: \"sequential\"\n",
            "_________________________________________________________________\n",
            "Layer (type)                 Output Shape              Param #   \n",
            "=================================================================\n",
            "hidden (Dense)               (None, 100)               78500     \n",
            "_________________________________________________________________\n",
            "output (Dense)               (None, 10)                1010      \n",
            "=================================================================\n",
            "Total params: 79,510\n",
            "Trainable params: 79,510\n",
            "Non-trainable params: 0\n",
            "_________________________________________________________________\n"
          ],
          "name": "stdout"
        }
      ]
    },
    {
      "cell_type": "markdown",
      "metadata": {
        "id": "J1vRa9JlwPLG"
      },
      "source": [
        "Training the network"
      ]
    },
    {
      "cell_type": "code",
      "metadata": {
        "id": "flGx1y1EwNOr"
      },
      "source": [
        "from tensorflow.keras import optimizers\n",
        "\n",
        "opt = optimizers.Adam(lr=0.001) \n",
        "model.compile(optimizer=opt,\n",
        "              loss='sparse_categorical_crossentropy',\n",
        "              metrics=['accuracy'])"
      ],
      "execution_count": 7,
      "outputs": []
    },
    {
      "cell_type": "code",
      "metadata": {
        "id": "cynYEB7WwTw8",
        "outputId": "8bbbdfc3-76a9-460b-f13f-fee618e26b62",
        "colab": {
          "base_uri": "https://localhost:8080/"
        }
      },
      "source": [
        "hist = model.fit(Xtr, ytr, epochs=30, batch_size=100, validation_data=(Xts,yts))"
      ],
      "execution_count": 8,
      "outputs": [
        {
          "output_type": "stream",
          "text": [
            "Epoch 1/30\n",
            "600/600 [==============================] - 2s 3ms/step - loss: 0.5116 - accuracy: 0.8702 - val_loss: 0.2817 - val_accuracy: 0.9223\n",
            "Epoch 2/30\n",
            "600/600 [==============================] - 2s 3ms/step - loss: 0.2548 - accuracy: 0.9265 - val_loss: 0.2170 - val_accuracy: 0.9382\n",
            "Epoch 3/30\n",
            "600/600 [==============================] - 2s 3ms/step - loss: 0.1987 - accuracy: 0.9432 - val_loss: 0.1789 - val_accuracy: 0.9503\n",
            "Epoch 4/30\n",
            "600/600 [==============================] - 2s 3ms/step - loss: 0.1639 - accuracy: 0.9541 - val_loss: 0.1568 - val_accuracy: 0.9535\n",
            "Epoch 5/30\n",
            "600/600 [==============================] - 2s 3ms/step - loss: 0.1385 - accuracy: 0.9620 - val_loss: 0.1395 - val_accuracy: 0.9600\n",
            "Epoch 6/30\n",
            "600/600 [==============================] - 2s 3ms/step - loss: 0.1207 - accuracy: 0.9668 - val_loss: 0.1242 - val_accuracy: 0.9642\n",
            "Epoch 7/30\n",
            "600/600 [==============================] - 2s 3ms/step - loss: 0.1077 - accuracy: 0.9700 - val_loss: 0.1178 - val_accuracy: 0.9651\n",
            "Epoch 8/30\n",
            "600/600 [==============================] - 2s 3ms/step - loss: 0.0956 - accuracy: 0.9736 - val_loss: 0.1123 - val_accuracy: 0.9670\n",
            "Epoch 9/30\n",
            "600/600 [==============================] - 2s 3ms/step - loss: 0.0860 - accuracy: 0.9766 - val_loss: 0.1016 - val_accuracy: 0.9692\n",
            "Epoch 10/30\n",
            "600/600 [==============================] - 2s 3ms/step - loss: 0.0782 - accuracy: 0.9783 - val_loss: 0.0994 - val_accuracy: 0.9708\n",
            "Epoch 11/30\n",
            "600/600 [==============================] - 2s 3ms/step - loss: 0.0712 - accuracy: 0.9805 - val_loss: 0.0984 - val_accuracy: 0.9698\n",
            "Epoch 12/30\n",
            "600/600 [==============================] - 2s 3ms/step - loss: 0.0667 - accuracy: 0.9815 - val_loss: 0.0961 - val_accuracy: 0.9716\n",
            "Epoch 13/30\n",
            "600/600 [==============================] - 2s 3ms/step - loss: 0.0605 - accuracy: 0.9834 - val_loss: 0.0885 - val_accuracy: 0.9735\n",
            "Epoch 14/30\n",
            "600/600 [==============================] - 2s 3ms/step - loss: 0.0563 - accuracy: 0.9850 - val_loss: 0.0853 - val_accuracy: 0.9753\n",
            "Epoch 15/30\n",
            "600/600 [==============================] - 2s 3ms/step - loss: 0.0509 - accuracy: 0.9864 - val_loss: 0.0933 - val_accuracy: 0.9720\n",
            "Epoch 16/30\n",
            "600/600 [==============================] - 2s 3ms/step - loss: 0.0469 - accuracy: 0.9876 - val_loss: 0.0826 - val_accuracy: 0.9753\n",
            "Epoch 17/30\n",
            "600/600 [==============================] - 2s 3ms/step - loss: 0.0432 - accuracy: 0.9884 - val_loss: 0.0915 - val_accuracy: 0.9724\n",
            "Epoch 18/30\n",
            "600/600 [==============================] - 2s 3ms/step - loss: 0.0415 - accuracy: 0.9888 - val_loss: 0.0904 - val_accuracy: 0.9724\n",
            "Epoch 19/30\n",
            "600/600 [==============================] - 2s 3ms/step - loss: 0.0374 - accuracy: 0.9903 - val_loss: 0.0849 - val_accuracy: 0.9747\n",
            "Epoch 20/30\n",
            "600/600 [==============================] - 2s 3ms/step - loss: 0.0353 - accuracy: 0.9913 - val_loss: 0.0847 - val_accuracy: 0.9753\n",
            "Epoch 21/30\n",
            "600/600 [==============================] - 2s 3ms/step - loss: 0.0326 - accuracy: 0.9918 - val_loss: 0.0806 - val_accuracy: 0.9740\n",
            "Epoch 22/30\n",
            "600/600 [==============================] - 2s 3ms/step - loss: 0.0306 - accuracy: 0.9919 - val_loss: 0.0921 - val_accuracy: 0.9721\n",
            "Epoch 23/30\n",
            "600/600 [==============================] - 2s 3ms/step - loss: 0.0273 - accuracy: 0.9935 - val_loss: 0.0889 - val_accuracy: 0.9732\n",
            "Epoch 24/30\n",
            "600/600 [==============================] - 2s 3ms/step - loss: 0.0258 - accuracy: 0.9941 - val_loss: 0.0803 - val_accuracy: 0.9744\n",
            "Epoch 25/30\n",
            "600/600 [==============================] - 2s 3ms/step - loss: 0.0248 - accuracy: 0.9939 - val_loss: 0.0835 - val_accuracy: 0.9753\n",
            "Epoch 26/30\n",
            "600/600 [==============================] - 2s 3ms/step - loss: 0.0223 - accuracy: 0.9951 - val_loss: 0.0902 - val_accuracy: 0.9724\n",
            "Epoch 27/30\n",
            "600/600 [==============================] - 2s 3ms/step - loss: 0.0206 - accuracy: 0.9956 - val_loss: 0.0835 - val_accuracy: 0.9748\n",
            "Epoch 28/30\n",
            "600/600 [==============================] - 2s 3ms/step - loss: 0.0198 - accuracy: 0.9958 - val_loss: 0.1002 - val_accuracy: 0.9719\n",
            "Epoch 29/30\n",
            "600/600 [==============================] - 2s 3ms/step - loss: 0.0190 - accuracy: 0.9958 - val_loss: 0.0902 - val_accuracy: 0.9739\n",
            "Epoch 30/30\n",
            "600/600 [==============================] - 2s 3ms/step - loss: 0.0168 - accuracy: 0.9966 - val_loss: 0.0822 - val_accuracy: 0.9763\n"
          ],
          "name": "stdout"
        }
      ]
    },
    {
      "cell_type": "markdown",
      "metadata": {
        "id": "4B0lwNpHwrxH"
      },
      "source": [
        "Plotting the training and validation accuracy"
      ]
    },
    {
      "cell_type": "code",
      "metadata": {
        "id": "etPHkDRYwWNb",
        "outputId": "ac792ba8-31a8-4782-adb1-da87af03d3dd",
        "colab": {
          "base_uri": "https://localhost:8080/",
          "height": 296
        }
      },
      "source": [
        "tr_accuracy = hist.history['accuracy']\n",
        "val_accuracy = hist.history['val_accuracy']\n",
        "\n",
        "plt.plot(tr_accuracy)\n",
        "plt.plot(val_accuracy)\n",
        "plt.grid()\n",
        "plt.xlabel('epochs')\n",
        "plt.ylabel('accuarcy')\n",
        "plt.legend(['training accuracy', 'validation accuracy'])"
      ],
      "execution_count": 9,
      "outputs": [
        {
          "output_type": "execute_result",
          "data": {
            "text/plain": [
              "<matplotlib.legend.Legend at 0x7fe75de9c1d0>"
            ]
          },
          "metadata": {
            "tags": []
          },
          "execution_count": 9
        },
        {
          "output_type": "display_data",
          "data": {
            "image/png": "[encoded data removed]",
            "text/plain": [
              "<Figure size 432x288 with 1 Axes>"
            ]
          },
          "metadata": {
            "tags": [],
            "needs_background": "light"
          }
        }
      ]
    },
    {
      "cell_type": "code",
      "metadata": {
        "id": "tDof3-cWwuiz",
        "outputId": "b79920ac-21b0-4780-9079-420636a4c49e",
        "colab": {
          "base_uri": "https://localhost:8080/"
        }
      },
      "source": [
        "score, acc = model.evaluate(Xts, yts, verbose=1)"
      ],
      "execution_count": 10,
      "outputs": [
        {
          "output_type": "stream",
          "text": [
            "313/313 [==============================] - 0s 2ms/step - loss: 0.0822 - accuracy: 0.9763\n"
          ],
          "name": "stdout"
        }
      ]
    },
    {
      "cell_type": "markdown",
      "metadata": {
        "id": "uxgIc06Kw41P"
      },
      "source": [
        "Saving the model"
      ]
    },
    {
      "cell_type": "code",
      "metadata": {
        "id": "F1g017e2w1GS"
      },
      "source": [
        "model.save(\"mnist_mod.h5\")"
      ],
      "execution_count": 11,
      "outputs": []
    },
    {
      "cell_type": "markdown",
      "metadata": {
        "id": "70fsG9pTw81b"
      },
      "source": [
        "Reloading the model"
      ]
    },
    {
      "cell_type": "code",
      "metadata": {
        "id": "Eb9NtAezw6VS",
        "outputId": "24ebb1d6-34f9-47f9-ebfe-e6a0e0b9e18c",
        "colab": {
          "base_uri": "https://localhost:8080/"
        }
      },
      "source": [
        "from tensorflow.keras.models import load_model\n",
        "\n",
        "model1 = load_model(\"mnist_mod.h5\")\n",
        "model1.summary()"
      ],
      "execution_count": 12,
      "outputs": [
        {
          "output_type": "stream",
          "text": [
            "Model: \"sequential\"\n",
            "_________________________________________________________________\n",
            "Layer (type)                 Output Shape              Param #   \n",
            "=================================================================\n",
            "hidden (Dense)               (None, 100)               78500     \n",
            "_________________________________________________________________\n",
            "output (Dense)               (None, 10)                1010      \n",
            "=================================================================\n",
            "Total params: 79,510\n",
            "Trainable params: 79,510\n",
            "Non-trainable params: 0\n",
            "_________________________________________________________________\n"
          ],
          "name": "stdout"
        }
      ]
    },
    {
      "cell_type": "code",
      "metadata": {
        "id": "A8nTOlxbw-g5"
      },
      "source": [
        "z = model1.predict(Xts)\n",
        "yhat = np.argmax(z,axis=1)"
      ],
      "execution_count": 13,
      "outputs": []
    },
    {
      "cell_type": "code",
      "metadata": {
        "id": "SphgpHaFxL9-",
        "outputId": "8203bcdc-7768-45be-ba42-a1b2730b6d49",
        "colab": {
          "base_uri": "https://localhost:8080/"
        }
      },
      "source": [
        "mat = np.column_stack((z,yhat))\n",
        "with np.printoptions(precision=3, suppress=True):\n",
        "    for i in range(5):\n",
        "        print('z[%d,:]='%i, z[i,:], ', yhat[%d]= '%i, yhat[i])"
      ],
      "execution_count": 14,
      "outputs": [
        {
          "output_type": "stream",
          "text": [
            "z[0,:]= [0. 0. 0. 0. 0. 0. 0. 1. 0. 0.] , yhat[0]=  7\n",
            "z[1,:]= [0. 0. 1. 0. 0. 0. 0. 0. 0. 0.] , yhat[1]=  2\n",
            "z[2,:]= [0. 1. 0. 0. 0. 0. 0. 0. 0. 0.] , yhat[2]=  1\n",
            "z[3,:]= [1. 0. 0. 0. 0. 0. 0. 0. 0. 0.] , yhat[3]=  0\n",
            "z[4,:]= [0.    0.    0.    0.    0.982 0.    0.    0.    0.    0.018] , yhat[4]=  4\n"
          ],
          "name": "stdout"
        }
      ]
    },
    {
      "cell_type": "code",
      "metadata": {
        "id": "AywE8398xOcZ",
        "outputId": "f5f681ff-5873-41d6-d5a2-7935a19b4c36",
        "colab": {
          "base_uri": "https://localhost:8080/"
        }
      },
      "source": [
        "acc = np.mean(yhat == yts)\n",
        "print(\"accuracy = %f\" % acc)"
      ],
      "execution_count": 15,
      "outputs": [
        {
          "output_type": "stream",
          "text": [
            "accuracy = 0.976300\n"
          ],
          "name": "stdout"
        }
      ]
    }
  ]
}