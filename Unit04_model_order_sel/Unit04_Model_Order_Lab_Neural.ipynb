{
  "nbformat": 4,
  "nbformat_minor": 0,
  "metadata": {
    "colab": {
      "name": "Unit04_Model_Order_Lab_Neural.ipynb",
      "provenance": [],
      "collapsed_sections": []
    },
    "kernelspec": {
      "name": "python3",
      "display_name": "Python 3"
    },
    "widgets": {
      "application/vnd.jupyter.widget-state+json": {
        "c8a1b83245484d9a87a3acef2ae418a4": {
          "model_module": "@jupyter-widgets/controls",
          "model_name": "HBoxModel",
          "state": {
            "_view_name": "HBoxView",
            "_dom_classes": [],
            "_model_name": "HBoxModel",
            "_view_module": "@jupyter-widgets/controls",
            "_model_module_version": "1.5.0",
            "_view_count": null,
            "_view_module_version": "1.5.0",
            "box_style": "",
            "layout": "IPY_MODEL_66e214934d3f478fa1ec74587261fb94",
            "_model_module": "@jupyter-widgets/controls",
            "children": [
              "IPY_MODEL_383ee7d94d85458cb0d70a7dc3018bf7",
              "IPY_MODEL_88f73a73074c444b80e6bb9e52cfa86d"
            ]
          }
        },
        "66e214934d3f478fa1ec74587261fb94": {
          "model_module": "@jupyter-widgets/base",
          "model_name": "LayoutModel",
          "state": {
            "_view_name": "LayoutView",
            "grid_template_rows": null,
            "right": null,
            "justify_content": null,
            "_view_module": "@jupyter-widgets/base",
            "overflow": null,
            "_model_module_version": "1.2.0",
            "_view_count": null,
            "flex_flow": null,
            "width": null,
            "min_width": null,
            "border": null,
            "align_items": null,
            "bottom": null,
            "_model_module": "@jupyter-widgets/base",
            "top": null,
            "grid_column": null,
            "overflow_y": null,
            "overflow_x": null,
            "grid_auto_flow": null,
            "grid_area": null,
            "grid_template_columns": null,
            "flex": null,
            "_model_name": "LayoutModel",
            "justify_items": null,
            "grid_row": null,
            "max_height": null,
            "align_content": null,
            "visibility": null,
            "align_self": null,
            "height": null,
            "min_height": null,
            "padding": null,
            "grid_auto_rows": null,
            "grid_gap": null,
            "max_width": null,
            "order": null,
            "_view_module_version": "1.2.0",
            "grid_template_areas": null,
            "object_position": null,
            "object_fit": null,
            "grid_auto_columns": null,
            "margin": null,
            "display": null,
            "left": null
          }
        },
        "383ee7d94d85458cb0d70a7dc3018bf7": {
          "model_module": "@jupyter-widgets/controls",
          "model_name": "FloatProgressModel",
          "state": {
            "_view_name": "ProgressView",
            "style": "IPY_MODEL_e5b9f48b50f14beebf8ced5a3fbc8bea",
            "_dom_classes": [],
            "description": "Model order test: 100%",
            "_model_name": "FloatProgressModel",
            "bar_style": "success",
            "max": 75,
            "_view_module": "@jupyter-widgets/controls",
            "_model_module_version": "1.5.0",
            "value": 75,
            "_view_count": null,
            "_view_module_version": "1.5.0",
            "orientation": "horizontal",
            "min": 0,
            "description_tooltip": null,
            "_model_module": "@jupyter-widgets/controls",
            "layout": "IPY_MODEL_2aae64f93ba6484e9313f498c4a2f4af"
          }
        },
        "88f73a73074c444b80e6bb9e52cfa86d": {
          "model_module": "@jupyter-widgets/controls",
          "model_name": "HTMLModel",
          "state": {
            "_view_name": "HTMLView",
            "style": "IPY_MODEL_0952703aedb747e18f58ff354c3d767a",
            "_dom_classes": [],
            "description": "",
            "_model_name": "HTMLModel",
            "placeholder": "​",
            "_view_module": "@jupyter-widgets/controls",
            "_model_module_version": "1.5.0",
            "value": " 75/75 [00:24&lt;00:00,  3.03fits/s]",
            "_view_count": null,
            "_view_module_version": "1.5.0",
            "description_tooltip": null,
            "_model_module": "@jupyter-widgets/controls",
            "layout": "IPY_MODEL_97e252fcc11044e2b0b7fe58ada0238f"
          }
        },
        "e5b9f48b50f14beebf8ced5a3fbc8bea": {
          "model_module": "@jupyter-widgets/controls",
          "model_name": "ProgressStyleModel",
          "state": {
            "_view_name": "StyleView",
            "_model_name": "ProgressStyleModel",
            "description_width": "initial",
            "_view_module": "@jupyter-widgets/base",
            "_model_module_version": "1.5.0",
            "_view_count": null,
            "_view_module_version": "1.2.0",
            "bar_color": null,
            "_model_module": "@jupyter-widgets/controls"
          }
        },
        "2aae64f93ba6484e9313f498c4a2f4af": {
          "model_module": "@jupyter-widgets/base",
          "model_name": "LayoutModel",
          "state": {
            "_view_name": "LayoutView",
            "grid_template_rows": null,
            "right": null,
            "justify_content": null,
            "_view_module": "@jupyter-widgets/base",
            "overflow": null,
            "_model_module_version": "1.2.0",
            "_view_count": null,
            "flex_flow": null,
            "width": null,
            "min_width": null,
            "border": null,
            "align_items": null,
            "bottom": null,
            "_model_module": "@jupyter-widgets/base",
            "top": null,
            "grid_column": null,
            "overflow_y": null,
            "overflow_x": null,
            "grid_auto_flow": null,
            "grid_area": null,
            "grid_template_columns": null,
            "flex": null,
            "_model_name": "LayoutModel",
            "justify_items": null,
            "grid_row": null,
            "max_height": null,
            "align_content": null,
            "visibility": null,
            "align_self": null,
            "height": null,
            "min_height": null,
            "padding": null,
            "grid_auto_rows": null,
            "grid_gap": null,
            "max_width": null,
            "order": null,
            "_view_module_version": "1.2.0",
            "grid_template_areas": null,
            "object_position": null,
            "object_fit": null,
            "grid_auto_columns": null,
            "margin": null,
            "display": null,
            "left": null
          }
        },
        "0952703aedb747e18f58ff354c3d767a": {
          "model_module": "@jupyter-widgets/controls",
          "model_name": "DescriptionStyleModel",
          "state": {
            "_view_name": "StyleView",
            "_model_name": "DescriptionStyleModel",
            "description_width": "",
            "_view_module": "@jupyter-widgets/base",
            "_model_module_version": "1.5.0",
            "_view_count": null,
            "_view_module_version": "1.2.0",
            "_model_module": "@jupyter-widgets/controls"
          }
        },
        "97e252fcc11044e2b0b7fe58ada0238f": {
          "model_module": "@jupyter-widgets/base",
          "model_name": "LayoutModel",
          "state": {
            "_view_name": "LayoutView",
            "grid_template_rows": null,
            "right": null,
            "justify_content": null,
            "_view_module": "@jupyter-widgets/base",
            "overflow": null,
            "_model_module_version": "1.2.0",
            "_view_count": null,
            "flex_flow": null,
            "width": null,
            "min_width": null,
            "border": null,
            "align_items": null,
            "bottom": null,
            "_model_module": "@jupyter-widgets/base",
            "top": null,
            "grid_column": null,
            "overflow_y": null,
            "overflow_x": null,
            "grid_auto_flow": null,
            "grid_area": null,
            "grid_template_columns": null,
            "flex": null,
            "_model_name": "LayoutModel",
            "justify_items": null,
            "grid_row": null,
            "max_height": null,
            "align_content": null,
            "visibility": null,
            "align_self": null,
            "height": null,
            "min_height": null,
            "padding": null,
            "grid_auto_rows": null,
            "grid_gap": null,
            "max_width": null,
            "order": null,
            "_view_module_version": "1.2.0",
            "grid_template_areas": null,
            "object_position": null,
            "object_fit": null,
            "grid_auto_columns": null,
            "margin": null,
            "display": null,
            "left": null
          }
        }
      }
    }
  },
  "cells": [
    {
      "cell_type": "markdown",
      "metadata": {
        "id": "RuKvW0HugWvl"
      },
      "source": [
        "**Lab: Model Order Selection for Neural Data**\n",
        "\n",
        "Based on the polynomial model order selection demo. This lab covers representing neural time-series data in arrays, loading data from a pickle file, describing and fitting memoryless linear models,describing and fitting linear time-series models with delays, fitting linear models with multiple target outputs, selecting the optimal delay via cross-validation"
      ]
    },
    {
      "cell_type": "markdown",
      "metadata": {
        "id": "ON1ucC9xvUm3"
      },
      "source": [
        "**Loading the data**"
      ]
    },
    {
      "cell_type": "code",
      "metadata": {
        "id": "mSMMUzu9gRiJ"
      },
      "source": [
        "import numpy as np\n",
        "import matplotlib.pyplot as plt\n",
        "import pickle\n",
        "\n",
        "from sklearn.linear_model import LinearRegression\n",
        "from sklearn.metrics import r2_score"
      ],
      "execution_count": 1,
      "outputs": []
    },
    {
      "cell_type": "code",
      "metadata": {
        "id": "W3OQj1Usgx7b"
      },
      "source": [
        "fn_src = 'https://www.dropbox.com/sh/n4924ipcfjqc0t6/AADOv9JYMUBK1tlg9P71gSSra/example_data_s1.pickle?dl=1'\n",
        "fn_dst = 'example_data_s1.pickle'\n",
        "\n",
        "import os\n",
        "from six.moves import urllib\n",
        "\n",
        "if os.path.isfile(fn_dst):\n",
        "    print('File %s is already downloaded' % fn_dst)\n",
        "else:        \n",
        "    urllib.request.urlretrieve(fn_src, fn_dst)"
      ],
      "execution_count": 2,
      "outputs": []
    },
    {
      "cell_type": "code",
      "metadata": {
        "id": "qdXbOVoDhUg6"
      },
      "source": [
        "with open('example_data_s1.pickle', 'rb') as fp:\n",
        "    X,y = pickle.load(fp)"
      ],
      "execution_count": 3,
      "outputs": []
    },
    {
      "cell_type": "markdown",
      "metadata": {
        "id": "p1PFhMagLOnk"
      },
      "source": [
        "The matrix X is a matrix of spike counts where X [i, j] is the number of spikes from neuron j in time bin i. "
      ]
    },
    {
      "cell_type": "code",
      "metadata": {
        "id": "bzQEFAwtn5q7",
        "outputId": "a36e14cf-c523-42e7-fe88-7737ea728b48",
        "colab": {
          "base_uri": "https://localhost:8080/",
          "height": 52
        }
      },
      "source": [
        "print(X.shape)\n",
        "print(y.shape)"
      ],
      "execution_count": 4,
      "outputs": [
        {
          "output_type": "stream",
          "text": [
            "(61339, 52)\n",
            "(61339, 2)\n"
          ],
          "name": "stdout"
        }
      ]
    },
    {
      "cell_type": "code",
      "metadata": {
        "id": "x9uK4pKvn6ma",
        "outputId": "e01e8475-b7a7-4fc4-c599-01419aadebdf",
        "colab": {
          "base_uri": "https://localhost:8080/",
          "height": 105
        }
      },
      "source": [
        "tsamp = 0.05  \n",
        "\n",
        "nt = X.shape[0]\n",
        "nneuron = X.shape[1]\n",
        "nout = y.shape[1]\n",
        "ttotal = tsamp*nt\n",
        "print('nt = {}\\nnneuron = {}\\nnout = {}\\nttotal = {}\\n'.format(nt,nneuron,nout,ttotal))"
      ],
      "execution_count": 7,
      "outputs": [
        {
          "output_type": "stream",
          "text": [
            "nt = 61339\n",
            "nneuron = 52\n",
            "nout = 2\n",
            "ttotal = 3066.9500000000003\n",
            "\n"
          ],
          "name": "stdout"
        }
      ]
    },
    {
      "cell_type": "markdown",
      "metadata": {
        "id": "aKRXh-bLoAET"
      },
      "source": [
        "**Fitting a Memoryless linear model**\n",
        "\n",
        "Using simple linear regression to fit the data"
      ]
    },
    {
      "cell_type": "code",
      "metadata": {
        "id": "-lIfJPR6n-cA"
      },
      "source": [
        "from sklearn.model_selection import train_test_split\n",
        "\n",
        "Xtr, Xts, ytr, yts = train_test_split(X, y, test_size=0.33)"
      ],
      "execution_count": 8,
      "outputs": []
    },
    {
      "cell_type": "code",
      "metadata": {
        "id": "KvnCcua4oERi",
        "outputId": "c5549741-5ef4-40a3-ce39-2b709d2d4a36",
        "colab": {
          "base_uri": "https://localhost:8080/",
          "height": 35
        }
      },
      "source": [
        "from sklearn import linear_model\n",
        "regr = linear_model.LinearRegression()\n",
        "regr.fit(Xtr,ytr)\n",
        "yhat = regr.predict(Xts)\n",
        "RSS_ts = np.mean((yts-yhat)**2)/(np.std(yts)**2)\n",
        "rsq = 1-RSS_ts\n",
        "print(rsq)"
      ],
      "execution_count": 9,
      "outputs": [
        {
          "output_type": "stream",
          "text": [
            "0.466330498633162\n"
          ],
          "name": "stdout"
        }
      ]
    },
    {
      "cell_type": "code",
      "metadata": {
        "id": "WjITolaVoddg",
        "outputId": "5e649a25-ef55-4892-e79a-6ba6442b192e",
        "colab": {
          "base_uri": "https://localhost:8080/",
          "height": 35
        }
      },
      "source": [
        "yhat.shape"
      ],
      "execution_count": 10,
      "outputs": [
        {
          "output_type": "execute_result",
          "data": {
            "text/plain": [
              "(20242, 2)"
            ]
          },
          "metadata": {
            "tags": []
          },
          "execution_count": 10
        }
      ]
    },
    {
      "cell_type": "code",
      "metadata": {
        "id": "t-o9vfFwoijM",
        "outputId": "6ea95842-7437-460d-a373-523824f1400a",
        "colab": {
          "base_uri": "https://localhost:8080/",
          "height": 458
        }
      },
      "source": [
        "plt.figure(figsize=(10,5))\n",
        "plt.subplot(1,2,1)\n",
        "plt.subplot(1,2,1).set_title(\"X-direction\")\n",
        "plt.plot(yhat[:,0], yts[:,0], 'o')\n",
        "plt.grid()\n",
        "plt.xlabel('Predicted')\n",
        "plt.ylabel('Actual')\n",
        "\n",
        "plt.subplot(1,2,2)\n",
        "plt.subplot(1,2,2).set_title(\"Y-direction\")\n",
        "plt.plot(yhat[:,1], yts[:,1],'o')\n",
        "plt.grid()\n",
        "plt.xlabel('Predicted')\n",
        "plt.ylabel('Actual')"
      ],
      "execution_count": 11,
      "outputs": [
        {
          "output_type": "stream",
          "text": [
            "/usr/local/lib/python3.6/dist-packages/ipykernel_launcher.py:3: MatplotlibDeprecationWarning: Adding an axes using the same arguments as a previous axes currently reuses the earlier instance.  In a future version, a new instance will always be created and returned.  Meanwhile, this warning can be suppressed, and the future behavior ensured, by passing a unique label to each axes instance.\n",
            "  This is separate from the ipykernel package so we can avoid doing imports until\n",
            "/usr/local/lib/python3.6/dist-packages/ipykernel_launcher.py:10: MatplotlibDeprecationWarning: Adding an axes using the same arguments as a previous axes currently reuses the earlier instance.  In a future version, a new instance will always be created and returned.  Meanwhile, this warning can be suppressed, and the future behavior ensured, by passing a unique label to each axes instance.\n",
            "  # Remove the CWD from sys.path while we load stuff.\n"
          ],
          "name": "stderr"
        },
        {
          "output_type": "execute_result",
          "data": {
            "text/plain": [
              "Text(0, 0.5, 'Actual')"
            ]
          },
          "metadata": {
            "tags": []
          },
          "execution_count": 11
        },
        {
          "output_type": "display_data",
          "data": {
            "image/png": "[encoded data removed]",
            "text/plain": [
              "<Figure size 720x360 with 2 Axes>"
            ]
          },
          "metadata": {
            "tags": [],
            "needs_background": "light"
          }
        }
      ]
    },
    {
      "cell_type": "markdown",
      "metadata": {
        "id": "5oiycRFMou5q"
      },
      "source": [
        "**Fitting models with delay**\n",
        "\n",
        "We can improve model accuracy by using delayed version of features wherein the output at time i+d depends on inputs at times i, i+1,...i+d"
      ]
    },
    {
      "cell_type": "code",
      "metadata": {
        "id": "ADCzCOpVomTY"
      },
      "source": [
        "def create_dly_data(X,y,dly):\n",
        "  \n",
        "    Xdly = np.empty((X.shape[0]-dly,X.shape[1]*(dly+1)),int)\n",
        "    ydly = np.zeros((y.shape[0]-dly,y.shape[1]))\n",
        "    for i in range(0,y.shape[0]-dly):\n",
        "      ydly[i,:] = y[i+dly,:] \n",
        "    \n",
        "    for i in range(0,X.shape[0]-dly):\n",
        "      delay = np.array([])\n",
        "      for j in range(0,dly+1):\n",
        "        delay = np.append(delay,X[i+j], axis = 0)\n",
        "      Xdly[i] = delay\n",
        "    \n",
        "    return Xdly, ydly\n"
      ],
      "execution_count": 13,
      "outputs": []
    },
    {
      "cell_type": "code",
      "metadata": {
        "id": "aqbYgW6HozWq",
        "outputId": "5f611313-09db-4a29-dda3-c759241cfb02",
        "colab": {
          "base_uri": "https://localhost:8080/",
          "height": 35
        }
      },
      "source": [
        "Xdly,ydly=create_dly_data(X,y,dly=6)\n",
        "Xtr, Xts, ytr, yts = train_test_split(Xdly, ydly, test_size=0.33)\n",
        "from sklearn import linear_model\n",
        "regr = linear_model.LinearRegression()\n",
        "regr.fit(Xtr,ytr)\n",
        "yhat = regr.predict(Xts)\n",
        "RSS_ts = np.mean((yts-yhat)**2)/(np.std(yts)**2)\n",
        "rsq = 1-RSS_ts\n",
        "print(rsq)"
      ],
      "execution_count": 14,
      "outputs": [
        {
          "output_type": "stream",
          "text": [
            "0.6893795749818847\n"
          ],
          "name": "stdout"
        }
      ]
    },
    {
      "cell_type": "markdown",
      "metadata": {
        "id": "DK8zRFbDNReZ"
      },
      "source": [
        "Plotting predicted v/s true values"
      ]
    },
    {
      "cell_type": "code",
      "metadata": {
        "id": "swAQaSyDo26u",
        "outputId": "30c5f62e-d298-4d85-ade7-85c21d077921",
        "colab": {
          "base_uri": "https://localhost:8080/",
          "height": 458
        }
      },
      "source": [
        "plt.figure(figsize=(10,5))\n",
        "plt.subplot(1,2,1)\n",
        "plt.subplot(1,2,1).set_title(\"X-direction\")\n",
        "plt.plot(yhat[:,0], yts[:,0], 'o')\n",
        "plt.grid()\n",
        "plt.xlabel('predicted')\n",
        "plt.ylabel(\"actual\")\n",
        "\n",
        "plt.subplot(1,2,2)\n",
        "plt.subplot(1,2,2).set_title(\"Y-direction\")\n",
        "plt.plot(yhat[:,1], yts[:,1],'o')\n",
        "plt.grid()\n",
        "plt.xlabel(\"predicted\")\n",
        "plt.ylabel(\"actual\")"
      ],
      "execution_count": 15,
      "outputs": [
        {
          "output_type": "stream",
          "text": [
            "/usr/local/lib/python3.6/dist-packages/ipykernel_launcher.py:3: MatplotlibDeprecationWarning: Adding an axes using the same arguments as a previous axes currently reuses the earlier instance.  In a future version, a new instance will always be created and returned.  Meanwhile, this warning can be suppressed, and the future behavior ensured, by passing a unique label to each axes instance.\n",
            "  This is separate from the ipykernel package so we can avoid doing imports until\n",
            "/usr/local/lib/python3.6/dist-packages/ipykernel_launcher.py:10: MatplotlibDeprecationWarning: Adding an axes using the same arguments as a previous axes currently reuses the earlier instance.  In a future version, a new instance will always be created and returned.  Meanwhile, this warning can be suppressed, and the future behavior ensured, by passing a unique label to each axes instance.\n",
            "  # Remove the CWD from sys.path while we load stuff.\n"
          ],
          "name": "stderr"
        },
        {
          "output_type": "execute_result",
          "data": {
            "text/plain": [
              "Text(0, 0.5, 'actual')"
            ]
          },
          "metadata": {
            "tags": []
          },
          "execution_count": 15
        },
        {
          "output_type": "display_data",
          "data": {
            "image/png": "[encoded data removed]",
            "text/plain": [
              "<Figure size 720x360 with 2 Axes>"
            ]
          },
          "metadata": {
            "tags": [],
            "needs_background": "light"
          }
        }
      ]
    },
    {
      "cell_type": "markdown",
      "metadata": {
        "id": "O2K-uR8npZ9y"
      },
      "source": [
        "**Selecting the optimal delay via Model Order Selection**\n",
        "\n",
        "Limiting data samples as taking all samples is computationally exhaustive"
      ]
    },
    {
      "cell_type": "code",
      "metadata": {
        "id": "Sy9uls5ho3x7"
      },
      "source": [
        "nred = 6000\n",
        "\n",
        "Xred = X[:nred,:]\n",
        "yred = y[:nred,:]"
      ],
      "execution_count": 16,
      "outputs": []
    },
    {
      "cell_type": "code",
      "metadata": {
        "id": "Hu9VL9x94Yi2",
        "outputId": "3f7bb9de-c0c5-4b2d-ffc2-1d00585068d1",
        "colab": {
          "base_uri": "https://localhost:8080/",
          "height": 67,
          "referenced_widgets": [
            "c8a1b83245484d9a87a3acef2ae418a4",
            "66e214934d3f478fa1ec74587261fb94",
            "383ee7d94d85458cb0d70a7dc3018bf7",
            "88f73a73074c444b80e6bb9e52cfa86d",
            "e5b9f48b50f14beebf8ced5a3fbc8bea",
            "2aae64f93ba6484e9313f498c4a2f4af",
            "0952703aedb747e18f58ff354c3d767a",
            "97e252fcc11044e2b0b7fe58ada0238f"
          ]
        }
      },
      "source": [
        "import numpy.polynomial.polynomial as poly \n",
        "import  sklearn.model_selection \n",
        "import tqdm.notebook\n",
        "\n",
        "nfold = 5  # Number of folds\n",
        "dmax = 15  # maximum number of delays\n",
        "\n",
        "Create a k-fold object\n",
        "kf = sklearn.model_selection.KFold(n_splits=nfold, shuffle=True)\n",
        "\n",
        "#Model orders to be tested\n",
        "dtest = np.arange(0,dmax)  \n",
        "nd = len(dtest)\n",
        "regr_Kfold = LinearRegression()\n",
        "  \n",
        "# Initialize a matrix Rsq to hold values of the R^2 across the model orders and folds.\n",
        "# Alternatively, you can also create an RSS matrix\n",
        "Rsq = np.zeros((nd,nfold))\n",
        "RSSts = np.zeros((nd, nfold))\n",
        "\n",
        "# Create a progress bar.  Note there are nd*nfold total fits.\n",
        "pbar = tqdm.notebook.tqdm(total=nfold*nd, initial=0,\n",
        "    unit='fits', unit_divisor=nd, desc='Model order test')\n",
        "\n",
        "\n",
        "for it, d in enumerate(dtest): \n",
        "    # Create the delayed data using the create_dly_function from the reduced\n",
        "    # data Xred, yred\n",
        "    Xdly, ydly = create_dly_data(Xred, yred, d)    \n",
        "\n",
        "    # Loop over the folds\n",
        "    for isplit, Ind in enumerate(kf.split(Xdly)):\n",
        "  \n",
        "        # Get the training data in the split\n",
        "        Itr, Its = Ind        \n",
        "\n",
        "        # Split the data (Xdly,ydly) into training and test\n",
        "        Xtr = Xdly[Itr]\n",
        "        ytr = ydly[Itr]\n",
        "        Xts = Xdly[Its]\n",
        "        yts = ydly[Its]\n",
        "\n",
        "        Fit data on training data        \n",
        "        \n",
        "        regr_Kfold.fit(Xtr,ytr)\n",
        "\n",
        "        Measure the R^2 vale on test data and store in the matrix Rsq\n",
        "        yhat2 = regr_Kfold.predict(Xts)\n",
        "        Rsq[it,isplit] = r2_score(yts,yhat2)\n",
        "        RSSts[it,isplit] = np.mean((yts - yhat2)**2)\n",
        "        pbar.update(1)\n",
        "pbar.close()              "
      ],
      "execution_count": 17,
      "outputs": [
        {
          "output_type": "display_data",
          "data": {
            "application/vnd.jupyter.widget-view+json": {
              "model_id": "c8a1b83245484d9a87a3acef2ae418a4",
              "version_minor": 0,
              "version_major": 2
            },
            "text/plain": [
              "HBox(children=(FloatProgress(value=0.0, description='Model order test', max=75.0, style=ProgressStyle(descript…"
            ]
          },
          "metadata": {
            "tags": []
          }
        },
        {
          "output_type": "stream",
          "text": [
            "\n"
          ],
          "name": "stdout"
        }
      ]
    },
    {
      "cell_type": "markdown",
      "metadata": {
        "id": "0jcCyUEZORwm"
      },
      "source": [
        "Computing mean and standard error"
      ]
    },
    {
      "cell_type": "code",
      "metadata": {
        "id": "xbxW6D_Nph_q",
        "outputId": "bcbc27ff-c768-46b2-a3dc-71b80d6b21a4",
        "colab": {
          "base_uri": "https://localhost:8080/",
          "height": 283
        }
      },
      "source": [
        "RSS_mean = np.mean(RSSts, axis=1)\n",
        "RSS_std = np.std(RSSts,axis=1) / np.sqrt(nfold-1)\n",
        "plt.errorbar(dtest, RSS_mean, yerr=RSS_std, fmt='-')\n",
        "plt.xlabel('Model Order')\n",
        "plt.ylabel('Test RSS')\n",
        "plt.grid()\n",
        "plt.show()"
      ],
      "execution_count": 18,
      "outputs": [
        {
          "output_type": "display_data",
          "data": {
            "image/png": "[encoded data removed]",
            "text/plain": [
              "<Figure size 432x288 with 1 Axes>"
            ]
          },
          "metadata": {
            "tags": [],
            "needs_background": "light"
          }
        }
      ]
    },
    {
      "cell_type": "markdown",
      "metadata": {
        "id": "LODmOam3OYwQ"
      },
      "source": [
        "Finding optimal order with normal rule, i.e. R^2"
      ]
    },
    {
      "cell_type": "code",
      "metadata": {
        "id": "b-g9Rz7hplRv",
        "outputId": "a7a143c1-9602-4209-9255-dd4ef5ecc30a",
        "colab": {
          "base_uri": "https://localhost:8080/",
          "height": 279
        }
      },
      "source": [
        "Rsq_mean = np.mean(Rsq, axis=1)\n",
        "Rsq_std = np.std(Rsq,axis=1) / np.sqrt(nfold-1)\n",
        "plt.errorbar(dtest, Rsq_mean, yerr=Rsq_std, fmt='-')\n",
        "plt.xlabel('Model Order')\n",
        "plt.ylabel('Rsq')\n",
        "plt.grid()\n",
        "plt.show()"
      ],
      "execution_count": 20,
      "outputs": [
        {
          "output_type": "display_data",
          "data": {
            "image/png": "[encoded data removed]",
            "text/plain": [
              "<Figure size 432x288 with 1 Axes>"
            ]
          },
          "metadata": {
            "tags": [],
            "needs_background": "light"
          }
        }
      ]
    },
    {
      "cell_type": "code",
      "metadata": {
        "id": "CEjetcfo5mBs",
        "outputId": "76d31208-48c6-4cbc-d36e-0dbf47833f01",
        "colab": {
          "base_uri": "https://localhost:8080/",
          "height": 35
        }
      },
      "source": [
        "Min_Order = np.argmax(Rsq_mean)\n",
        "print(\"The selected model order is {}\".format(dtest[Min_Order]))"
      ],
      "execution_count": 21,
      "outputs": [
        {
          "output_type": "stream",
          "text": [
            "The selected model order is 9\n"
          ],
          "name": "stdout"
        }
      ]
    },
    {
      "cell_type": "markdown",
      "metadata": {
        "id": "5csB_AxuOxJS"
      },
      "source": [
        "Finding optimal model order with one SE rule"
      ]
    },
    {
      "cell_type": "code",
      "metadata": {
        "id": "aT2QTF728S8I",
        "outputId": "2c647a2d-040d-4d0c-fd73-30dbb2f4f4f3",
        "colab": {
          "base_uri": "https://localhost:8080/",
          "height": 297
        }
      },
      "source": [
        "RSS_target = RSS_mean[Min_Order] + RSS_std[Min_Order]\n",
        "\n",
        "I = np.where(RSS_mean<=RSS_target)[0]\n",
        "iopt = I[0]\n",
        "d_optimal = dtest[iopt]\n",
        "\n",
        "plt.errorbar(dtest, RSS_mean, yerr=RSS_std, fmt='-')\n",
        "plt.plot([dtest[0], dtest[Min_Order]], [RSS_target, RSS_target], '--')\n",
        "plt.plot([d_optimal, d_optimal],'g--')\n",
        "plt.xlabel('Model order')\n",
        "plt.ylabel('Test RSS')\n",
        "plt.grid()\n",
        "\n",
        "print(\"The optimal model order is {}\".format(d_optimal))"
      ],
      "execution_count": 22,
      "outputs": [
        {
          "output_type": "stream",
          "text": [
            "The optimal model order is 9\n"
          ],
          "name": "stdout"
        },
        {
          "output_type": "display_data",
          "data": {
            "image/png": "[encoded data removed]",
            "text/plain": [
              "<Figure size 432x288 with 1 Axes>"
            ]
          },
          "metadata": {
            "tags": [],
            "needs_background": "light"
          }
        }
      ]
    }
  ]
}