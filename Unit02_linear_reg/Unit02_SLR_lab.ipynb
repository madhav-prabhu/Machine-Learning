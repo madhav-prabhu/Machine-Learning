{
  "nbformat": 4,
  "nbformat_minor": 0,
  "metadata": {
    "colab": {
      "name": "Unit02_SLR_lab.ipynb",
      "provenance": [],
      "collapsed_sections": []
    },
    "kernelspec": {
      "name": "python3",
      "display_name": "Python 3"
    }
  },
  "cells": [
    {
      "cell_type": "markdown",
      "metadata": {
        "id": "pe08b8wg0RG-"
      },
      "source": [
        "# **Lab: Simple linear regression**\n",
        "\n",
        "\n",
        "Fitting a Simple Linear Regression Model on Boston Housing data"
      ]
    },
    {
      "cell_type": "markdown",
      "metadata": {
        "id": "IUubeBw-dSTm"
      },
      "source": [
        "**Loading the data**"
      ]
    },
    {
      "cell_type": "code",
      "metadata": {
        "id": "saSIuZRFVAVJ"
      },
      "source": [
        "import numpy as np\n",
        "import pandas as pd\n"
      ],
      "execution_count": null,
      "outputs": []
    },
    {
      "cell_type": "code",
      "metadata": {
        "id": "oFXBoAanUDoe"
      },
      "source": [
        "names =[\n",
        "    'CRIM', 'ZN', 'INDUS', 'CHAS', 'NOX', 'RM', \n",
        "    'AGE',  'DIS', 'RAD', 'TAX', 'PTRATIO', 'B', 'LSTAT', 'PRICE'\n",
        "]"
      ],
      "execution_count": null,
      "outputs": []
    },
    {
      "cell_type": "code",
      "metadata": {
        "id": "HP5yOkPVTgQb"
      },
      "source": [
        "df = pd.read_csv('https://archive.ics.uci.edu/ml/machine-learning-databases/housing/housing.data',header=None,delim_whitespace=True,names=names,na_values='?')"
      ],
      "execution_count": null,
      "outputs": []
    },
    {
      "cell_type": "markdown",
      "metadata": {
        "id": "UhtRglFxw4Yb"
      },
      "source": [
        "Display the first six rows of the data frame"
      ]
    },
    {
      "cell_type": "code",
      "metadata": {
        "id": "YUg-HZB0T0Od",
        "outputId": "1b939f7d-c3b7-4ceb-bf36-7ace1454003c",
        "colab": {
          "base_uri": "https://localhost:8080/",
          "height": 235
        }
      },
      "source": [
        "df.head(6)"
      ],
      "execution_count": null,
      "outputs": [
        {
          "output_type": "execute_result",
          "data": {
            "text/html": [
              "<div>\n",
              "<style scoped>\n",
              "    .dataframe tbody tr th:only-of-type {\n",
              "        vertical-align: middle;\n",
              "    }\n",
              "\n",
              "    .dataframe tbody tr th {\n",
              "        vertical-align: top;\n",
              "    }\n",
              "\n",
              "    .dataframe thead th {\n",
              "        text-align: right;\n",
              "    }\n",
              "</style>\n",
              "<table border=\"1\" class=\"dataframe\">\n",
              "  <thead>\n",
              "    <tr style=\"text-align: right;\">\n",
              "      <th></th>\n",
              "      <th>CRIM</th>\n",
              "      <th>ZN</th>\n",
              "      <th>INDUS</th>\n",
              "      <th>CHAS</th>\n",
              "      <th>NOX</th>\n",
              "      <th>RM</th>\n",
              "      <th>AGE</th>\n",
              "      <th>DIS</th>\n",
              "      <th>RAD</th>\n",
              "      <th>TAX</th>\n",
              "      <th>PTRATIO</th>\n",
              "      <th>B</th>\n",
              "      <th>LSTAT</th>\n",
              "      <th>PRICE</th>\n",
              "    </tr>\n",
              "  </thead>\n",
              "  <tbody>\n",
              "    <tr>\n",
              "      <th>0</th>\n",
              "      <td>0.00632</td>\n",
              "      <td>18.0</td>\n",
              "      <td>2.31</td>\n",
              "      <td>0</td>\n",
              "      <td>0.538</td>\n",
              "      <td>6.575</td>\n",
              "      <td>65.2</td>\n",
              "      <td>4.0900</td>\n",
              "      <td>1</td>\n",
              "      <td>296.0</td>\n",
              "      <td>15.3</td>\n",
              "      <td>396.90</td>\n",
              "      <td>4.98</td>\n",
              "      <td>24.0</td>\n",
              "    </tr>\n",
              "    <tr>\n",
              "      <th>1</th>\n",
              "      <td>0.02731</td>\n",
              "      <td>0.0</td>\n",
              "      <td>7.07</td>\n",
              "      <td>0</td>\n",
              "      <td>0.469</td>\n",
              "      <td>6.421</td>\n",
              "      <td>78.9</td>\n",
              "      <td>4.9671</td>\n",
              "      <td>2</td>\n",
              "      <td>242.0</td>\n",
              "      <td>17.8</td>\n",
              "      <td>396.90</td>\n",
              "      <td>9.14</td>\n",
              "      <td>21.6</td>\n",
              "    </tr>\n",
              "    <tr>\n",
              "      <th>2</th>\n",
              "      <td>0.02729</td>\n",
              "      <td>0.0</td>\n",
              "      <td>7.07</td>\n",
              "      <td>0</td>\n",
              "      <td>0.469</td>\n",
              "      <td>7.185</td>\n",
              "      <td>61.1</td>\n",
              "      <td>4.9671</td>\n",
              "      <td>2</td>\n",
              "      <td>242.0</td>\n",
              "      <td>17.8</td>\n",
              "      <td>392.83</td>\n",
              "      <td>4.03</td>\n",
              "      <td>34.7</td>\n",
              "    </tr>\n",
              "    <tr>\n",
              "      <th>3</th>\n",
              "      <td>0.03237</td>\n",
              "      <td>0.0</td>\n",
              "      <td>2.18</td>\n",
              "      <td>0</td>\n",
              "      <td>0.458</td>\n",
              "      <td>6.998</td>\n",
              "      <td>45.8</td>\n",
              "      <td>6.0622</td>\n",
              "      <td>3</td>\n",
              "      <td>222.0</td>\n",
              "      <td>18.7</td>\n",
              "      <td>394.63</td>\n",
              "      <td>2.94</td>\n",
              "      <td>33.4</td>\n",
              "    </tr>\n",
              "    <tr>\n",
              "      <th>4</th>\n",
              "      <td>0.06905</td>\n",
              "      <td>0.0</td>\n",
              "      <td>2.18</td>\n",
              "      <td>0</td>\n",
              "      <td>0.458</td>\n",
              "      <td>7.147</td>\n",
              "      <td>54.2</td>\n",
              "      <td>6.0622</td>\n",
              "      <td>3</td>\n",
              "      <td>222.0</td>\n",
              "      <td>18.7</td>\n",
              "      <td>396.90</td>\n",
              "      <td>5.33</td>\n",
              "      <td>36.2</td>\n",
              "    </tr>\n",
              "    <tr>\n",
              "      <th>5</th>\n",
              "      <td>0.02985</td>\n",
              "      <td>0.0</td>\n",
              "      <td>2.18</td>\n",
              "      <td>0</td>\n",
              "      <td>0.458</td>\n",
              "      <td>6.430</td>\n",
              "      <td>58.7</td>\n",
              "      <td>6.0622</td>\n",
              "      <td>3</td>\n",
              "      <td>222.0</td>\n",
              "      <td>18.7</td>\n",
              "      <td>394.12</td>\n",
              "      <td>5.21</td>\n",
              "      <td>28.7</td>\n",
              "    </tr>\n",
              "  </tbody>\n",
              "</table>\n",
              "</div>"
            ],
            "text/plain": [
              "      CRIM    ZN  INDUS  CHAS    NOX  ...    TAX  PTRATIO       B  LSTAT  PRICE\n",
              "0  0.00632  18.0   2.31     0  0.538  ...  296.0     15.3  396.90   4.98   24.0\n",
              "1  0.02731   0.0   7.07     0  0.469  ...  242.0     17.8  396.90   9.14   21.6\n",
              "2  0.02729   0.0   7.07     0  0.469  ...  242.0     17.8  392.83   4.03   34.7\n",
              "3  0.03237   0.0   2.18     0  0.458  ...  222.0     18.7  394.63   2.94   33.4\n",
              "4  0.06905   0.0   2.18     0  0.458  ...  222.0     18.7  396.90   5.33   36.2\n",
              "5  0.02985   0.0   2.18     0  0.458  ...  222.0     18.7  394.12   5.21   28.7\n",
              "\n",
              "[6 rows x 14 columns]"
            ]
          },
          "metadata": {
            "tags": []
          },
          "execution_count": 4
        }
      ]
    },
    {
      "cell_type": "markdown",
      "metadata": {
        "id": "hgCf_YvUw6cl"
      },
      "source": [
        "**Basic Manipulations on the Data**\n",
        "\n",
        "What is the shape of the data? How many attributes are there? How many samples? Print a statement of the form:\n",
        "\n",
        "num samples=xxx, num attributes=yy"
      ]
    },
    {
      "cell_type": "code",
      "metadata": {
        "id": "0tyr9jfQZ1Ft",
        "outputId": "55dc01ad-c96e-4d05-cdb8-b3bf7c08bea1",
        "colab": {
          "base_uri": "https://localhost:8080/",
          "height": 34
        }
      },
      "source": [
        "print(\"num samples = {}, num attributes = {}\".format(df.shape[0], df.shape[1]))"
      ],
      "execution_count": null,
      "outputs": [
        {
          "output_type": "stream",
          "text": [
            "num samples = 506, num attributes = 14\n"
          ],
          "name": "stdout"
        }
      ]
    },
    {
      "cell_type": "markdown",
      "metadata": {
        "id": "NlVWJDIzxIo3"
      },
      "source": [
        "Create a response vector y with the values in the column PRICE. The vector y should be a 1D numpy.array structure."
      ]
    },
    {
      "cell_type": "code",
      "metadata": {
        "id": "cUE4xiBEaWM0",
        "outputId": "8251da81-f5aa-41e5-98d1-6315d2076eb6",
        "colab": {
          "base_uri": "https://localhost:8080/",
          "height": 34
        }
      },
      "source": [
        "y = np.array(df['PRICE'])"
      ],
      "execution_count": null,
      "outputs": [
        {
          "output_type": "execute_result",
          "data": {
            "text/plain": [
              "numpy.ndarray"
            ]
          },
          "metadata": {
            "tags": []
          },
          "execution_count": 6
        }
      ]
    },
    {
      "cell_type": "markdown",
      "metadata": {
        "id": "FwfsujaGx8tj"
      },
      "source": [
        "Use the response vector y to find the mean house price in thousands and the fraction of homes that are above $40k. (You may realize this is very cheap. Prices have gone up a lot since the 1970s!). Create print statements of the form:\n",
        "\n",
        "The mean house price is xx.yy thousands of dollars.\n",
        "Only x.y percent are above $40k."
      ]
    },
    {
      "cell_type": "code",
      "metadata": {
        "id": "b5Q4kxX3dd4E",
        "outputId": "5d4eb06c-aa61-46d1-aa81-986eeb733ef4",
        "colab": {
          "base_uri": "https://localhost:8080/",
          "height": 51
        }
      },
      "source": [
        "avg = np.mean(y)\n",
        "print(avg)\n",
        "z = np.mean(y > 40)\n",
        "print('The mean house price is {:.3f} thousands of dollars, Only {:.5f} percent are above $40k'.format(avg, z))"
      ],
      "execution_count": null,
      "outputs": [
        {
          "output_type": "stream",
          "text": [
            "22.532806324110677\n",
            "The mean house price is 22.533 thousands of dollars, Only 0.06126 percent are above $40k\n"
          ],
          "name": "stdout"
        }
      ]
    },
    {
      "cell_type": "markdown",
      "metadata": {
        "id": "hMvf_eSAyQzw"
      },
      "source": [
        "**Visualizing the Data**"
      ]
    },
    {
      "cell_type": "code",
      "metadata": {
        "id": "79z3ryAZgFlr"
      },
      "source": [
        "import matplotlib\n",
        "import matplotlib.pyplot as plt"
      ],
      "execution_count": null,
      "outputs": []
    },
    {
      "cell_type": "markdown",
      "metadata": {
        "id": "TAX8t9VByeS7"
      },
      "source": [
        "Similar to the y vector, create a predictor vector x containing the values in the RM column, which represents the average number of rooms in each region."
      ]
    },
    {
      "cell_type": "code",
      "metadata": {
        "id": "xMstpAHDiK1N"
      },
      "source": [
        "x =np.array(df['RM'])\n"
      ],
      "execution_count": null,
      "outputs": []
    },
    {
      "cell_type": "markdown",
      "metadata": {
        "id": "pCV2BwnTykDy"
      },
      "source": [
        "Create a scatter plot of the price vs. the RM attribute. Make sure your plot has grid lines and label the axes with reasonable labels so that someone else can understand the plot."
      ]
    },
    {
      "cell_type": "code",
      "metadata": {
        "id": "DqqEpA2Diag6",
        "outputId": "37b9c8f8-656a-44bf-ce4c-22f1498a687a",
        "colab": {
          "base_uri": "https://localhost:8080/",
          "height": 279
        }
      },
      "source": [
        "plt.plot(x,y,'o')\n",
        "plt.xlabel('Price')\n",
        "plt.ylabel('Avg rooms')\n",
        "plt.grid(True)"
      ],
      "execution_count": null,
      "outputs": [
        {
          "output_type": "display_data",
          "data": {
            "image/png": "[encoded data removed]",
            "text/plain": [
              "<Figure size 432x288 with 1 Axes>"
            ]
          },
          "metadata": {
            "tags": [],
            "needs_background": "light"
          }
        }
      ]
    },
    {
      "cell_type": "markdown",
      "metadata": {
        "id": "WAuBvjvcyp-O"
      },
      "source": [
        "**Fitting a Simple Linear Model**\n",
        "\n",
        "We will write a simple function to perform a linear fit. Use the formulae given in the class, to compute the parameters $\\beta_0,\\beta_1$ in the linear model$$y =\\beta_0 + \\beta_1 x + \\epsilon$$as well as the coefficient of determination $R^2$."
      ]
    },
    {
      "cell_type": "code",
      "metadata": {
        "id": "sNFBi3JXjLEv"
      },
      "source": [
        "def fit_linear(x,y):\n",
        "  xm = np.mean(x)\n",
        "  ym = np.mean(y)\n",
        "  syy = np.mean((y-ym)**2)\n",
        "  syx = np.mean((y-ym)*(x-xm))\n",
        "  sxx = np.mean((x-xm)**2)\n",
        "  beta1 = syx/sxx\n",
        "  beta0 = ym - beta1*xm\n",
        "  rsq = (syx/(sxx * syy)**0.5)**2\n",
        "  return beta0, beta1, rsq"
      ],
      "execution_count": null,
      "outputs": []
    },
    {
      "cell_type": "markdown",
      "metadata": {
        "id": "P4POb38izyt8"
      },
      "source": [
        "Using the function fit_linear above, print the values beta0, beta1 and rsq for the linear model of price vs. number of rooms."
      ]
    },
    {
      "cell_type": "code",
      "metadata": {
        "id": "HewZGTPdGDh7"
      },
      "source": [
        "beta0, beta1, rsq = fit_linear(x,y)"
      ],
      "execution_count": null,
      "outputs": []
    },
    {
      "cell_type": "markdown",
      "metadata": {
        "id": "M-P0NRpxz2bb"
      },
      "source": [
        "Replot the scatter plot above, but now with the regression line. You can create the regression line by creating points xp from say 4 to 9, computing the linear predicted values yp on those points and plotting yp vs. xp on top of the above plot."
      ]
    },
    {
      "cell_type": "code",
      "metadata": {
        "id": "Qk9XtwayGLTW",
        "outputId": "97628efa-2318-48f4-b7bc-e1f1d64b9c3e",
        "colab": {
          "base_uri": "https://localhost:8080/",
          "height": 296
        }
      },
      "source": [
        "xplt = np.array([4,9])          \n",
        "yplt = beta1*xplt + beta0\n",
        "print(rsq)\n",
        "plt.plot(x,y,'o')                   \n",
        "plt.plot(xplt,yplt,'-',linewidth=3)  \n",
        "plt.xlabel('Price')\n",
        "plt.ylabel('Avg rooms')\n",
        "plt.grid(True)"
      ],
      "execution_count": null,
      "outputs": [
        {
          "output_type": "stream",
          "text": [
            "0.483525455991334\n"
          ],
          "name": "stdout"
        },
        {
          "output_type": "display_data",
          "data": {
            "image/png": "[encoded data removed]",
            "text/plain": [
              "<Figure size 432x288 with 1 Axes>"
            ]
          },
          "metadata": {
            "tags": [],
            "needs_background": "light"
          }
        }
      ]
    },
    {
      "cell_type": "markdown",
      "metadata": {
        "id": "er4NXD8z0GdH"
      },
      "source": [
        "**Compute coefficients of determination**\n",
        "\n",
        "We next compute the $R^2$ values for all the predictors and output the values in a table. Your table should look like the following, where each the first column is the attribute name and the second column is the $R^2$ value."
      ]
    },
    {
      "cell_type": "code",
      "metadata": {
        "id": "i1X5xaazRI0q",
        "outputId": "a9c453cf-695a-49f1-d6cb-555f15df8dda",
        "colab": {
          "base_uri": "https://localhost:8080/",
          "height": 238
        }
      },
      "source": [
        "for i in range (0, len(names)-1):\n",
        "  x =np.array(df[names[i]])\n",
        "  beta0, beta1, rsq = fit_linear(x,y)\n",
        "  print('{:7}  {:.9f}' .format(names[i], rsq))"
      ],
      "execution_count": null,
      "outputs": [
        {
          "output_type": "stream",
          "text": [
            "CRIM     0.150780469\n",
            "ZN       0.129920845\n",
            "INDUS    0.233990030\n",
            "CHAS     0.030716130\n",
            "NOX      0.182603043\n",
            "RM       0.483525456\n",
            "AGE      0.142094744\n",
            "DIS      0.062464372\n",
            "RAD      0.145638580\n",
            "TAX      0.219525921\n",
            "PTRATIO  0.257847318\n",
            "B        0.111196118\n",
            "LSTAT    0.544146298\n"
          ],
          "name": "stdout"
        }
      ]
    }
  ]
}