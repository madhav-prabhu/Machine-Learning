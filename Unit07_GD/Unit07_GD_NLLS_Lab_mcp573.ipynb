{
  "nbformat": 4,
  "nbformat_minor": 0,
  "metadata": {
    "kernelspec": {
      "display_name": "Python [default]",
      "language": "python",
      "name": "python3"
    },
    "language_info": {
      "codemirror_mode": {
        "name": "ipython",
        "version": 3
      },
      "file_extension": ".py",
      "mimetype": "text/x-python",
      "name": "python",
      "nbconvert_exporter": "python",
      "pygments_lexer": "ipython3",
      "version": "3.5.6"
    },
    "colab": {
      "name": "Unit07_GD_NLLS_Lab.ipynb",
      "provenance": [],
      "collapsed_sections": []
    }
  },
  "cells": [
    {
      "cell_type": "markdown",
      "metadata": {
        "id": "c8S_egzJx8G1"
      },
      "source": [
        "# Lab:  Nonlinear Least Squares for Modeling Materials"
      ]
    },
    {
      "cell_type": "code",
      "metadata": {
        "id": "DqmI5sclx8G3"
      },
      "source": [
        "import pandas as pd\n",
        "import numpy as np\n",
        "import matplotlib.pyplot as plt\n",
        "from sklearn.linear_model import Ridge, LinearRegression"
      ],
      "execution_count": 1,
      "outputs": []
    },
    {
      "cell_type": "markdown",
      "metadata": {
        "id": "QmNx4qfKx8G8"
      },
      "source": [
        "## Load the Data\n"
      ]
    },
    {
      "cell_type": "code",
      "metadata": {
        "id": "NkpuAlf4x8G9",
        "outputId": "a53ea430-04bd-40bb-bb6e-41b49141d518",
        "colab": {
          "base_uri": "https://localhost:8080/",
          "height": 204
        }
      },
      "source": [
        "url = 'https://itl.nist.gov/div898/strd/nls/data/LINKS/DATA/Hahn1.dat'\n",
        "df = pd.read_csv(url, skiprows=60, sep=' ',skipinitialspace=True, names=['y0','x0','dummy'])\n",
        "df.head()"
      ],
      "execution_count": 2,
      "outputs": [
        {
          "output_type": "execute_result",
          "data": {
            "text/html": [
              "<div>\n",
              "<style scoped>\n",
              "    .dataframe tbody tr th:only-of-type {\n",
              "        vertical-align: middle;\n",
              "    }\n",
              "\n",
              "    .dataframe tbody tr th {\n",
              "        vertical-align: top;\n",
              "    }\n",
              "\n",
              "    .dataframe thead th {\n",
              "        text-align: right;\n",
              "    }\n",
              "</style>\n",
              "<table border=\"1\" class=\"dataframe\">\n",
              "  <thead>\n",
              "    <tr style=\"text-align: right;\">\n",
              "      <th></th>\n",
              "      <th>y0</th>\n",
              "      <th>x0</th>\n",
              "      <th>dummy</th>\n",
              "    </tr>\n",
              "  </thead>\n",
              "  <tbody>\n",
              "    <tr>\n",
              "      <th>0</th>\n",
              "      <td>0.591</td>\n",
              "      <td>24.41</td>\n",
              "      <td>NaN</td>\n",
              "    </tr>\n",
              "    <tr>\n",
              "      <th>1</th>\n",
              "      <td>1.547</td>\n",
              "      <td>34.82</td>\n",
              "      <td>NaN</td>\n",
              "    </tr>\n",
              "    <tr>\n",
              "      <th>2</th>\n",
              "      <td>2.902</td>\n",
              "      <td>44.09</td>\n",
              "      <td>NaN</td>\n",
              "    </tr>\n",
              "    <tr>\n",
              "      <th>3</th>\n",
              "      <td>2.894</td>\n",
              "      <td>45.07</td>\n",
              "      <td>NaN</td>\n",
              "    </tr>\n",
              "    <tr>\n",
              "      <th>4</th>\n",
              "      <td>4.703</td>\n",
              "      <td>54.98</td>\n",
              "      <td>NaN</td>\n",
              "    </tr>\n",
              "  </tbody>\n",
              "</table>\n",
              "</div>"
            ],
            "text/plain": [
              "      y0     x0  dummy\n",
              "0  0.591  24.41    NaN\n",
              "1  1.547  34.82    NaN\n",
              "2  2.902  44.09    NaN\n",
              "3  2.894  45.07    NaN\n",
              "4  4.703  54.98    NaN"
            ]
          },
          "metadata": {
            "tags": []
          },
          "execution_count": 2
        }
      ]
    },
    {
      "cell_type": "markdown",
      "metadata": {
        "id": "V73F-v7Ix8HD"
      },
      "source": [
        "Extract the `x0` and `y0` into arrays.  Rescale, `x0` and `y0` to values between `0` and `1` by dividing `x0` and `y0` by the maximum value.  Store the scaled values in vectors `x` and `y`.  The rescaling will help with the conditioning of the fitting.  Plot, `y` vs. `x`. "
      ]
    },
    {
      "cell_type": "code",
      "metadata": {
        "id": "FJDY0QAXx8HD",
        "outputId": "b42f9684-056a-4ec2-e301-1fe8f88fec94",
        "colab": {
          "base_uri": "https://localhost:8080/",
          "height": 282
        }
      },
      "source": [
        "x0 = np.array(df['x0'])\n",
        "y0 = np.array(df['y0'])\n",
        "x = x0/np.max(x0)\n",
        "y = y0/np.max(y0)\n",
        "plt.plot(x,y, 'o')"
      ],
      "execution_count": 3,
      "outputs": [
        {
          "output_type": "execute_result",
          "data": {
            "text/plain": [
              "[<matplotlib.lines.Line2D at 0x7f4d39b30b38>]"
            ]
          },
          "metadata": {
            "tags": []
          },
          "execution_count": 3
        },
        {
          "output_type": "display_data",
          "data": {
            "image/png": "[encoded data removed]",
            "text/plain": [
              "<Figure size 432x288 with 1 Axes>"
            ]
          },
          "metadata": {
            "tags": [],
            "needs_background": "light"
          }
        }
      ]
    },
    {
      "cell_type": "markdown",
      "metadata": {
        "id": "dVMG_d5Ix8HI"
      },
      "source": [
        "To make the problem a little more challenging, we will add some noise.  Add random Gaussian noise with mean 0 and std. dev = 0.05 to `y`.  Store the noisy results in `yn`. You can use the `np.random.normal()` function to add Gaussian noise. Plot `yn` vs. `x`."
      ]
    },
    {
      "cell_type": "code",
      "metadata": {
        "id": "hHWV8CKOx8HI"
      },
      "source": [
        "yn = y + np.random.normal(0, 0.02, y.shape)"
      ],
      "execution_count": 4,
      "outputs": []
    },
    {
      "cell_type": "markdown",
      "metadata": {
        "id": "xPeokTDGx8HM"
      },
      "source": [
        "Split the data `(x,yn)` into training and test.  Let `xtr,ytr` be training data and `xts,yts` be the test data.  You can use the `train_test_split` function.  Set `test_size=0.33` so that 1/3 of the samples are held out for test."
      ]
    },
    {
      "cell_type": "code",
      "metadata": {
        "id": "mI_J_XWGx8HN"
      },
      "source": [
        "from sklearn.model_selection import train_test_split\n",
        "\n",
        "Xtr, Xts, ytr, yts = train_test_split(x,yn,test_size = 0.33)"
      ],
      "execution_count": 5,
      "outputs": []
    },
    {
      "cell_type": "markdown",
      "metadata": {
        "id": "HjKS75e-x8HQ"
      },
      "source": [
        "## Initial Fit for a Rational Model"
      ]
    },
    {
      "cell_type": "code",
      "metadata": {
        "id": "77QOVZ2tx8HR"
      },
      "source": [
        "def predict(w,x):\n",
        "    \n",
        "    d = (len(w)-1)//2\n",
        "    \n",
        "    a = np.flip(w[:d+1]) \n",
        "    b = np.flip(w[d+1:])\n",
        "    \n",
        "\n",
        "    yhat = np.polyval(a,x)/(1 + np.polyval(b,x)) \n",
        "    return yhat"
      ],
      "execution_count": 6,
      "outputs": []
    },
    {
      "cell_type": "code",
      "metadata": {
        "id": "yq8lkrG-INxu"
      },
      "source": [
        "Xtr = Xtr.reshape(-1,1)\n",
        "Xts = Xts.reshape(-1,1)\n",
        "ytr = ytr.reshape(-1,1)\n",
        "yts = yts.reshape(-1,1)"
      ],
      "execution_count": 7,
      "outputs": []
    },
    {
      "cell_type": "code",
      "metadata": {
        "id": "NNpv0_k8x8HV"
      },
      "source": [
        "d = 3\n",
        "\n",
        "xf = Xtr\n",
        "for i in range(d-1):\n",
        "    xf = np.hstack([xf, Xtr**(i+2)])\n",
        "\n",
        "yf = -np.multiply(ytr, xf)   \n",
        "Z = np.column_stack([xf, yf])\n",
        "\n",
        "\n",
        "regr = LinearRegression()\n",
        "regr.fit(Z,ytr)\n",
        "\n",
        "winit = np.hstack([np.array([regr.intercept_]), regr.coef_])\n",
        "winit = np.transpose(winit)"
      ],
      "execution_count": 8,
      "outputs": []
    },
    {
      "cell_type": "markdown",
      "metadata": {
        "id": "IPrhXjLxx8HZ"
      },
      "source": [
        "Now plot the predicted values of the `yhat` vs. `x` using your estimated parameter `winit` for 1000 values `x` in `[0,1]`.  On the same plot, plot `yts` vs. `xts`.  You will see that you get a horrible fit."
      ]
    },
    {
      "cell_type": "code",
      "metadata": {
        "id": "jsAcZ-ZVx8Ha",
        "outputId": "5e95243d-e336-4a27-b782-9e3283b14526",
        "colab": {
          "base_uri": "https://localhost:8080/",
          "height": 282
        }
      },
      "source": [
        "xpred = np.linspace(0,1, num = 1000)\n",
        "yhat = predict(winit, xpred)\n",
        "plt.plot(xpred, yhat)\n",
        "plt.plot(Xts, yts, 'o')"
      ],
      "execution_count": 9,
      "outputs": [
        {
          "output_type": "execute_result",
          "data": {
            "text/plain": [
              "[<matplotlib.lines.Line2D at 0x7f4d39b10dd8>]"
            ]
          },
          "metadata": {
            "tags": []
          },
          "execution_count": 9
        },
        {
          "output_type": "display_data",
          "data": {
            "image/png": "[encoded data removed]",
            "text/plain": [
              "<Figure size 432x288 with 1 Axes>"
            ]
          },
          "metadata": {
            "tags": [],
            "needs_background": "light"
          }
        }
      ]
    },
    {
      "cell_type": "markdown",
      "metadata": {
        "id": "BuEest9Fx8Hf"
      },
      "source": [
        "Using Ridge Regression"
      ]
    },
    {
      "cell_type": "code",
      "metadata": {
        "id": "6qVw7bDfx8Hg",
        "outputId": "45a7da2b-bace-4a3c-82a4-cb966d07a8f4",
        "colab": {
          "base_uri": "https://localhost:8080/",
          "height": 265
        }
      },
      "source": [
        "regr = Ridge(alpha=1e-3)\n",
        "regr.fit(Z, ytr)\n",
        "\n",
        "winit = np.hstack([np.array([regr.intercept_]), regr.coef_])\n",
        "winit = np.transpose(winit)\n",
        "\n",
        "xr = np.linspace(0,1, num = 1000)\n",
        "yr = predict(winit, xr)\n",
        "plt.plot(xr, yr)\n",
        "plt.plot(Xts, yts,'o')\n",
        "wr = winit"
      ],
      "execution_count": 10,
      "outputs": [
        {
          "output_type": "display_data",
          "data": {
            "image/png": "[encoded data removed]",
            "text/plain": [
              "<Figure size 432x288 with 1 Axes>"
            ]
          },
          "metadata": {
            "tags": [],
            "needs_background": "light"
          }
        }
      ]
    },
    {
      "cell_type": "markdown",
      "metadata": {
        "id": "bQj7-lcLx8Hk"
      },
      "source": [
        "## Creating a Loss Function\n"
      ]
    },
    {
      "cell_type": "code",
      "metadata": {
        "id": "XJvd0-8Mx8Hl"
      },
      "source": [
        "def feval(w,x,y):\n",
        "        \n",
        "    d = (len(w)-1)//2\n",
        "    a = w[:d+1] \n",
        "    b = w[d+1:]\n",
        "        \n",
        "    Znum = np.zeros((Xtr.shape[0], d+1))\n",
        "    Zden = np.zeros((Xtr.shape[0], d+1))\n",
        "    \n",
        "    for i in range(x.shape[0]):\n",
        "        for j in range(d+1):\n",
        "            Znum[i,j] = x[i]**j\n",
        "            Zden[i,j] = x[i]**(j+1)\n",
        "\n",
        "    \n",
        "    Zden = np.delete(Zden, d, 1)\n",
        "    Zdt = np.dot(Zden,b).reshape(-1,1)\n",
        "    Zdt = np.sum((np.ones((x.shape[0],1)), Zdt),axis=0)\n",
        "    \n",
        "    yhat = Znum.dot(a)/(Zdt)\n",
        "    \n",
        "    f = 0.5*np.sum((y-yhat)**2) \n",
        "    \n",
        "    temp1 = np.sum((y-yhat), axis = 1)\n",
        "    temp2 = Znum/(Zdt)\n",
        "    fgrad_a = -np.dot(temp1, temp2).reshape(-1,1)\n",
        "        \n",
        "    temp3 = (yhat*Zden)/Zdt\n",
        "    fgrad_b = np.dot(temp1, temp3).reshape(-1,1)\n",
        "    \n",
        "    fgrad = np.vstack([fgrad_a, fgrad_b])\n",
        "    \n",
        "    return f, fgrad"
      ],
      "execution_count": 11,
      "outputs": []
    },
    {
      "cell_type": "markdown",
      "metadata": {
        "id": "l9dRhcFJx8Ho"
      },
      "source": [
        "Test the gradient function:\n",
        "* Take `w0=winit` and compute `f0,fgrad0 = feval(w0,xtr,ytr)`\n",
        "* Take `w1` very close to `w0` and compute `f1,fgrad1 = feval(w1,xtr,ytr)`\n",
        "* Verify that `f1-f0` is close to the predicted value based on the gradient."
      ]
    },
    {
      "cell_type": "code",
      "metadata": {
        "id": "1NT-xUEQx8Hq",
        "outputId": "4633d4b6-9e4d-472d-e7f4-288ca685c216",
        "colab": {
          "base_uri": "https://localhost:8080/",
          "height": 51
        }
      },
      "source": [
        "p = Xtr.shape[1]+1\n",
        "w0 = wr\n",
        "\n",
        "step = 1e-6\n",
        "w1 = w0 + step*np.random.randn(p)\n",
        "w1 = w1[:,1].reshape(-1,1)\n",
        "f0, fgrad0 = feval(w0, Xtr, ytr)\n",
        "f1, fgrad1 = feval(w1, Xtr, ytr)\n",
        "\n",
        "df_est = np.sum(np.multiply(fgrad0, (w1-w0)))\n",
        "\n",
        "print(\"Actual f1-f0    = {}\".format((f1-f0)))\n",
        "print(\"Predicted f1-f0 = {}\".format(df_est))"
      ],
      "execution_count": 12,
      "outputs": [
        {
          "output_type": "stream",
          "text": [
            "Actual f1-f0    = 1.0529440980233673e-07\n",
            "Predicted f1-f0 = 1.0524644641463945e-07\n"
          ],
          "name": "stdout"
        }
      ]
    },
    {
      "cell_type": "markdown",
      "metadata": {
        "id": "xv44VK2Px8Hu"
      },
      "source": [
        "## Implement gradient descent\n",
        "\n",
        "We will now try to minimize the loss function with gradient descent.  Using the function `feval` defined above, implement gradient descent.  Run gradient descent with a step size of `alpha=1e-6` starting at `w=winit`.  Run it for `nit=10000` iterations.  Compute `fgd[it]`= the objective function on iteration `it`.  Plot `fgd[it]` vs. `it`.  \n",
        "\n",
        "You should see that the training loss decreases, but it still hasn't converged after 10000 iterations."
      ]
    },
    {
      "cell_type": "code",
      "metadata": {
        "id": "aCQPRFZLx8Hv",
        "outputId": "b690fe0f-704d-4b26-b332-e6d70b94ef15",
        "colab": {
          "base_uri": "https://localhost:8080/",
          "height": 282
        }
      },
      "source": [
        "nit = 10000\n",
        "step = 1e-6\n",
        "fgd = np.ones(nit)\n",
        "w0 = wr\n",
        "\n",
        "for it in range(nit):\n",
        "    f0, fgrad0 = feval(w0, Xtr, ytr)\n",
        "    fgd[it] = f0\n",
        "    w0 = w0 - step*fgrad0\n",
        "\n",
        "plt.plot(fgd)"
      ],
      "execution_count": 13,
      "outputs": [
        {
          "output_type": "execute_result",
          "data": {
            "text/plain": [
              "[<matplotlib.lines.Line2D at 0x7f4d395d5ac8>]"
            ]
          },
          "metadata": {
            "tags": []
          },
          "execution_count": 13
        },
        {
          "output_type": "display_data",
          "data": {
            "image/png": "[encoded data removed]",
            "text/plain": [
              "<Figure size 432x288 with 1 Axes>"
            ]
          },
          "metadata": {
            "tags": [],
            "needs_background": "light"
          }
        }
      ]
    },
    {
      "cell_type": "markdown",
      "metadata": {
        "id": "pkN0Psy4x8Hy"
      },
      "source": [
        "Now, try to get a faster convergence with adaptive step-size using the Armijo rule. Implement the gradient descent with adaptive step size.  Let `fadapt[it]` be the loss function on iteration `it`.  Plot `fadapt[it]` and `fgd[it]` vs. `it` on the same graph.  You should see a slight improvement, but not much."
      ]
    },
    {
      "cell_type": "code",
      "metadata": {
        "scrolled": true,
        "id": "lx67Anvgx8Hz",
        "outputId": "896fa7c4-43d9-4b2c-805d-2de9c8e6265d",
        "colab": {
          "base_uri": "https://localhost:8080/",
          "height": 296
        }
      },
      "source": [
        "nit = 10000\n",
        "step = 1e-6  \n",
        "lr_init = 1e-3\n",
        "lr_min = 1e-6\n",
        "beta = 2\n",
        "\n",
        "w0 = wr\n",
        "lr = lr_init\n",
        "cost_ad = np.ones(nit)\n",
        "\n",
        "f0, fgrad0 =  feval(w0, Xtr, ytr)\n",
        "\n",
        "for it in range(nit):\n",
        "    wt = w0 - lr*fgrad0\n",
        "    f1, fgrad1 = feval(wt, Xtr, ytr)\n",
        "    df_est = np.sum(np.multiply(fgrad0, (wt-w0)))\n",
        "    c = 0.6\n",
        "    \n",
        "    if (((f1-f0) < c*df_est) and (f1<f0)):\n",
        "        lr = lr*beta\n",
        "        f0 = f1\n",
        "        fgrad0 = fgrad1\n",
        "        w0 = wt\n",
        "    else:\n",
        "        lr = lr/beta\n",
        "        lr = np.maximum(lr, lr_min)\n",
        "    cost_ad[it] = f0\n",
        "\n",
        "plt.plot(fgd, 'r-')\n",
        "plt.plot(cost_ad, 'g-')\n",
        "plt.xlabel('Iter')\n",
        "plt.ylabel('Cost')"
      ],
      "execution_count": 14,
      "outputs": [
        {
          "output_type": "execute_result",
          "data": {
            "text/plain": [
              "Text(0, 0.5, 'Cost')"
            ]
          },
          "metadata": {
            "tags": []
          },
          "execution_count": 14
        },
        {
          "output_type": "display_data",
          "data": {
            "image/png": "[encoded data removed]",
            "text/plain": [
              "<Figure size 432x288 with 1 Axes>"
            ]
          },
          "metadata": {
            "tags": [],
            "needs_background": "light"
          }
        }
      ]
    },
    {
      "cell_type": "markdown",
      "metadata": {
        "id": "SC5WNEHqx8H2"
      },
      "source": [
        "Using he final estimate for `w` from the adaptive step-size plot the predicted values of the `yhat` vs. `x` usfor 1000 values `x` in `[0,1]`.  On the same plot, plot `yhat` vs. `x` for the initial parameter `w=winit`.  Also, plot `yts` vs. `xts`.  You should see that gradient descent was able to improve the estimat slightly, although the initial estimate was not too bad."
      ]
    },
    {
      "cell_type": "code",
      "metadata": {
        "id": "zBtsWTcZx8H3",
        "outputId": "2961fcc2-7f6e-4537-ac7e-c39a4caedd98",
        "colab": {
          "base_uri": "https://localhost:8080/",
          "height": 282
        }
      },
      "source": [
        "xpred = np.linspace(0,1,num = 1000)\n",
        "yhat1 = predict(w0, xpred)\n",
        "plt.plot(xpred, yhat1, 'g-')\n",
        "\n",
        "yhat2 = predict(winit, xpred)\n",
        "plt.plot(xpred, yhat2, 'r-')\n",
        "\n",
        "plt.plot(Xts, yts, 'x')"
      ],
      "execution_count": 15,
      "outputs": [
        {
          "output_type": "execute_result",
          "data": {
            "text/plain": [
              "[<matplotlib.lines.Line2D at 0x7f4d3959fb70>]"
            ]
          },
          "metadata": {
            "tags": []
          },
          "execution_count": 15
        },
        {
          "output_type": "display_data",
          "data": {
            "image/png": "[encoded data removed]",
            "text/plain": [
              "<Figure size 432x288 with 1 Axes>"
            ]
          },
          "metadata": {
            "tags": [],
            "needs_background": "light"
          }
        }
      ]
    },
    {
      "cell_type": "markdown",
      "metadata": {
        "id": "YQwe_hJDx8H7"
      },
      "source": [
        "## Momentum Gradient Descent\n",
        "\n",
        "This section is bonus.\n",
        "\n",
        "One way to improve gradient descent is to use *momentum*.  In momentum gradient descent, the update rule is:\n",
        "\n",
        "    f, fgrad = feval(w,...)\n",
        "    z = beta*z + fgrad\n",
        "    w = w - step*z\n",
        "    \n",
        "This is similar to gradient descent, except that there is a second order term on the gradient.  Implement this algorithm with `beta = 0.99` and `step=1e-5`.   Compare the convergence of the loss function with gradient descent.  "
      ]
    },
    {
      "cell_type": "code",
      "metadata": {
        "id": "14mX7SePx8H7"
      },
      "source": [
        "nit = 1000\n",
        "step = 1e-5\n",
        "beta = 0.99\n",
        "\n",
        "w0 = winit\n",
        "cost = np.ones(nit)\n",
        "Z = np.ones(len(w0))\n",
        "\n",
        "f0, fgrad0 =  feval(w0, Xtr, ytr)\n",
        "\n",
        "for it in range(nit):\n",
        "    f0, fgrad0 = feval(w0,Xtr,ytr)\n",
        "    Z = beta*Z + (1-beta)*fgrad0\n",
        "    w0 = w0 - step*fgrad0\n",
        "    cost[it] = f0    "
      ],
      "execution_count": 16,
      "outputs": []
    },
    {
      "cell_type": "code",
      "metadata": {
        "id": "EdNCCGiax8H_",
        "outputId": "e4af57e7-8146-4191-bc0c-eef26433a81c",
        "colab": {
          "base_uri": "https://localhost:8080/",
          "height": 296
        }
      },
      "source": [
        "plt.plot(fgd,'b-')\n",
        "\n",
        "plt.plot(cost_ad,'g-')\n",
        "plt.plot(cost,'r-')\n",
        "plt.xlabel(\"Iter\")\n",
        "plt.ylabel(\"Cost\")"
      ],
      "execution_count": 17,
      "outputs": [
        {
          "output_type": "execute_result",
          "data": {
            "text/plain": [
              "Text(0, 0.5, 'Cost')"
            ]
          },
          "metadata": {
            "tags": []
          },
          "execution_count": 17
        },
        {
          "output_type": "display_data",
          "data": {
            "image/png": "[encoded data removed]",
            "text/plain": [
              "<Figure size 432x288 with 1 Axes>"
            ]
          },
          "metadata": {
            "tags": [],
            "needs_background": "light"
          }
        }
      ]
    }
  ]
}