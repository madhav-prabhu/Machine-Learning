{
  "nbformat": 4,
  "nbformat_minor": 0,
  "metadata": {
    "colab": {
      "name": "Unit11_PCA_Lab_Wine.ipynb",
      "provenance": [],
      "collapsed_sections": []
    },
    "kernelspec": {
      "name": "python3",
      "display_name": "Python 3"
    }
  },
  "cells": [
    {
      "cell_type": "markdown",
      "metadata": {
        "id": "6nw0d26vnXy6"
      },
      "source": [
        "# **Lab: Hyper-Parameter Optimization with PCA**\n",
        "\n",
        "Downloading packages"
      ]
    },
    {
      "cell_type": "code",
      "metadata": {
        "id": "8Bhk1uC-m-Ze"
      },
      "source": [
        "import numpy as np\n",
        "import matplotlib\n",
        "import matplotlib.pyplot as plt"
      ],
      "execution_count": 1,
      "outputs": []
    },
    {
      "cell_type": "markdown",
      "metadata": {
        "id": "1A3blWH_n536"
      },
      "source": [
        "Downloading the data"
      ]
    },
    {
      "cell_type": "code",
      "metadata": {
        "colab": {
          "base_uri": "https://localhost:8080/"
        },
        "id": "OrDhQbhWnyKN",
        "outputId": "97ac346e-35fb-4ad7-e369-80bacf65af14"
      },
      "source": [
        "from sklearn.datasets import load_wine\n",
        "from sklearn.model_selection import KFold\n",
        "data = load_wine()\n",
        "\n",
        "print('Feature:',data.feature_names)\n",
        "print('Target:',data.target_names)"
      ],
      "execution_count": 2,
      "outputs": [
        {
          "output_type": "stream",
          "text": [
            "Feature: ['alcohol', 'malic_acid', 'ash', 'alcalinity_of_ash', 'magnesium', 'total_phenols', 'flavanoids', 'nonflavanoid_phenols', 'proanthocyanins', 'color_intensity', 'hue', 'od280/od315_of_diluted_wines', 'proline']\n",
            "Target: ['class_0' 'class_1' 'class_2']\n"
          ],
          "name": "stdout"
        }
      ]
    },
    {
      "cell_type": "code",
      "metadata": {
        "colab": {
          "base_uri": "https://localhost:8080/"
        },
        "id": "FWGo2vmFooJq",
        "outputId": "a3bb4403-afd2-4692-ca71-d6fb5a116642"
      },
      "source": [
        "X = data.data\n",
        "y = data.target\n",
        "\n",
        "print('Numer of Samples:',np.shape(X)[0])\n",
        "print('Numer of Features:',np.shape(X)[1])\n",
        "print('Number of classes:',np.size(np.unique(y)))"
      ],
      "execution_count": 3,
      "outputs": [
        {
          "output_type": "stream",
          "text": [
            "Numer of Samples: 178\n",
            "Numer of Features: 13\n",
            "Number of classes: 3\n"
          ],
          "name": "stdout"
        }
      ]
    },
    {
      "cell_type": "markdown",
      "metadata": {
        "id": "Z0YQreyJotI-"
      },
      "source": [
        "Performing PCA for Visualization"
      ]
    },
    {
      "cell_type": "code",
      "metadata": {
        "colab": {
          "base_uri": "https://localhost:8080/"
        },
        "id": "Z2WBes1QoxuO",
        "outputId": "448cd2e8-d705-43bd-a744-51b0dc9983c6"
      },
      "source": [
        "from sklearn.preprocessing import StandardScaler\n",
        "\n",
        "scaling = StandardScaler()\n",
        "scaling.fit(X)\n",
        "Xs = scaling.transform(X)\n",
        "print(Xs)"
      ],
      "execution_count": 4,
      "outputs": [
        {
          "output_type": "stream",
          "text": [
            "[[ 1.51861254 -0.5622498   0.23205254 ...  0.36217728  1.84791957\n",
            "   1.01300893]\n",
            " [ 0.24628963 -0.49941338 -0.82799632 ...  0.40605066  1.1134493\n",
            "   0.96524152]\n",
            " [ 0.19687903  0.02123125  1.10933436 ...  0.31830389  0.78858745\n",
            "   1.39514818]\n",
            " ...\n",
            " [ 0.33275817  1.74474449 -0.38935541 ... -1.61212515 -1.48544548\n",
            "   0.28057537]\n",
            " [ 0.20923168  0.22769377  0.01273209 ... -1.56825176 -1.40069891\n",
            "   0.29649784]\n",
            " [ 1.39508604  1.58316512  1.36520822 ... -1.52437837 -1.42894777\n",
            "  -0.59516041]]\n"
          ],
          "name": "stdout"
        }
      ]
    },
    {
      "cell_type": "code",
      "metadata": {
        "colab": {
          "base_uri": "https://localhost:8080/"
        },
        "id": "xS8Lvb30pUSO",
        "outputId": "e8633ade-4b48-4e18-8c2d-7254e675d164"
      },
      "source": [
        "from sklearn.decomposition import PCA\n",
        "\n",
        "ncomp = 2\n",
        "pca = PCA(n_components=2,svd_solver='randomized',whiten=True)\n",
        "pca.fit(Xs)\n",
        "Z = pca.transform(Xs)\n",
        "print(Z)"
      ],
      "execution_count": 5,
      "outputs": [
        {
          "output_type": "stream",
          "text": [
            "[[ 1.52465094 -0.91090938]\n",
            " [ 1.01565144  0.21039044]\n",
            " [ 1.15690036 -0.65071682]\n",
            " [ 1.72705576 -1.7394321 ]\n",
            " [ 0.46377716 -0.54891417]\n",
            " [ 1.40214709 -1.33935935]\n",
            " [ 1.12580265 -0.74139921]\n",
            " [ 0.94668624 -1.01534988]\n",
            " [ 1.15420394 -0.5793565 ]\n",
            " [ 1.26579355 -0.49818136]\n",
            " [ 1.59957262 -0.82184851]\n",
            " [ 0.80662848 -0.38619344]\n",
            " [ 0.97152078 -0.42641026]\n",
            " [ 1.58965274 -0.7134936 ]\n",
            " [ 1.98250951 -1.3226833 ]\n",
            " [ 1.05965372 -1.04916746]\n",
            " [ 0.99840893 -1.46866587]\n",
            " [ 0.87292303 -1.0294892 ]\n",
            " [ 1.6281871  -1.58922223]\n",
            " [ 0.95821752 -0.66964015]\n",
            " [ 1.43623188 -0.49657809]\n",
            " [ 0.4994768  -0.15255433]\n",
            " [ 1.1653971   0.05795683]\n",
            " [ 0.75617167  0.3258022 ]\n",
            " [ 0.80976487  0.20013954]\n",
            " [ 0.45512163 -0.59361615]\n",
            " [ 0.81606333 -0.43301669]\n",
            " [ 0.56790227  0.05667346]\n",
            " [ 1.00597119 -0.4351588 ]\n",
            " [ 1.03709288 -0.12082373]\n",
            " [ 1.14930636 -0.78303881]\n",
            " [ 1.2307579  -0.92883843]\n",
            " [ 0.74862865 -0.03325956]\n",
            " [ 0.87463291 -1.03055673]\n",
            " [ 0.64833034 -0.4404374 ]\n",
            " [ 0.87515482 -0.11151493]\n",
            " [ 0.63659636 -0.41564029]\n",
            " [ 0.51585864 -0.07200996]\n",
            " [ 0.6905319   0.48555666]\n",
            " [ 1.16290425 -1.13779977]\n",
            " [ 1.18970111 -0.49198349]\n",
            " [ 0.3072892  -0.10725527]\n",
            " [ 1.41159497 -0.72945252]\n",
            " [ 0.21246926 -0.20871762]\n",
            " [ 0.96595384  0.04481079]\n",
            " [ 0.52227524 -1.12145879]\n",
            " [ 1.25336962 -0.75180195]\n",
            " [ 1.29691913 -0.40782698]\n",
            " [ 0.92389243 -0.78694857]\n",
            " [ 1.24458525 -1.1055939 ]\n",
            " [ 1.47783997 -0.1053817 ]\n",
            " [ 1.31421262 -0.47031453]\n",
            " [ 1.61146353 -1.0177295 ]\n",
            " [ 1.02269674 -1.18334081]\n",
            " [ 0.98693184 -0.64162969]\n",
            " [ 1.13510653 -0.83868208]\n",
            " [ 1.26022668 -0.90654638]\n",
            " [ 0.99922976 -0.76496906]\n",
            " [ 1.44311682 -1.0927278 ]\n",
            " [-0.4268525   1.93954957]\n",
            " [-0.70905049  0.87177168]\n",
            " [-0.84409112  0.5237686 ]\n",
            " [ 0.01406941  0.79689199]\n",
            " [ 0.94246853  1.21480819]\n",
            " [-0.28025935  1.20409683]\n",
            " [ 0.41381861  0.48207288]\n",
            " [ 1.03359848  1.18928821]\n",
            " [ 0.08429835  1.53167131]\n",
            " [-0.37363191  0.13915715]\n",
            " [ 0.90815735  0.88555382]\n",
            " [-0.72271963  0.55847619]\n",
            " [ 0.76200663  0.60374137]\n",
            " [-0.33344069  0.67122255]\n",
            " [ 1.17780993 -0.16420059]\n",
            " [ 0.84239848  0.81272633]\n",
            " [-0.39900079  1.54237097]\n",
            " [ 0.17008899  1.35924144]\n",
            " [-0.66993012  0.87297596]\n",
            " [ 0.58054669  0.4864512 ]\n",
            " [ 0.17290959  0.64812449]\n",
            " [ 0.35030713  2.12985652]\n",
            " [ 0.47557696  0.9154828 ]\n",
            " [-0.22748598  1.502704  ]\n",
            " [-1.16712228  0.05518195]\n",
            " [ 0.38398171  0.92997236]\n",
            " [ 0.36218564  1.27891996]\n",
            " [-0.37088629  1.40967775]\n",
            " [-0.2565222   1.49749269]\n",
            " [-0.51259657  1.13732346]\n",
            " [-0.25545583  1.67706326]\n",
            " [-0.62024227  1.33658293]\n",
            " [-0.71916463  1.16885582]\n",
            " [-0.8883612   0.98413299]\n",
            " [ 0.34322896  1.45959528]\n",
            " [ 0.44012508  1.4031765 ]\n",
            " [ 1.16936926 -0.10682185]\n",
            " [-0.25004526  0.23281418]\n",
            " [ 0.4739551   1.61902444]\n",
            " [ 1.03516242  0.90414367]\n",
            " [ 0.64825104  1.36699381]\n",
            " [ 0.3666975   1.49999385]\n",
            " [-0.25260989  1.44709844]\n",
            " [-0.07408868  0.73485712]\n",
            " [-0.30329592  1.69121231]\n",
            " [ 0.18035829  1.32442255]\n",
            " [-0.81478607  1.08370966]\n",
            " [-0.16836654  1.368989  ]\n",
            " [-0.74499415  0.85545257]\n",
            " [ 0.03794022  1.45536902]\n",
            " [ 0.72550478  0.92262919]\n",
            " [ 0.65301024  0.8949713 ]\n",
            " [-0.12811466  1.21830146]\n",
            " [-0.5990324   0.48160649]\n",
            " [-0.21010775  1.43213404]\n",
            " [-0.22716838  1.22365093]\n",
            " [ 0.22160097  2.44332222]\n",
            " [-0.11624849  1.78052683]\n",
            " [-0.04929062  1.21726277]\n",
            " [-1.11841231  0.79332962]\n",
            " [-0.25332599  1.40231399]\n",
            " [ 0.33999095  0.88913411]\n",
            " [ 0.61428317 -0.1598702 ]\n",
            " [-0.54108581  0.41900197]\n",
            " [-0.21252712  0.39017606]\n",
            " [ 0.44978701  0.91223959]\n",
            " [-0.0445017   1.33153228]\n",
            " [ 0.01769185  0.79940111]\n",
            " [-0.73418515  0.76240935]\n",
            " [-0.2204474   1.22352199]\n",
            " [-0.82413343  0.72589911]\n",
            " [-0.61004486 -0.10752556]\n",
            " [-1.09611232 -0.23638349]\n",
            " [-1.35005875 -0.1665122 ]\n",
            " [-0.98685062 -0.23239045]\n",
            " [-1.08938655  0.29005638]\n",
            " [-1.40839309 -0.22302418]\n",
            " [-1.80000187 -0.09755066]\n",
            " [-1.80952171 -0.4163013 ]\n",
            " [-1.4223833  -0.22014022]\n",
            " [-1.09150208 -0.18425682]\n",
            " [-1.27737054 -0.1809907 ]\n",
            " [-1.05109126 -0.23507428]\n",
            " [-1.37244223 -0.30872517]\n",
            " [-1.09183446 -0.30438087]\n",
            " [-1.0158356  -0.73206102]\n",
            " [-1.20695094 -0.35538745]\n",
            " [-1.96773297 -0.40998037]\n",
            " [-1.64687606 -0.80314996]\n",
            " [-1.29035691 -0.99109879]\n",
            " [-1.33292145 -1.28802633]\n",
            " [-1.06680122 -1.48700481]\n",
            " [-1.17211161 -1.29069326]\n",
            " [-0.83319276 -0.96403407]\n",
            " [-1.26878905 -1.3497915 ]\n",
            " [-1.25821905 -0.25866222]\n",
            " [-1.65709365 -1.13740997]\n",
            " [-1.32840125 -1.21492564]\n",
            " [-1.55931339 -0.82787086]\n",
            " [-0.48183044 -2.21822744]\n",
            " [-0.74004784 -1.51872964]\n",
            " [-1.444841   -0.4658229 ]\n",
            " [-1.02976    -0.74178746]\n",
            " [-1.30902462 -0.35089631]\n",
            " [-1.19402287 -0.44045711]\n",
            " [-1.35574009 -0.98149095]\n",
            " [-1.6226926  -0.55692604]\n",
            " [-1.10604591 -1.63592847]\n",
            " [-1.34644778 -0.80425061]\n",
            " [-1.00275638 -1.31104765]\n",
            " [-1.09446985 -1.63360072]\n",
            " [-1.4763229   0.1585529 ]\n",
            " [-1.69067335 -0.53497848]\n",
            " [-1.13337184 -1.38441515]\n",
            " [-1.54936957 -1.39860819]\n",
            " [-1.1960725  -1.10891462]\n",
            " [-1.23095483 -1.74228894]\n",
            " [-1.097269   -1.44976023]\n",
            " [-1.47500865 -1.74735036]]\n"
          ],
          "name": "stdout"
        }
      ]
    },
    {
      "cell_type": "code",
      "metadata": {
        "colab": {
          "base_uri": "https://localhost:8080/",
          "height": 352
        },
        "id": "Qmo9sJ2ipaMR",
        "outputId": "3c038839-20c4-44f2-8117-dbeee5dae2e1"
      },
      "source": [
        "class_0=np.where(y==0)\n",
        "class_1=np.where(y==1)\n",
        "class_2=np.where(y==2)\n",
        "for i in class_0:\n",
        "    plt.scatter(Z[i,0], Z[i,1],c='m',label='Class 0')\n",
        "for i in class_1:\n",
        "    plt.scatter(Z[i,0], Z[i,1],c='k',label='Class 1')\n",
        "for i in class_2:\n",
        "    plt.scatter(Z[i,0], Z[i,1],c='B',label='Class 2')\n",
        "plt.legend() \n",
        "plt.xlabel('PC1')\n",
        "plt.ylabel('PC2')"
      ],
      "execution_count": 6,
      "outputs": [
        {
          "output_type": "stream",
          "text": [
            "/usr/local/lib/python3.6/dist-packages/ipykernel_launcher.py:9: MatplotlibDeprecationWarning: Support for uppercase single-letter colors is deprecated since Matplotlib 3.1 and will be removed in 3.3; please use lowercase instead.\n",
            "  if __name__ == '__main__':\n"
          ],
          "name": "stderr"
        },
        {
          "output_type": "execute_result",
          "data": {
            "text/plain": [
              "Text(0, 0.5, 'PC2')"
            ]
          },
          "metadata": {
            "tags": []
          },
          "execution_count": 6
        },
        {
          "output_type": "display_data",
          "data": {
            "image/png": "[encoded data removed]",
            "text/plain": [
              "<Figure size 432x288 with 1 Axes>"
            ]
          },
          "metadata": {
            "tags": [],
            "needs_background": "light"
          }
        }
      ]
    },
    {
      "cell_type": "code",
      "metadata": {
        "colab": {
          "base_uri": "https://localhost:8080/",
          "height": 385
        },
        "id": "i1E2Ppgnpf2t",
        "outputId": "24fe6b9c-ef17-4831-d918-194e1d137061"
      },
      "source": [
        "nfeatures = np.shape(Xs)[1]\n",
        "pca = PCA(n_components=nfeatures,svd_solver='randomized',whiten=True)\n",
        "pca.fit(Xs)\n",
        "Z_new = pca.transform(Xs)\n",
        "print(pca.singular_values_)\n",
        "PoV = np.cumsum(pca.singular_values_**2)/np.sum(pca.singular_values_**2)\n",
        "plt.plot(PoV)\n",
        "plt.xlabel('Number of PCs', fontsize=10)\n",
        "plt.ylabel('PoV', fontsize=10)\n",
        "\n",
        "print(pca.singular_values_)"
      ],
      "execution_count": 7,
      "outputs": [
        {
          "output_type": "stream",
          "text": [
            "[28.94203422 21.08225141 16.04371561 12.78973645 12.32374195 10.68713954\n",
            "  9.90368818  7.8760733   7.17081793  6.6828618   6.33958815  5.48097635\n",
            "  4.28967045]\n",
            "[28.94203422 21.08225141 16.04371561 12.78973645 12.32374195 10.68713954\n",
            "  9.90368818  7.8760733   7.17081793  6.6828618   6.33958815  5.48097635\n",
            "  4.28967045]\n"
          ],
          "name": "stdout"
        },
        {
          "output_type": "display_data",
          "data": {
            "image/png": "[encoded data removed]",
            "text/plain": [
              "<Figure size 432x288 with 1 Axes>"
            ]
          },
          "metadata": {
            "tags": [],
            "needs_background": "light"
          }
        }
      ]
    },
    {
      "cell_type": "markdown",
      "metadata": {
        "id": "zDQlJBD_pkvT"
      },
      "source": [
        "**Using PCA with Classification**"
      ]
    },
    {
      "cell_type": "code",
      "metadata": {
        "id": "CFOBSOK9plnY"
      },
      "source": [
        "from sklearn.preprocessing import StandardScaler\n",
        "from sklearn.linear_model import LogisticRegression\n",
        "nfold = 5\n",
        "\n",
        "kf = KFold(n_splits=nfold)\n",
        "kf.get_n_splits(X)\n",
        "\n",
        "ncomp_test = np.arange(2,12)\n",
        "num_nc = len(ncomp_test)\n",
        "\n",
        "acc = np.zeros((num_nc,nfold))\n",
        "\n",
        "for icomp, ncomp in enumerate(ncomp_test):\n",
        "    \n",
        "    for ifold, I in enumerate(kf.split(X)):\n",
        "        Itr, Its = I\n",
        "        \n",
        "        Xtr, Xts, ytr, yts = X[Itr], X[Its], y[Itr], y[Its]\n",
        "\n",
        "        scaler = StandardScaler()\n",
        "        scaler.fit(Xtr)\n",
        "        Xs_tr = scaler.transform(Xtr)\n",
        "        \n",
        "        pca = PCA(n_components=ncomp, svd_solver='randomized', whiten=True)\n",
        "        pca.fit(Xs_tr)\n",
        "        Z_tr = pca.transform(Xs_tr)\n",
        "        \n",
        "        logreg = LogisticRegression(multi_class='auto', solver='lbfgs')\n",
        "        logreg.fit(Z_tr, ytr)\n",
        "        \n",
        "        Xs_new = scaler.transform(Xts)\n",
        "        Z_new = pca.transform(Xs_new)\n",
        "        \n",
        "        yhat = logreg.predict(Z_new)\n",
        "\n",
        "        \n",
        "        acc[icomp, ifold] = np.mean(yhat == yts)"
      ],
      "execution_count": 8,
      "outputs": []
    },
    {
      "cell_type": "code",
      "metadata": {
        "colab": {
          "base_uri": "https://localhost:8080/",
          "height": 402
        },
        "id": "f2DQnDtqpzOT",
        "outputId": "1bbc153f-36ce-46a3-9952-ab7462e89430"
      },
      "source": [
        "acc_mean = np.mean(acc,axis=1)\n",
        "print(acc_mean)\n",
        "acc_se =np.std(acc,axis=1)/np.sqrt(nfold-1)\n",
        "print(acc_se)\n",
        "print(ncomp_test.shape)\n",
        "plt.errorbar(ncomp_test,acc_mean,yerr=acc_se,fmt='-')\n",
        "plt.xlabel('No of components')\n",
        "plt.ylabel('Accuracy')\n",
        "\n",
        "imax = np.argmax(acc_mean)\n",
        "print('Opt Acc:',np.max(acc_mean))\n",
        "print(\"Selected order using normal rule is {0:d}\".format(ncomp_test[imax]))"
      ],
      "execution_count": 9,
      "outputs": [
        {
          "output_type": "stream",
          "text": [
            "[0.92714286 0.92174603 0.93301587 0.91619048 0.93269841 0.94952381\n",
            " 0.94952381 0.94968254 0.94428571 0.95539683]\n",
            "[0.01414035 0.02023047 0.0240891  0.01941867 0.00655135 0.01035585\n",
            " 0.01035585 0.01364433 0.0195863  0.01662769]\n",
            "(10,)\n",
            "Opt Acc: 0.9553968253968254\n",
            "Selected order using normal rule is 11\n"
          ],
          "name": "stdout"
        },
        {
          "output_type": "display_data",
          "data": {
            "image/png": "[encoded data removed]",
            "text/plain": [
              "<Figure size 432x288 with 1 Axes>"
            ]
          },
          "metadata": {
            "tags": [],
            "needs_background": "light"
          }
        }
      ]
    },
    {
      "cell_type": "code",
      "metadata": {
        "colab": {
          "base_uri": "https://localhost:8080/",
          "height": 314
        },
        "id": "EWZzf6Ixp52o",
        "outputId": "2c584a5c-854c-4b42-b513-c04d52e67d09"
      },
      "source": [
        "acc_tgt = acc_mean[imax] - acc_se[imax]\n",
        "I = np.where(acc_mean >= acc_tgt)[0]\n",
        "iopt = I[0]\n",
        "dopt = ncomp_test[iopt]\n",
        "\n",
        "plt.errorbar(ncomp_test, acc_mean, yerr=acc_se, fmt='-')\n",
        "plt.plot([ncomp_test[iopt],ncomp_test[imax]], [acc_tgt, acc_tgt], '--')\n",
        "\n",
        "plt.plot([dopt,dopt], [0.90,0.98],'g--')\n",
        "plt.xlabel('Components')\n",
        "plt.ylabel('Accuracy')\n",
        "print(\"1 SE rule, order = %d\" % dopt)\n",
        "print('Accuracy:',acc_mean[iopt])"
      ],
      "execution_count": 10,
      "outputs": [
        {
          "output_type": "stream",
          "text": [
            "1 SE rule, order = 7\n",
            "Accuracy: 0.9495238095238095\n"
          ],
          "name": "stdout"
        },
        {
          "output_type": "display_data",
          "data": {
            "image/png": "[encoded data removed]",
            "text/plain": [
              "<Figure size 432x288 with 1 Axes>"
            ]
          },
          "metadata": {
            "tags": [],
            "needs_background": "light"
          }
        }
      ]
    },
    {
      "cell_type": "markdown",
      "metadata": {
        "id": "v_ZmBrVtp9ju"
      },
      "source": [
        "**Hyper-Parameter Optimization with GridCV**"
      ]
    },
    {
      "cell_type": "code",
      "metadata": {
        "id": "93azVhFXqAEM"
      },
      "source": [
        "from sklearn.pipeline import Pipeline\n",
        "from sklearn.model_selection import GridSearchCV\n",
        "from sklearn.svm import SVC\n",
        "\n",
        "scaler = StandardScaler()\n",
        "pca = PCA()\n",
        "svc = SVC(kernel=\"rbf\")\n",
        "pipe = Pipeline(steps=[('scaler', scaler), ('pca', pca), ('svc', svc)])"
      ],
      "execution_count": 11,
      "outputs": []
    },
    {
      "cell_type": "code",
      "metadata": {
        "id": "tXOKkRQeqDvC"
      },
      "source": [
        "ncomp_test=np.arange(3,11)\n",
        "powers1=np.arange(-2,4)\n",
        "c_test=pow(10.0,powers1)\n",
        "powers2=np.arange(-3,2)\n",
        "gam_test=pow(10.0,powers2)"
      ],
      "execution_count": 12,
      "outputs": []
    },
    {
      "cell_type": "code",
      "metadata": {
        "colab": {
          "base_uri": "https://localhost:8080/"
        },
        "id": "nXeHrM98qHEA",
        "outputId": "d8ae7413-a3e2-4dfb-d812-0571d5502485"
      },
      "source": [
        "params = {'pca__n_components': ncomp_test, 'svc__C' : c_test,'svc__gamma':gam_test}\n",
        "estimator = GridSearchCV(pipe,params,cv=5, return_train_score=True, iid=False)\n",
        "estimator.fit(X,y)"
      ],
      "execution_count": 13,
      "outputs": [
        {
          "output_type": "stream",
          "text": [
            "/usr/local/lib/python3.6/dist-packages/sklearn/model_selection/_search.py:823: FutureWarning: The parameter 'iid' is deprecated in 0.22 and will be removed in 0.24.\n",
            "  \"removed in 0.24.\", FutureWarning\n"
          ],
          "name": "stderr"
        },
        {
          "output_type": "execute_result",
          "data": {
            "text/plain": [
              "GridSearchCV(cv=5, error_score=nan,\n",
              "             estimator=Pipeline(memory=None,\n",
              "                                steps=[('scaler',\n",
              "                                        StandardScaler(copy=True,\n",
              "                                                       with_mean=True,\n",
              "                                                       with_std=True)),\n",
              "                                       ('pca',\n",
              "                                        PCA(copy=True, iterated_power='auto',\n",
              "                                            n_components=None,\n",
              "                                            random_state=None,\n",
              "                                            svd_solver='auto', tol=0.0,\n",
              "                                            whiten=False)),\n",
              "                                       ('svc',\n",
              "                                        SVC(C=1.0, break_ties=False,\n",
              "                                            cache_size=200, class_weight=None,\n",
              "                                            coef0=0.0,\n",
              "                                            decision_functi...\n",
              "                                            random_state=None, shrinking=True,\n",
              "                                            tol=0.001, verbose=False))],\n",
              "                                verbose=False),\n",
              "             iid=False, n_jobs=None,\n",
              "             param_grid={'pca__n_components': array([ 3,  4,  5,  6,  7,  8,  9, 10]),\n",
              "                         'svc__C': array([1.e-02, 1.e-01, 1.e+00, 1.e+01, 1.e+02, 1.e+03]),\n",
              "                         'svc__gamma': array([1.e-03, 1.e-02, 1.e-01, 1.e+00, 1.e+01])},\n",
              "             pre_dispatch='2*n_jobs', refit=True, return_train_score=True,\n",
              "             scoring=None, verbose=0)"
            ]
          },
          "metadata": {
            "tags": []
          },
          "execution_count": 13
        }
      ]
    },
    {
      "cell_type": "code",
      "metadata": {
        "colab": {
          "base_uri": "https://localhost:8080/"
        },
        "id": "jGkm_GQKqJDG",
        "outputId": "8dfd6d1a-fbcb-49d8-cbb8-4cb281b72923"
      },
      "source": [
        "print('Best Score:',estimator.best_score_)\n",
        "print('Best Parameter:',estimator.best_params_)"
      ],
      "execution_count": 14,
      "outputs": [
        {
          "output_type": "stream",
          "text": [
            "Best Score: 0.9777777777777779\n",
            "Best Parameter: {'pca__n_components': 5, 'svc__C': 1.0, 'svc__gamma': 0.1}\n"
          ],
          "name": "stdout"
        }
      ]
    },
    {
      "cell_type": "code",
      "metadata": {
        "colab": {
          "base_uri": "https://localhost:8080/",
          "height": 367
        },
        "id": "EJcBMBp6qMcm",
        "outputId": "af36d666-29e2-4e86-8aec-f72f59102068"
      },
      "source": [
        "test_score = estimator.cv_results_['mean_test_score']\n",
        "comp_five=test_score[60:90]\n",
        "\n",
        "plt.imshow(comp_five.reshape(6,5), aspect='auto', cmap='Greens')\n",
        "plt.ylabel('C')\n",
        "plt.xlabel('Gamma')\n",
        "plt.colorbar()\n",
        "\n",
        "ax = plt.gca()\n",
        "ax.set_yticks(np.arange(len(c_test)))\n",
        "ax.set_yticklabels(c_test)\n",
        "ax.set_xticks(np.arange(len(gam_test)))\n",
        "ax.set_xticklabels(gam_test)"
      ],
      "execution_count": 15,
      "outputs": [
        {
          "output_type": "execute_result",
          "data": {
            "text/plain": [
              "[Text(0, 0, '0.001'),\n",
              " Text(0, 0, '0.01'),\n",
              " Text(0, 0, '0.1'),\n",
              " Text(0, 0, '1.0'),\n",
              " Text(0, 0, '10.0')]"
            ]
          },
          "metadata": {
            "tags": []
          },
          "execution_count": 15
        },
        {
          "output_type": "display_data",
          "data": {
            "image/png": "[encoded data removed]",
            "text/plain": [
              "<Figure size 432x288 with 2 Axes>"
            ]
          },
          "metadata": {
            "tags": [],
            "needs_background": "light"
          }
        }
      ]
    }
  ]
}