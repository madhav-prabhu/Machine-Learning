{
  "nbformat": 4,
  "nbformat_minor": 0,
  "metadata": {
    "colab": {
      "name": "Unit06_LogReg_Cancer.ipynb",
      "provenance": [],
      "collapsed_sections": []
    },
    "kernelspec": {
      "name": "python3",
      "display_name": "Python 3"
    }
  },
  "cells": [
    {
      "cell_type": "markdown",
      "metadata": {
        "id": "yY22tJEp49lm"
      },
      "source": [
        "# **Breast Cancer Diagnosis via Logistic Regression**"
      ]
    },
    {
      "cell_type": "markdown",
      "metadata": {
        "id": "Zwp99fI-5LqY"
      },
      "source": [
        "Loading & Visualizing data"
      ]
    },
    {
      "cell_type": "code",
      "metadata": {
        "id": "YVbuGU2G4vkZ"
      },
      "source": [
        "import numpy as np\n",
        "import matplotlib\n",
        "import matplotlib.pyplot as plt\n",
        "import pandas as pd\n",
        "from sklearn import datasets, linear_model, preprocessing"
      ],
      "execution_count": 1,
      "outputs": []
    },
    {
      "cell_type": "code",
      "metadata": {
        "id": "DsK53Yu85Qqy",
        "outputId": "6f630a7a-d606-47ef-cf50-caee168057f9",
        "colab": {
          "base_uri": "https://localhost:8080/",
          "height": 235
        }
      },
      "source": [
        "names = ['id','thick','size_unif','shape_unif','marg','cell_size','bare',\n",
        "         'chrom','normal','mit','class']\n",
        "df = pd.read_csv('https://archive.ics.uci.edu/ml/machine-learning-databases/' +\n",
        "                 'breast-cancer-wisconsin/breast-cancer-wisconsin.data',\n",
        "                names=names,na_values='?',header=None)\n",
        "df = df.dropna()\n",
        "df.head(6)"
      ],
      "execution_count": 2,
      "outputs": [
        {
          "output_type": "execute_result",
          "data": {
            "text/html": [
              "<div>\n",
              "<style scoped>\n",
              "    .dataframe tbody tr th:only-of-type {\n",
              "        vertical-align: middle;\n",
              "    }\n",
              "\n",
              "    .dataframe tbody tr th {\n",
              "        vertical-align: top;\n",
              "    }\n",
              "\n",
              "    .dataframe thead th {\n",
              "        text-align: right;\n",
              "    }\n",
              "</style>\n",
              "<table border=\"1\" class=\"dataframe\">\n",
              "  <thead>\n",
              "    <tr style=\"text-align: right;\">\n",
              "      <th></th>\n",
              "      <th>id</th>\n",
              "      <th>thick</th>\n",
              "      <th>size_unif</th>\n",
              "      <th>shape_unif</th>\n",
              "      <th>marg</th>\n",
              "      <th>cell_size</th>\n",
              "      <th>bare</th>\n",
              "      <th>chrom</th>\n",
              "      <th>normal</th>\n",
              "      <th>mit</th>\n",
              "      <th>class</th>\n",
              "    </tr>\n",
              "  </thead>\n",
              "  <tbody>\n",
              "    <tr>\n",
              "      <th>0</th>\n",
              "      <td>1000025</td>\n",
              "      <td>5</td>\n",
              "      <td>1</td>\n",
              "      <td>1</td>\n",
              "      <td>1</td>\n",
              "      <td>2</td>\n",
              "      <td>1.0</td>\n",
              "      <td>3</td>\n",
              "      <td>1</td>\n",
              "      <td>1</td>\n",
              "      <td>2</td>\n",
              "    </tr>\n",
              "    <tr>\n",
              "      <th>1</th>\n",
              "      <td>1002945</td>\n",
              "      <td>5</td>\n",
              "      <td>4</td>\n",
              "      <td>4</td>\n",
              "      <td>5</td>\n",
              "      <td>7</td>\n",
              "      <td>10.0</td>\n",
              "      <td>3</td>\n",
              "      <td>2</td>\n",
              "      <td>1</td>\n",
              "      <td>2</td>\n",
              "    </tr>\n",
              "    <tr>\n",
              "      <th>2</th>\n",
              "      <td>1015425</td>\n",
              "      <td>3</td>\n",
              "      <td>1</td>\n",
              "      <td>1</td>\n",
              "      <td>1</td>\n",
              "      <td>2</td>\n",
              "      <td>2.0</td>\n",
              "      <td>3</td>\n",
              "      <td>1</td>\n",
              "      <td>1</td>\n",
              "      <td>2</td>\n",
              "    </tr>\n",
              "    <tr>\n",
              "      <th>3</th>\n",
              "      <td>1016277</td>\n",
              "      <td>6</td>\n",
              "      <td>8</td>\n",
              "      <td>8</td>\n",
              "      <td>1</td>\n",
              "      <td>3</td>\n",
              "      <td>4.0</td>\n",
              "      <td>3</td>\n",
              "      <td>7</td>\n",
              "      <td>1</td>\n",
              "      <td>2</td>\n",
              "    </tr>\n",
              "    <tr>\n",
              "      <th>4</th>\n",
              "      <td>1017023</td>\n",
              "      <td>4</td>\n",
              "      <td>1</td>\n",
              "      <td>1</td>\n",
              "      <td>3</td>\n",
              "      <td>2</td>\n",
              "      <td>1.0</td>\n",
              "      <td>3</td>\n",
              "      <td>1</td>\n",
              "      <td>1</td>\n",
              "      <td>2</td>\n",
              "    </tr>\n",
              "    <tr>\n",
              "      <th>5</th>\n",
              "      <td>1017122</td>\n",
              "      <td>8</td>\n",
              "      <td>10</td>\n",
              "      <td>10</td>\n",
              "      <td>8</td>\n",
              "      <td>7</td>\n",
              "      <td>10.0</td>\n",
              "      <td>9</td>\n",
              "      <td>7</td>\n",
              "      <td>1</td>\n",
              "      <td>4</td>\n",
              "    </tr>\n",
              "  </tbody>\n",
              "</table>\n",
              "</div>"
            ],
            "text/plain": [
              "        id  thick  size_unif  shape_unif  marg  ...  bare  chrom  normal  mit  class\n",
              "0  1000025      5          1           1     1  ...   1.0      3       1    1      2\n",
              "1  1002945      5          4           4     5  ...  10.0      3       2    1      2\n",
              "2  1015425      3          1           1     1  ...   2.0      3       1    1      2\n",
              "3  1016277      6          8           8     1  ...   4.0      3       7    1      2\n",
              "4  1017023      4          1           1     3  ...   1.0      3       1    1      2\n",
              "5  1017122      8         10          10     8  ...  10.0      9       7    1      4\n",
              "\n",
              "[6 rows x 11 columns]"
            ]
          },
          "metadata": {
            "tags": []
          },
          "execution_count": 2
        }
      ]
    },
    {
      "cell_type": "code",
      "metadata": {
        "id": "bE6sBMKS5Vx2",
        "outputId": "72476c63-22f5-4b73-853f-167b18a88c88",
        "colab": {
          "base_uri": "https://localhost:8080/",
          "height": 307
        }
      },
      "source": [
        "yraw = np.array(df['class'])\n",
        "BEN_VAL = 2   \n",
        "MAL_VAL = 4   \n",
        "y = (yraw == MAL_VAL).astype(int)\n",
        "Iben = (y==0)\n",
        "Imal = (y==1)\n",
        "\n",
        "xnames =['size_unif','marg'] \n",
        "X = np.array(df[xnames])\n",
        "\n",
        "plt.plot(X[Imal,0],X[Imal,1],'r.')\n",
        "plt.plot(X[Iben,0],X[Iben,1],'g.')\n",
        "plt.xlabel(xnames[0], fontsize=16)\n",
        "plt.ylabel(xnames[1], fontsize=16)\n",
        "plt.ylim(0,14)\n",
        "plt.legend(['malign','benign'],loc='upper right')"
      ],
      "execution_count": 3,
      "outputs": [
        {
          "output_type": "execute_result",
          "data": {
            "text/plain": [
              "<matplotlib.legend.Legend at 0x7fb181031e48>"
            ]
          },
          "metadata": {
            "tags": []
          },
          "execution_count": 3
        },
        {
          "output_type": "display_data",
          "data": {
            "image/png": "[encoded data removed]",
            "text/plain": [
              "<Figure size 432x288 with 1 Axes>"
            ]
          },
          "metadata": {
            "tags": [],
            "needs_background": "light"
          }
        }
      ]
    },
    {
      "cell_type": "markdown",
      "metadata": {
        "id": "dSVW4oRq6LVX"
      },
      "source": [
        "Improving on the above plot"
      ]
    },
    {
      "cell_type": "code",
      "metadata": {
        "id": "fr3jsU5I6N-n",
        "outputId": "8356474c-7cd7-4e61-8f03-43ddac9e6fb6",
        "colab": {
          "base_uri": "https://localhost:8080/",
          "height": 290
        }
      },
      "source": [
        "def plot_cnt(X,y,legend=True):\n",
        "    \n",
        "    x0val = np.array(list(set(X[:,0]))).astype(float)\n",
        "    x1val = np.array(list(set(X[:,1]))).astype(float)\n",
        "    x0, x1 = np.meshgrid(x0val,x1val)\n",
        "    x0e= np.hstack((x0val,np.max(x0val)+1))\n",
        "    x1e= np.hstack((x1val,np.max(x1val)+1))\n",
        "\n",
        "    yval = list(set(y))\n",
        "    color = ['g','r']\n",
        "    for i in range(len(yval)):\n",
        "        I = np.where(y==yval[i])[0]\n",
        "        cnt, x0e, x1e = np.histogram2d(X[I,0],X[I,1],[x0e,x1e])\n",
        "        x0, x1 = np.meshgrid(x0val,x1val)\n",
        "        plt.scatter(x0.ravel(), x1.ravel(), s=2*cnt.ravel(),alpha=0.5,\n",
        "                    c=color[i],edgecolors='none')\n",
        "    if legend:\n",
        "        plt.ylim([0,14])\n",
        "        plt.legend(['benign','malign'], loc='upper right')\n",
        "        plt.xlabel(xnames[0], fontsize=16)\n",
        "        plt.ylabel(xnames[1], fontsize=16)   \n",
        "        \n",
        "plot_cnt(X,y)"
      ],
      "execution_count": 4,
      "outputs": [
        {
          "output_type": "display_data",
          "data": {
            "image/png": "[encoded data removed]",
            "text/plain": [
              "<Figure size 432x288 with 1 Axes>"
            ]
          },
          "metadata": {
            "tags": [],
            "needs_background": "light"
          }
        }
      ]
    },
    {
      "cell_type": "markdown",
      "metadata": {
        "id": "bayUQotj7tW1"
      },
      "source": [
        "Some Simple Classification Ideas"
      ]
    },
    {
      "cell_type": "code",
      "metadata": {
        "id": "4lELCQkE7pHX",
        "outputId": "2ac2153a-6cfd-45b1-86a8-bdd7a502da33",
        "colab": {
          "base_uri": "https://localhost:8080/",
          "height": 307
        }
      },
      "source": [
        "from matplotlib import patches\n",
        "plot_cnt(X,y)\n",
        "\n",
        "ax = plt.gca() \n",
        "ax.add_patch(\n",
        "    patches.Polygon([[0,0],[0,4],[6,0]],\n",
        "        color='green',\n",
        "        fill=False, hatch = '//'\n",
        "    )\n",
        ")"
      ],
      "execution_count": 6,
      "outputs": [
        {
          "output_type": "execute_result",
          "data": {
            "text/plain": [
              "<matplotlib.patches.Polygon at 0x7fb180a76400>"
            ]
          },
          "metadata": {
            "tags": []
          },
          "execution_count": 6
        },
        {
          "output_type": "display_data",
          "data": {
            "image/png": "[encoded data removed]",
            "text/plain": [
              "<Figure size 432x288 with 1 Axes>"
            ]
          },
          "metadata": {
            "tags": [],
            "needs_background": "light"
          }
        }
      ]
    },
    {
      "cell_type": "code",
      "metadata": {
        "id": "xs6bE7z3AqZ_",
        "outputId": "971a3712-13f3-44ba-c9c2-34d49e4a513c",
        "colab": {
          "base_uri": "https://localhost:8080/",
          "height": 307
        }
      },
      "source": [
        "plot_cnt(X,y)\n",
        "ax = plt.gca()\n",
        "ax.add_patch(\n",
        "    patches.Rectangle(\n",
        "        (0, 0),   # (x,y)\n",
        "        width=3.5, height=4.5,  color='green',\n",
        "        fill=False, hatch = '//'\n",
        "    )\n",
        ")"
      ],
      "execution_count": 7,
      "outputs": [
        {
          "output_type": "execute_result",
          "data": {
            "text/plain": [
              "<matplotlib.patches.Rectangle at 0x7fb1809e23c8>"
            ]
          },
          "metadata": {
            "tags": []
          },
          "execution_count": 7
        },
        {
          "output_type": "display_data",
          "data": {
            "image/png": "[encoded data removed]",
            "text/plain": [
              "<Figure size 432x288 with 1 Axes>"
            ]
          },
          "metadata": {
            "tags": [],
            "needs_background": "light"
          }
        }
      ]
    },
    {
      "cell_type": "markdown",
      "metadata": {
        "id": "98RzaEn0A6gg"
      },
      "source": [
        "**Logistic Functions**"
      ]
    },
    {
      "cell_type": "code",
      "metadata": {
        "id": "QbgvQaHIA2da",
        "outputId": "67d589bf-1d12-49f9-db34-5b5423977dd0",
        "colab": {
          "base_uri": "https://localhost:8080/",
          "height": 281
        }
      },
      "source": [
        "nx = 100\n",
        "xm = 10\n",
        "w1s = np.array([0.5,1,2,10])\n",
        "nplot = w1s.size\n",
        "iplot = 0\n",
        "for w1 in w1s:\n",
        "    iplot += 1\n",
        "    x  = np.random.uniform(-xm,xm,nx)\n",
        "    plt.subplot(1,nplot,iplot)\n",
        "    py = 1/(1+np.exp(-w1*x))\n",
        "    yp = np.array(np.random.rand(nx) < py)\n",
        "    xp = np.linspace(-xm,xm,100)\n",
        "    pyp = 1/(1+np.exp(-w1*xp))\n",
        "\n",
        "    plt.scatter(x,yp,c=yp,edgecolors='none',marker='+')\n",
        "    plt.plot(xp,pyp,'b-')\n",
        "    plt.axis([-xm,xm,-0.1,1.1])\n",
        "    plt.grid()\n",
        "    if (iplot > 1):\n",
        "        plt.yticks([])\n",
        "    plt.xticks([-10,0,10])\n",
        "    plt.title('w1={0:.1f}'.format(w1))"
      ],
      "execution_count": 8,
      "outputs": [
        {
          "output_type": "display_data",
          "data": {
            "image/png": "[encoded data removed]",
            "text/plain": [
              "<Figure size 432x288 with 4 Axes>"
            ]
          },
          "metadata": {
            "tags": [],
            "needs_background": "light"
          }
        }
      ]
    },
    {
      "cell_type": "markdown",
      "metadata": {
        "id": "UJxcbuirBSsU"
      },
      "source": [
        "**Fitting Logistic Model on Two Variables**"
      ]
    },
    {
      "cell_type": "code",
      "metadata": {
        "id": "spM0qJK9BV8Z",
        "outputId": "0fa23296-aa8a-4872-a2fd-72515714a546",
        "colab": {
          "base_uri": "https://localhost:8080/",
          "height": 34
        }
      },
      "source": [
        "xnames =['size_unif','marg'] \n",
        "X = np.array(df[xnames])\n",
        "print(X.shape)"
      ],
      "execution_count": 9,
      "outputs": [
        {
          "output_type": "stream",
          "text": [
            "(683, 2)\n"
          ],
          "name": "stdout"
        }
      ]
    },
    {
      "cell_type": "code",
      "metadata": {
        "id": "IO9qZzK2BZNL"
      },
      "source": [
        "from sklearn.model_selection import train_test_split\n",
        "Xtr, Xts, ytr, yts = train_test_split(X,y, test_size=0.30)\n",
        "\n",
        "from sklearn.preprocessing import StandardScaler\n",
        "\n",
        "scal = StandardScaler()\n",
        "Xtr1 = scal.fit_transform(Xtr)\n",
        "Xts1 = scal.transform(Xts)"
      ],
      "execution_count": 10,
      "outputs": []
    },
    {
      "cell_type": "markdown",
      "metadata": {
        "id": "B7f7iXgjBiEt"
      },
      "source": [
        "Fitting data using sklearn package. Parameter C is the level of regularization, wherein higher values mean less regularization"
      ]
    },
    {
      "cell_type": "code",
      "metadata": {
        "id": "rutqSL23Bek5",
        "outputId": "fde0a190-dc28-4289-f178-866fa6ffc1ff",
        "colab": {
          "base_uri": "https://localhost:8080/",
          "height": 102
        }
      },
      "source": [
        "reg = linear_model.LogisticRegression(C=1e5)\n",
        "reg.fit(Xtr1, ytr)"
      ],
      "execution_count": 11,
      "outputs": [
        {
          "output_type": "execute_result",
          "data": {
            "text/plain": [
              "LogisticRegression(C=100000.0, class_weight=None, dual=False,\n",
              "                   fit_intercept=True, intercept_scaling=1, l1_ratio=None,\n",
              "                   max_iter=100, multi_class='auto', n_jobs=None, penalty='l2',\n",
              "                   random_state=None, solver='lbfgs', tol=0.0001, verbose=0,\n",
              "                   warm_start=False)"
            ]
          },
          "metadata": {
            "tags": []
          },
          "execution_count": 11
        }
      ]
    },
    {
      "cell_type": "markdown",
      "metadata": {
        "id": "0Xvvoof4B6If"
      },
      "source": [
        "Measuring Accuracy of the model using test data"
      ]
    },
    {
      "cell_type": "code",
      "metadata": {
        "id": "Ic0K6czJB4ZQ",
        "outputId": "64e53bc8-81e2-4bd6-d298-7c23177b3420",
        "colab": {
          "base_uri": "https://localhost:8080/",
          "height": 34
        }
      },
      "source": [
        "yhat = reg.predict(Xts1)\n",
        "acc = np.mean(yhat == yts)\n",
        "print(\"Accuracy on test data = %f\" % acc)"
      ],
      "execution_count": 12,
      "outputs": [
        {
          "output_type": "stream",
          "text": [
            "Accuracy on test data = 0.907317\n"
          ],
          "name": "stdout"
        }
      ]
    },
    {
      "cell_type": "code",
      "metadata": {
        "id": "pYqIkOkSCA35",
        "outputId": "6a05d949-627b-4456-fd7e-69739e7a1af3",
        "colab": {
          "base_uri": "https://localhost:8080/",
          "height": 330
        }
      },
      "source": [
        "from matplotlib import cm\n",
        "from matplotlib.colors import ListedColormap, LinearSegmentedColormap\n",
        "\n",
        "blue_map = cm.get_cmap('Blues')\n",
        "light_map = ListedColormap(blue_map(np.linspace(0,0.5,100)))\n",
        "\n",
        "# Create grid of points to plot the data\n",
        "xmin = np.array([0,0])\n",
        "xmax = np.array([12,12])\n",
        "nplot = 100\n",
        "xp0 = np.linspace(xmin[0], xmax[0], nplot)\n",
        "xp1 = np.linspace(xmin[1], xmax[1], nplot)\n",
        "Xp0, Xp1 = np.meshgrid(xp0,xp1)\n",
        "Xplot = np.column_stack((Xp0.ravel(), Xp1.ravel()))\n",
        "Zplot = scal.transform(Xplot)\n",
        "\n",
        "\n",
        "prob = reg.predict_proba(Zplot)[:,1]\n",
        "prob_mat = np.fliplr(prob.reshape((nplot, nplot))).T\n",
        "\n",
        "plt.figure(figsize=(10,5))\n",
        "plt.subplot(1,2,1)\n",
        "im = plt.imshow(prob_mat, extent=[xmin[0],xmax[0],xmin[1],xmax[1]], cmap=light_map)\n",
        "plot_cnt(X,y, legend=False)\n",
        "plt.xlabel(xnames[0], fontsize=16)\n",
        "plt.ylabel(xnames[1], fontsize=16)\n",
        "plt.title('Probability')\n",
        "\n",
        "plt.subplot(1,2,2)\n",
        "yhat = (prob_mat > 0.5).astype(float)\n",
        "plt.imshow(yhat, extent=[xmin[0],xmax[0],xmin[1],xmax[1]], cmap=light_map)\n",
        "plot_cnt(X,y, legend=False)\n",
        "plt.xlabel(xnames[0], fontsize=16)\n",
        "plt.title('Class decision')\n",
        "\n",
        "\n",
        "plt.subplots_adjust(bottom=0.1, top=0.9, left=0.1, right=0.8) \n",
        "cb_ax = plt.gcf().add_axes([0.83, 0.15, 0.02, 0.7])\n",
        "plt.colorbar(im, cax=cb_ax)"
      ],
      "execution_count": 13,
      "outputs": [
        {
          "output_type": "execute_result",
          "data": {
            "text/plain": [
              "<matplotlib.colorbar.Colorbar at 0x7fb17e034c18>"
            ]
          },
          "metadata": {
            "tags": []
          },
          "execution_count": 13
        },
        {
          "output_type": "display_data",
          "data": {
            "image/png": "[encoded data removed]",
            "text/plain": [
              "<Figure size 720x360 with 3 Axes>"
            ]
          },
          "metadata": {
            "tags": [],
            "needs_background": "light"
          }
        }
      ]
    },
    {
      "cell_type": "markdown",
      "metadata": {
        "id": "w33jPv3aCRDO"
      },
      "source": [
        "**Fitting the model on all variables**"
      ]
    },
    {
      "cell_type": "code",
      "metadata": {
        "id": "EtnH4e29CO1A",
        "outputId": "6dbd0b0a-b5bb-48c5-ed9e-d6a5af2e63ae",
        "colab": {
          "base_uri": "https://localhost:8080/",
          "height": 34
        }
      },
      "source": [
        "xnames = names[1:-1]\n",
        "X = np.array(df[xnames])\n",
        "print(X.shape)\n",
        "\n",
        "# Split into training and test\n",
        "Xtr, Xts, ytr, yts = train_test_split(X,y, test_size=0.30)"
      ],
      "execution_count": 14,
      "outputs": [
        {
          "output_type": "stream",
          "text": [
            "(683, 9)\n"
          ],
          "name": "stdout"
        }
      ]
    },
    {
      "cell_type": "code",
      "metadata": {
        "id": "7Qp-nvwXCXcQ",
        "outputId": "b46b667b-4634-4954-9acc-48632f893cde",
        "colab": {
          "base_uri": "https://localhost:8080/",
          "height": 34
        }
      },
      "source": [
        "scal = StandardScaler()\n",
        "Xtr1 = scal.fit_transform(Xtr)\n",
        "Xts1 = scal.transform(Xts)\n",
        "\n",
        "# Fit on the scaled trained data\n",
        "reg = linear_model.LogisticRegression(C=1e5)\n",
        "reg.fit(Xtr1, ytr)\n",
        "\n",
        "# Measure accuracy\n",
        "yhat = reg.predict(Xts1)\n",
        "acc = np.mean(yhat == yts)\n",
        "print(\"Accuracy on test data = %f\" % acc)"
      ],
      "execution_count": 15,
      "outputs": [
        {
          "output_type": "stream",
          "text": [
            "Accuracy on test data = 0.985366\n"
          ],
          "name": "stdout"
        }
      ]
    },
    {
      "cell_type": "code",
      "metadata": {
        "id": "Vrcig4l3CddJ",
        "outputId": "9e0804c8-b426-45d0-c49c-4656e97fc6ba",
        "colab": {
          "base_uri": "https://localhost:8080/",
          "height": 328
        }
      },
      "source": [
        "W=reg.coef_\n",
        "data = {'feature': xnames, 'slope': np.squeeze(W)}\n",
        "dfslope = pd.DataFrame(data=data)\n",
        "dfslope"
      ],
      "execution_count": 16,
      "outputs": [
        {
          "output_type": "execute_result",
          "data": {
            "text/html": [
              "<div>\n",
              "<style scoped>\n",
              "    .dataframe tbody tr th:only-of-type {\n",
              "        vertical-align: middle;\n",
              "    }\n",
              "\n",
              "    .dataframe tbody tr th {\n",
              "        vertical-align: top;\n",
              "    }\n",
              "\n",
              "    .dataframe thead th {\n",
              "        text-align: right;\n",
              "    }\n",
              "</style>\n",
              "<table border=\"1\" class=\"dataframe\">\n",
              "  <thead>\n",
              "    <tr style=\"text-align: right;\">\n",
              "      <th></th>\n",
              "      <th>feature</th>\n",
              "      <th>slope</th>\n",
              "    </tr>\n",
              "  </thead>\n",
              "  <tbody>\n",
              "    <tr>\n",
              "      <th>0</th>\n",
              "      <td>thick</td>\n",
              "      <td>1.454283</td>\n",
              "    </tr>\n",
              "    <tr>\n",
              "      <th>1</th>\n",
              "      <td>size_unif</td>\n",
              "      <td>0.077335</td>\n",
              "    </tr>\n",
              "    <tr>\n",
              "      <th>2</th>\n",
              "      <td>shape_unif</td>\n",
              "      <td>0.965218</td>\n",
              "    </tr>\n",
              "    <tr>\n",
              "      <th>3</th>\n",
              "      <td>marg</td>\n",
              "      <td>0.911426</td>\n",
              "    </tr>\n",
              "    <tr>\n",
              "      <th>4</th>\n",
              "      <td>cell_size</td>\n",
              "      <td>0.247079</td>\n",
              "    </tr>\n",
              "    <tr>\n",
              "      <th>5</th>\n",
              "      <td>bare</td>\n",
              "      <td>1.741696</td>\n",
              "    </tr>\n",
              "    <tr>\n",
              "      <th>6</th>\n",
              "      <td>chrom</td>\n",
              "      <td>0.690862</td>\n",
              "    </tr>\n",
              "    <tr>\n",
              "      <th>7</th>\n",
              "      <td>normal</td>\n",
              "      <td>0.694854</td>\n",
              "    </tr>\n",
              "    <tr>\n",
              "      <th>8</th>\n",
              "      <td>mit</td>\n",
              "      <td>1.038358</td>\n",
              "    </tr>\n",
              "  </tbody>\n",
              "</table>\n",
              "</div>"
            ],
            "text/plain": [
              "      feature     slope\n",
              "0       thick  1.454283\n",
              "1   size_unif  0.077335\n",
              "2  shape_unif  0.965218\n",
              "3        marg  0.911426\n",
              "4   cell_size  0.247079\n",
              "5        bare  1.741696\n",
              "6       chrom  0.690862\n",
              "7      normal  0.694854\n",
              "8         mit  1.038358"
            ]
          },
          "metadata": {
            "tags": []
          },
          "execution_count": 16
        }
      ]
    },
    {
      "cell_type": "markdown",
      "metadata": {
        "id": "mBGt4cfMC4N3"
      },
      "source": [
        "**Cross Validation**"
      ]
    },
    {
      "cell_type": "code",
      "metadata": {
        "id": "87C5rtQDC073",
        "outputId": "04e2d860-9261-4122-95a1-962cb7016ebc",
        "colab": {
          "base_uri": "https://localhost:8080/",
          "height": 85
        }
      },
      "source": [
        "from sklearn.model_selection import KFold\n",
        "from sklearn.metrics import precision_recall_fscore_support\n",
        "nfold = 10\n",
        "kf = KFold(n_splits=nfold)\n",
        "acc = np.zeros(nfold)\n",
        "prec = np.zeros(nfold)\n",
        "rec = np.zeros(nfold)\n",
        "f1 = np.zeros(nfold)\n",
        "\n",
        "for i, I in enumerate(kf.split(X)):\n",
        "    \n",
        "    # Get training and test data\n",
        "    train, test = I\n",
        "    Xtr = X[train,:]\n",
        "    ytr = y[train]\n",
        "    Xts = X[test,:]\n",
        "    yts = y[test]\n",
        "    \n",
        "    # Scale the data\n",
        "    scal = StandardScaler()\n",
        "    Xtr1 = scal.fit_transform(Xtr)\n",
        "    Xts1 = scal.transform(Xts)    \n",
        "    \n",
        "    # Fit a model    \n",
        "    reg.fit(Xtr1, ytr)\n",
        "    \n",
        "    # Predict on test samples and measure accuracy\n",
        "    yhat = reg.predict(Xts1)\n",
        "    acc[i] = np.mean(yhat == yts)\n",
        "    \n",
        "    # Measure other performance metrics\n",
        "    prec[i],rec[i],f1[i],_  = precision_recall_fscore_support(yts,yhat,average='binary') \n",
        "\n",
        "precm = np.mean(prec)\n",
        "recm = np.mean(rec)\n",
        "f1m = np.mean(f1)\n",
        "accm= np.mean(acc)\n",
        "\n",
        "# Compute the standard errors\n",
        "prec_se = np.std(prec)/np.sqrt(nfold-1)\n",
        "rec_se = np.std(rec)/np.sqrt(nfold-1)\n",
        "f1_se = np.std(f1)/np.sqrt(nfold-1)\n",
        "acc_se = np.std(acc)/np.sqrt(nfold-1)\n",
        "\n",
        "print('Precision = {0:.4f}, SE={1:.4f}'.format(precm,prec_se))\n",
        "print('Recall =    {0:.4f}, SE={1:.4f}'.format(recm, rec_se))\n",
        "print('f1 =        {0:.4f}, SE={1:.4f}'.format(f1m, f1_se))\n",
        "print('Accuracy =  {0:.4f}, SE={1:.4f}'.format(accm, acc_se))"
      ],
      "execution_count": 17,
      "outputs": [
        {
          "output_type": "stream",
          "text": [
            "Precision = 0.9610, SE=0.0118\n",
            "Recall =    0.9615, SE=0.0144\n",
            "f1 =        0.9608, SE=0.0112\n",
            "Accuracy =  0.9679, SE=0.0110\n"
          ],
          "name": "stdout"
        }
      ]
    },
    {
      "cell_type": "markdown",
      "metadata": {
        "id": "zUubfi0PDQOS"
      },
      "source": [
        "**Plotting the ROC curve**"
      ]
    },
    {
      "cell_type": "code",
      "metadata": {
        "id": "RQKwpbjzDCZo",
        "outputId": "7b126ef0-0875-4243-b952-10ace7ae8661",
        "colab": {
          "base_uri": "https://localhost:8080/",
          "height": 300
        }
      },
      "source": [
        "Xtr, Xts, ytr, yts = train_test_split(X,y, test_size=0.50)\n",
        "\n",
        "\n",
        "# Scale the data\n",
        "scal = StandardScaler()\n",
        "Xtr1 = scal.fit_transform(Xtr)\n",
        "Xts1 = scal.transform(Xts)\n",
        "\n",
        "# Fit on the scaled trained data\n",
        "reg = linear_model.LogisticRegression(C=1e5)\n",
        "reg.fit(Xtr1, ytr)\n",
        "\n",
        "# Predict probability on the test data\n",
        "yprob = reg.predict_proba(Xts1)\n",
        "\n",
        "# Compute FPR and TPR\n",
        "from sklearn import metrics\n",
        "fpr, tpr, thresholds = metrics.roc_curve(yts,yprob[:,1])\n",
        "\n",
        "plt.plot(fpr,tpr)\n",
        "plt.grid()\n",
        "plt.xlabel('FPR')\n",
        "plt.ylabel('TPR')\n",
        "plt.ylim([0.5,1])\n",
        "plt.xlim([0,0.1])"
      ],
      "execution_count": 18,
      "outputs": [
        {
          "output_type": "execute_result",
          "data": {
            "text/plain": [
              "(0.0, 0.1)"
            ]
          },
          "metadata": {
            "tags": []
          },
          "execution_count": 18
        },
        {
          "output_type": "display_data",
          "data": {
            "image/png": "[encoded data removed]",
            "text/plain": [
              "<Figure size 432x288 with 1 Axes>"
            ]
          },
          "metadata": {
            "tags": [],
            "needs_background": "light"
          }
        }
      ]
    },
    {
      "cell_type": "markdown",
      "metadata": {
        "id": "jePLLT53DXyE"
      },
      "source": [
        "Relation between threshold and the TPR and FPR"
      ]
    },
    {
      "cell_type": "code",
      "metadata": {
        "id": "8XZpubSlDwc3",
        "outputId": "59b2a02d-50c2-40a3-d094-f964794ec096",
        "colab": {
          "base_uri": "https://localhost:8080/",
          "height": 296
        }
      },
      "source": [
        "plt.plot(thresholds,tpr, thresholds,fpr)\n",
        "plt.legend(['TPR','FPR'])\n",
        "plt.xlabel('Threshold')\n",
        "plt.xlim([0,1])"
      ],
      "execution_count": 19,
      "outputs": [
        {
          "output_type": "execute_result",
          "data": {
            "text/plain": [
              "(0.0, 1.0)"
            ]
          },
          "metadata": {
            "tags": []
          },
          "execution_count": 19
        },
        {
          "output_type": "display_data",
          "data": {
            "image/png": "[encoded data removed]",
            "text/plain": [
              "<Figure size 432x288 with 1 Axes>"
            ]
          },
          "metadata": {
            "tags": [],
            "needs_background": "light"
          }
        }
      ]
    },
    {
      "cell_type": "markdown",
      "metadata": {
        "id": "7A8AO6bxD43Y"
      },
      "source": [
        "Measuring goodness of the classification method"
      ]
    },
    {
      "cell_type": "code",
      "metadata": {
        "id": "sQhg42rlDyn_",
        "outputId": "1d55e509-e8fa-4792-b907-45eaa6547c1b",
        "colab": {
          "base_uri": "https://localhost:8080/",
          "height": 34
        }
      },
      "source": [
        "auc=metrics.roc_auc_score(yts,yprob[:,1])\n",
        "print(\"AUC=%f\" % auc)"
      ],
      "execution_count": 20,
      "outputs": [
        {
          "output_type": "stream",
          "text": [
            "AUC=0.996103\n"
          ],
          "name": "stdout"
        }
      ]
    }
  ]
}