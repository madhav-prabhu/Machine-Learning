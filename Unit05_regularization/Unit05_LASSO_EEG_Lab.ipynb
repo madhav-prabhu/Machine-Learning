{
  "nbformat": 4,
  "nbformat_minor": 0,
  "metadata": {
    "colab": {
      "name": "Unit05_LASSO_EEG_Lab_mcp573.ipynb",
      "provenance": [],
      "collapsed_sections": []
    },
    "kernelspec": {
      "name": "python3",
      "display_name": "Python 3"
    }
  },
  "cells": [
    {
      "cell_type": "markdown",
      "metadata": {
        "id": "19oC4aKMix_m"
      },
      "source": [
        "**Lab: Source Localization for EEG**\n",
        "\n",
        "Electroencephalography is useful for understanding brain activity. This lab covers using LASSO regression on real EEG dataset to determine brain region that is active under auditory stimulus"
      ]
    },
    {
      "cell_type": "code",
      "metadata": {
        "id": "NVk1BQ_mhouM"
      },
      "source": [
        "import numpy as np\n",
        "import matplotlib.pyplot as plt\n",
        "import pickle\n",
        "\n",
        "from sklearn.linear_model import Lasso, Ridge\n",
        "from sklearn.metrics import r2_score\n",
        "from sklearn.model_selection import train_test_split"
      ],
      "execution_count": null,
      "outputs": []
    },
    {
      "cell_type": "markdown",
      "metadata": {
        "id": "_Yot64fbjCxb"
      },
      "source": [
        "Loading Data:"
      ]
    },
    {
      "cell_type": "code",
      "metadata": {
        "id": "11vVmNk2jAs8",
        "outputId": "9a11590d-cea4-4113-e6d6-42176c4a0db0",
        "colab": {
          "base_uri": "https://localhost:8080/",
          "height": 52
        }
      },
      "source": [
        "fn_src ='https://drive.google.com/uc?export=download&id=1RzQpKONOcXSMxH2ZzOI4iVMiTgD6ttSl'\n",
        "fn_dst ='eeg_dat.p'\n",
        "\n",
        "import os\n",
        "from six.moves import urllib\n",
        "\n",
        "if os.path.isfile(fn_dst):\n",
        "    print('File %s is already downloaded' % fn_dst)\n",
        "else:        \n",
        "    print('Fetching file %s [53MB].  This may take a minute..' % fn_dst)\n",
        "    urllib.request.urlretrieve(fn_src, fn_dst)\n",
        "    print('File %s downloaded' % fn_dst)"
      ],
      "execution_count": null,
      "outputs": [
        {
          "output_type": "stream",
          "text": [
            "Fetching file eeg_dat.p [53MB].  This may take a minute..\n",
            "File eeg_dat.p downloaded\n"
          ],
          "name": "stdout"
        }
      ]
    },
    {
      "cell_type": "code",
      "metadata": {
        "id": "soInW3yAjEoF"
      },
      "source": [
        "import pickle\n",
        "fn = 'eeg_dat.p'\n",
        "with open(fn, 'rb') as fp:\n",
        "    [X,Y] = pickle.load(fp)"
      ],
      "execution_count": null,
      "outputs": []
    },
    {
      "cell_type": "code",
      "metadata": {
        "id": "gHcKNYgnjN1z",
        "outputId": "4036c1fa-1208-46c2-8f2e-9b46fe716795",
        "colab": {
          "base_uri": "https://localhost:8080/",
          "height": 35
        }
      },
      "source": [
        "print(X.shape, Y.shape)"
      ],
      "execution_count": null,
      "outputs": [
        {
          "output_type": "stream",
          "text": [
            "(305, 22494) (305, 85)\n"
          ],
          "name": "stdout"
        }
      ]
    },
    {
      "cell_type": "code",
      "metadata": {
        "id": "wQTLOPIzjlAT",
        "outputId": "2efb5974-65dc-470c-b108-b2c69e1c909a",
        "colab": {
          "base_uri": "https://localhost:8080/",
          "height": 70
        }
      },
      "source": [
        "nt = Y.shape[1]\n",
        "ncur = X.shape[1]\n",
        "nchan = X.shape[0]\n",
        "print(\"nt = {}\\nncur = {}\\nnchan = {}\".format(nt,ncur,nchan))"
      ],
      "execution_count": null,
      "outputs": [
        {
          "output_type": "stream",
          "text": [
            "nt = 85\n",
            "ncur = 22494\n",
            "nchan = 305\n"
          ],
          "name": "stdout"
        }
      ]
    },
    {
      "cell_type": "markdown",
      "metadata": {
        "id": "ZuQ6Y1NAJjcm"
      },
      "source": [
        "**Ridge regression**"
      ]
    },
    {
      "cell_type": "code",
      "metadata": {
        "id": "t4NmjpJXj_MD",
        "outputId": "75b5bd40-9c5b-4b4b-80d7-783328798c25",
        "colab": {
          "base_uri": "https://localhost:8080/",
          "height": 35
        }
      },
      "source": [
        "Xtr, Xts, Ytr, Yts = train_test_split(X,Y,test_size=0.33)\n",
        "\n",
        "print(Xtr.shape, Xts.shape, Ytr.shape, Yts.shape)"
      ],
      "execution_count": null,
      "outputs": [
        {
          "output_type": "stream",
          "text": [
            "(204, 22494) (101, 22494) (204, 85) (101, 85)\n"
          ],
          "name": "stdout"
        }
      ]
    },
    {
      "cell_type": "markdown",
      "metadata": {
        "id": "owvVDWDZxTFk"
      },
      "source": [
        "Using the Ridge regression object in sklearn to fit the model on the training data. Using regularization, alpha=1"
      ]
    },
    {
      "cell_type": "code",
      "metadata": {
        "id": "33Z4DXjlmFFd",
        "outputId": "8c94f76a-6850-440c-f892-ee0a991795ea",
        "colab": {
          "base_uri": "https://localhost:8080/",
          "height": 52
        }
      },
      "source": [
        "ridge = Ridge(alpha=1)\n",
        "ridge.fit(Xtr, Ytr)"
      ],
      "execution_count": null,
      "outputs": [
        {
          "output_type": "execute_result",
          "data": {
            "text/plain": [
              "Ridge(alpha=1, copy_X=True, fit_intercept=True, max_iter=None, normalize=False,\n",
              "      random_state=None, solver='auto', tol=0.001)"
            ]
          },
          "metadata": {
            "tags": []
          },
          "execution_count": 7
        }
      ]
    },
    {
      "cell_type": "markdown",
      "metadata": {
        "id": "DfLNTxb6xiac"
      },
      "source": [
        "Predicting the values Y on both the training and test data and obtaining R^2 on both"
      ]
    },
    {
      "cell_type": "code",
      "metadata": {
        "id": "EQmRXXaqrrxL",
        "outputId": "354286f8-03ce-40c6-8ec1-81a223a0b4a6",
        "colab": {
          "base_uri": "https://localhost:8080/",
          "height": 35
        }
      },
      "source": [
        "yhat1_ridge = ridge.predict(Xtr)\n",
        "rsq_tr_ridge = r2_score(Ytr, yhat1_ridge)\n",
        "print(\"Training R^2 = {}\".format(rsq_tr_ridge))"
      ],
      "execution_count": null,
      "outputs": [
        {
          "output_type": "stream",
          "text": [
            "Training R^2 = 0.6050288623180984\n"
          ],
          "name": "stdout"
        }
      ]
    },
    {
      "cell_type": "code",
      "metadata": {
        "id": "OTAVohrLrE0z",
        "outputId": "0fefc947-122a-4409-c131-7902fd61e12a",
        "colab": {
          "base_uri": "https://localhost:8080/",
          "height": 35
        }
      },
      "source": [
        "yhat2_ridge = ridge.predict(Xts)\n",
        "rsq_ts_ridge = r2_score(Yts, yhat2_ridge)\n",
        "print('Test R^2 = {}'.format(rsq_ts_ridge))"
      ],
      "execution_count": null,
      "outputs": [
        {
          "output_type": "stream",
          "text": [
            "Test R^2 = 0.20023365122441125\n"
          ],
          "name": "stdout"
        }
      ]
    },
    {
      "cell_type": "markdown",
      "metadata": {
        "id": "rPtfh0jFx_oH"
      },
      "source": [
        "Using cross validation to measure test R^2 for 20 alpha values logarithmically spaced as shown below."
      ]
    },
    {
      "cell_type": "code",
      "metadata": {
        "id": "tMxBFViZrj4G",
        "outputId": "974b6540-c8db-4c68-ec1a-4d71da449602",
        "colab": {
          "base_uri": "https://localhost:8080/",
          "height": 35
        }
      },
      "source": [
        "alphas = np.logspace(-2,2,20)\n",
        "nalpha = len(alphas)\n",
        "rsq_alphas = np.zeros(nalpha)\n",
        "\n",
        "for i, alpha in enumerate(alphas):\n",
        "\n",
        "        ridge2 = Ridge(alpha=alpha)\n",
        "        ridge2.fit(Xtr, Ytr)\n",
        "        yhat = ridge2.predict(Xts)\n",
        "        rsq_alphas[i] = r2_score(Yts, yhat)\n",
        "        \n",
        "imax = np.argmax(rsq_alphas)\n",
        "max_alpha = alphas[imax]\n",
        "rsq_max = rsq_alphas[imax]\n",
        "print(\"Alpha corresponding to max_rsq = {} and max_rsq = {}\".format(max_alpha, rsq_max)) "
      ],
      "execution_count": null,
      "outputs": [
        {
          "output_type": "stream",
          "text": [
            "Alpha corresponding to max_rsq = 0.4832930238571752 and max_rsq = 0.21190016865819158\n"
          ],
          "name": "stdout"
        }
      ]
    },
    {
      "cell_type": "markdown",
      "metadata": {
        "id": "xfBJrCPayPSX"
      },
      "source": [
        "Plotting test R^2 v/s alpha"
      ]
    },
    {
      "cell_type": "code",
      "metadata": {
        "id": "YQkTrdWn5Erq",
        "outputId": "5dfcd0c0-3ca4-4c56-af41-b4f65246dea2",
        "colab": {
          "base_uri": "https://localhost:8080/",
          "height": 279
        }
      },
      "source": [
        "plt.plot(np.log10(alphas), rsq_alphas, 'o-')\n",
        "plt.xlabel('Alphas')\n",
        "plt.ylabel('Rsq')\n",
        "plt.grid()"
      ],
      "execution_count": null,
      "outputs": [
        {
          "output_type": "display_data",
          "data": {
            "image/png": "[encoded data removed]",
            "text/plain": [
              "<Figure size 432x288 with 1 Axes>"
            ]
          },
          "metadata": {
            "tags": [],
            "needs_background": "light"
          }
        }
      ]
    },
    {
      "cell_type": "markdown",
      "metadata": {
        "id": "QWgSOgqqyZmL"
      },
      "source": [
        "In the upcoming section, we do the following,\n",
        "Find the optimal regularization alpha from the cross-validation\n",
        "\n",
        "*   Re-fit the model at the optimal alpha\n",
        "*   Get the current matrix W from the coefficients in the linear model. These are stored in regr.coef_.\n",
        "*   For each current j compute Wrms[j] =  sqrt( sum_k W[j,k]**2 ) which is root mean squared current."
      ]
    },
    {
      "cell_type": "code",
      "metadata": {
        "id": "WaCuGr-n-Aqx",
        "outputId": "82fe1961-4688-4470-8fed-69842c3641e4",
        "colab": {
          "base_uri": "https://localhost:8080/",
          "height": 281
        }
      },
      "source": [
        "ridge3 = Ridge(alpha=max_alpha)\n",
        "ridge3.fit(Xtr, Ytr)\n",
        "yhat1 = ridge3.predict(Xts)\n",
        "W = np.transpose(ridge3.coef_)  \n",
        "Wrms = np.zeros(W.shape[1])\n",
        "for j in range(0, W.shape[1] ):\n",
        "  mean = np.mean(W[j,:]**2)\n",
        "  Wrms[j] = np.sqrt(mean) \n",
        "print(Wrms)"
      ],
      "execution_count": null,
      "outputs": [
        {
          "output_type": "stream",
          "text": [
            "[0.02831705 0.01087404 0.01386463 0.02215743 0.01132104 0.01264801\n",
            " 0.02472875 0.01203856 0.0180649  0.0204966  0.01377284 0.01361986\n",
            " 0.02151659 0.01280125 0.01762379 0.01755707 0.01062668 0.0099059\n",
            " 0.02173811 0.01171533 0.01734261 0.02017884 0.00904791 0.01048397\n",
            " 0.02004811 0.00878168 0.0121178  0.01789789 0.01159712 0.01638428\n",
            " 0.01956279 0.01168523 0.01657237 0.01770061 0.00776549 0.01875134\n",
            " 0.02238616 0.00795802 0.01764179 0.01426092 0.00979543 0.00928867\n",
            " 0.01832808 0.01015096 0.01157477 0.01783078 0.00812979 0.01060527\n",
            " 0.01934898 0.00940543 0.01310781 0.01708848 0.00811505 0.01242612\n",
            " 0.01545047 0.00776341 0.01215876 0.01635104 0.01344822 0.0169906\n",
            " 0.01845649 0.01337874 0.01780659 0.01796418 0.01227358 0.01904483\n",
            " 0.01812236 0.01332885 0.01078959 0.01522599 0.0081634  0.01108716\n",
            " 0.01312402 0.00936942 0.00951729 0.01567158 0.00964478 0.01515108\n",
            " 0.01242031 0.01026849 0.01439295 0.01200217 0.00730464 0.01459276\n",
            " 0.01592193]\n"
          ],
          "name": "stdout"
        }
      ]
    },
    {
      "cell_type": "markdown",
      "metadata": {
        "id": "ah9rL2NxzADV"
      },
      "source": [
        "This shows us that the vector Wrms isn not sparse."
      ]
    },
    {
      "cell_type": "markdown",
      "metadata": {
        "id": "WvqO_eXIGN6-"
      },
      "source": [
        "**LASSO Regression**\n",
        "\n",
        "\n",
        "Re-fitting the training data using the Lasso model with alpha=1e-3. Also setting max_iter=100 and tol=0.01."
      ]
    },
    {
      "cell_type": "code",
      "metadata": {
        "id": "gHlt385fFlhF"
      },
      "source": [
        "from warnings import simplefilter\n",
        "from sklearn.exceptions import ConvergenceWarning\n",
        "simplefilter(\"ignore\", category=ConvergenceWarning)\n",
        "\n",
        "alpha = 1e-3\n",
        "\n",
        "reg = Lasso(alpha=alpha,max_iter=100,tol=0.01)\n",
        "reg.fit(Xtr, Ytr)\n",
        "yhat = reg.predict(Xts)"
      ],
      "execution_count": null,
      "outputs": []
    },
    {
      "cell_type": "markdown",
      "metadata": {
        "id": "LONkxn0bzaAa"
      },
      "source": [
        "Testing the model on the test data and measure the R^2 value"
      ]
    },
    {
      "cell_type": "code",
      "metadata": {
        "id": "PBPzWTYtNavk",
        "outputId": "454fdedc-d301-4b63-a2f5-199c02495216",
        "colab": {
          "base_uri": "https://localhost:8080/",
          "height": 35
        }
      },
      "source": [
        "rsq_lasso = r2_score(Yts, yhat)\n",
        "print('Test R^2= %f' % rsq_lasso)"
      ],
      "execution_count": null,
      "outputs": [
        {
          "output_type": "stream",
          "text": [
            "Test R^2= 0.178579\n"
          ],
          "name": "stdout"
        }
      ]
    },
    {
      "cell_type": "markdown",
      "metadata": {
        "id": "yTzFs7R4zjS_"
      },
      "source": [
        "Searching for the optimal alpha"
      ]
    },
    {
      "cell_type": "code",
      "metadata": {
        "id": "_D-kubWNRVUw",
        "outputId": "a2bc0685-25ce-44d6-9dd7-c69541f096e0",
        "colab": {
          "base_uri": "https://localhost:8080/",
          "height": 35
        }
      },
      "source": [
        "alphas = np.logspace(-3,-4,5)\n",
        "nalpha = len(alphas)\n",
        "rsq = np.zeros(nalpha)\n",
        "temp = []\n",
        "for i, alpha in enumerate(alphas):\n",
        "\n",
        "        reg = Lasso(alpha=alpha,max_iter=100,tol=0.01)\n",
        "        reg.fit(Xtr, Ytr)\n",
        "        temp.append(reg.coef_)\n",
        "        yhat1 = reg.predict(Xts)\n",
        "        rsq[i] = r2_score(Yts, yhat1)\n",
        "        \n",
        "imax = np.argmax(rsq)\n",
        "max_alpha = alphas[imax]\n",
        "rsq_max = rsq[imax]\n",
        "W_lasso = temp[imax]\n",
        "print(\"Alpha corresponding to max_rsq = {} and max_rsq = {}\".format(max_alpha, rsq_max)) \n"
      ],
      "execution_count": null,
      "outputs": [
        {
          "output_type": "stream",
          "text": [
            "Alpha corresponding to max_rsq = 0.00017782794100389227 and max_rsq = 0.3475318593334792\n"
          ],
          "name": "stdout"
        }
      ]
    },
    {
      "cell_type": "code",
      "metadata": {
        "id": "R3GxiYAQSX5g",
        "outputId": "0bc2dc64-79d7-4580-9dfb-de035e24d35a",
        "colab": {
          "base_uri": "https://localhost:8080/",
          "height": 279
        }
      },
      "source": [
        "plt.plot(np.log10(alphas), rsq, 'o-')\n",
        "plt.xlabel('Alphas')\n",
        "plt.ylabel('Rsq')\n",
        "plt.grid()"
      ],
      "execution_count": null,
      "outputs": [
        {
          "output_type": "display_data",
          "data": {
            "image/png": "[encoded data removed]",
            "text/plain": [
              "<Figure size 432x288 with 1 Axes>"
            ]
          },
          "metadata": {
            "tags": [],
            "needs_background": "light"
          }
        }
      ]
    },
    {
      "cell_type": "code",
      "metadata": {
        "id": "P2RUBdod1qJq",
        "outputId": "617530de-c0bc-4a58-f537-0657c7ec649a",
        "colab": {
          "base_uri": "https://localhost:8080/",
          "height": 281
        }
      },
      "source": [
        "W2 = np.transpose(W_lasso)  \n",
        "Wrms2 = np.zeros(W2.shape[1])\n",
        "for j in range(0, W2.shape[1] ):\n",
        "  mean2 = np.mean(W2[j,:]**2)\n",
        "  Wrms2[j] = np.sqrt(mean2) \n",
        "print(Wrms)"
      ],
      "execution_count": null,
      "outputs": [
        {
          "output_type": "stream",
          "text": [
            "[0.02831705 0.01087404 0.01386463 0.02215743 0.01132104 0.01264801\n",
            " 0.02472875 0.01203856 0.0180649  0.0204966  0.01377284 0.01361986\n",
            " 0.02151659 0.01280125 0.01762379 0.01755707 0.01062668 0.0099059\n",
            " 0.02173811 0.01171533 0.01734261 0.02017884 0.00904791 0.01048397\n",
            " 0.02004811 0.00878168 0.0121178  0.01789789 0.01159712 0.01638428\n",
            " 0.01956279 0.01168523 0.01657237 0.01770061 0.00776549 0.01875134\n",
            " 0.02238616 0.00795802 0.01764179 0.01426092 0.00979543 0.00928867\n",
            " 0.01832808 0.01015096 0.01157477 0.01783078 0.00812979 0.01060527\n",
            " 0.01934898 0.00940543 0.01310781 0.01708848 0.00811505 0.01242612\n",
            " 0.01545047 0.00776341 0.01215876 0.01635104 0.01344822 0.0169906\n",
            " 0.01845649 0.01337874 0.01780659 0.01796418 0.01227358 0.01904483\n",
            " 0.01812236 0.01332885 0.01078959 0.01522599 0.0081634  0.01108716\n",
            " 0.01312402 0.00936942 0.00951729 0.01567158 0.00964478 0.01515108\n",
            " 0.01242031 0.01026849 0.01439295 0.01200217 0.00730464 0.01459276\n",
            " 0.01592193]\n"
          ],
          "name": "stdout"
        }
      ]
    },
    {
      "cell_type": "markdown",
      "metadata": {
        "id": "OPKUVrm91Wpb"
      },
      "source": [
        "This shows that current matrix W for the optimal alpha is much sparser as compared to Ridge Regression case"
      ]
    }
  ]
}