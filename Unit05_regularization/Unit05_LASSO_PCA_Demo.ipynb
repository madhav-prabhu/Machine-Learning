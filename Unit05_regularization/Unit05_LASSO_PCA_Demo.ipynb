{
  "nbformat": 4,
  "nbformat_minor": 0,
  "metadata": {
    "colab": {
      "name": "Unit05_LASSO_PCA_Demo.ipynb",
      "provenance": [],
      "collapsed_sections": []
    },
    "kernelspec": {
      "name": "python3",
      "display_name": "Python 3"
    }
  },
  "cells": [
    {
      "cell_type": "markdown",
      "metadata": {
        "id": "zJxHYyC1aiv3"
      },
      "source": [
        "**Demo: Prostate Cancer Analysis with LASSO and Other Feature Selection Methods**\n",
        "\n",
        "\n",
        "Fitting a LASSO model on prostate cancer dataset"
      ]
    },
    {
      "cell_type": "code",
      "metadata": {
        "id": "_6ZOx5IFaZCO"
      },
      "source": [
        "import pandas as pd\n",
        "import numpy as np\n",
        "import matplotlib.pyplot as plt"
      ],
      "execution_count": 1,
      "outputs": []
    },
    {
      "cell_type": "markdown",
      "metadata": {
        "id": "C4Iyqszoa3PS"
      },
      "source": [
        "Loading the Data"
      ]
    },
    {
      "cell_type": "code",
      "metadata": {
        "id": "g2thMpi4a2Uq"
      },
      "source": [
        "url = 'https://web.stanford.edu/~hastie/ElemStatLearn/datasets/prostate.data'\n",
        "df = pd.read_csv(url, sep='\\t', header=0)\n",
        "df = df.drop('Unnamed: 0', axis=1)"
      ],
      "execution_count": 2,
      "outputs": []
    },
    {
      "cell_type": "markdown",
      "metadata": {
        "id": "3bEBaAhca-8X"
      },
      "source": [
        "In the dataset, the target variable is log(PSA), i.e. lpsa"
      ]
    },
    {
      "cell_type": "code",
      "metadata": {
        "id": "0Xyx1otta8bg",
        "outputId": "dfe8bad0-a085-4a7f-a0fc-f9972dea6e9f",
        "colab": {
          "base_uri": "https://localhost:8080/",
          "height": 87
        }
      },
      "source": [
        "names = df.columns.tolist()\n",
        "names_x = names[0:7]\n",
        "name_y = names[8]\n",
        "print(\"Target variable: %s\" % name_y)\n",
        "print(\"Predictors: \"+str(names_x))\n",
        "\n",
        "# Convert the dataframe values to data matrices\n",
        "X0 = np.array(df[names_x])\n",
        "y0 = np.array(df[name_y])\n",
        "\n",
        "# Print the number of samples and features\n",
        "nsamp = X0.shape[0]\n",
        "nfeatures = X0.shape[1]\n",
        "print(\"\")\n",
        "print(\"num samples = %d,  num features = %d\" % (nsamp, nfeatures))"
      ],
      "execution_count": 3,
      "outputs": [
        {
          "output_type": "stream",
          "text": [
            "Target variable: lpsa\n",
            "Predictors: ['lcavol', 'lweight', 'age', 'lbph', 'svi', 'lcp', 'gleason']\n",
            "\n",
            "num samples = 97,  num features = 7\n"
          ],
          "name": "stdout"
        }
      ]
    },
    {
      "cell_type": "markdown",
      "metadata": {
        "id": "fIEKxV8BbXrj"
      },
      "source": [
        "Using sklearn built in scale command to standardize values"
      ]
    },
    {
      "cell_type": "code",
      "metadata": {
        "id": "12bRRE77bJZY"
      },
      "source": [
        "import sklearn.preprocessing\n",
        "\n",
        "X = sklearn.preprocessing.scale(X0)\n",
        "y = sklearn.preprocessing.scale(y0)"
      ],
      "execution_count": 4,
      "outputs": []
    },
    {
      "cell_type": "markdown",
      "metadata": {
        "id": "bwTb2NdObgFq"
      },
      "source": [
        "**Fitting a Linear Model with no regularization**"
      ]
    },
    {
      "cell_type": "code",
      "metadata": {
        "id": "RgbS8o7ybeox"
      },
      "source": [
        "from sklearn import linear_model\n",
        "from sklearn.model_selection import train_test_split"
      ],
      "execution_count": 5,
      "outputs": []
    },
    {
      "cell_type": "markdown",
      "metadata": {
        "id": "v3lefGzrbuhL"
      },
      "source": [
        "Splitting the dataset"
      ]
    },
    {
      "cell_type": "code",
      "metadata": {
        "id": "pHSWhvjDbnXJ",
        "outputId": "a27d2623-e1ab-4f88-a939-5c3610c01669",
        "colab": {
          "base_uri": "https://localhost:8080/",
          "height": 35
        }
      },
      "source": [
        "X_tr, X_ts, y_tr, y_ts = train_test_split(X,y,test_size=0.5,shuffle=True)\n",
        "ntr = X_tr.shape[0]\n",
        "nts = X_ts.shape[0]\n",
        "print(\"num samples train = %d, test = %d\" % (ntr, nts))"
      ],
      "execution_count": 6,
      "outputs": [
        {
          "output_type": "stream",
          "text": [
            "num samples train = 48, test = 49\n"
          ],
          "name": "stdout"
        }
      ]
    },
    {
      "cell_type": "markdown",
      "metadata": {
        "id": "q-cqDwUHb1Lk"
      },
      "source": [
        "Fitting the model on training data"
      ]
    },
    {
      "cell_type": "code",
      "metadata": {
        "id": "QMnWmDfUbzb4",
        "outputId": "491ecd3a-c6b9-4747-9297-d1b2c1a4f24a",
        "colab": {
          "base_uri": "https://localhost:8080/",
          "height": 35
        }
      },
      "source": [
        "regr = linear_model.LinearRegression()\n",
        "regr.fit(X_tr,y_tr)"
      ],
      "execution_count": 7,
      "outputs": [
        {
          "output_type": "execute_result",
          "data": {
            "text/plain": [
              "LinearRegression(copy_X=True, fit_intercept=True, n_jobs=None, normalize=False)"
            ]
          },
          "metadata": {
            "tags": []
          },
          "execution_count": 7
        }
      ]
    },
    {
      "cell_type": "markdown",
      "metadata": {
        "id": "_kS5sH2vb8KQ"
      },
      "source": [
        "Measuring normalized RSS"
      ]
    },
    {
      "cell_type": "code",
      "metadata": {
        "id": "kd3QqNDRb6NY",
        "outputId": "099a3a94-8885-46c3-c86b-8d0bc4e0fe5c",
        "colab": {
          "base_uri": "https://localhost:8080/",
          "height": 35
        }
      },
      "source": [
        "y_tr_pred = regr.predict(X_tr)\n",
        "rsq_tr = 1-np.mean((y_tr_pred-y_tr)**2)/(np.std(y_tr)**2)\n",
        "print(\"R^2 training = %f\" % rsq_tr)"
      ],
      "execution_count": 8,
      "outputs": [
        {
          "output_type": "stream",
          "text": [
            "R^2 training = 0.620784\n"
          ],
          "name": "stdout"
        }
      ]
    },
    {
      "cell_type": "markdown",
      "metadata": {
        "id": "aNBUcnmycIHt"
      },
      "source": [
        "Evaluating model on test data"
      ]
    },
    {
      "cell_type": "code",
      "metadata": {
        "id": "EVkd6ghIcD9v",
        "outputId": "fcd790db-5985-4854-a3f2-fed378d79dc1",
        "colab": {
          "base_uri": "https://localhost:8080/",
          "height": 52
        }
      },
      "source": [
        "y_ts_pred = regr.predict(X_ts)\n",
        "rss_ts = np.mean((y_ts_pred-y_ts)**2)/(np.std(y_ts)**2)\n",
        "rsq_ts = 1-rss_ts\n",
        "print(\"Normalized test RSS = %f\" % rss_ts)\n",
        "print(\"Normalized test R^2 = %f\" % rsq_ts)"
      ],
      "execution_count": 9,
      "outputs": [
        {
          "output_type": "stream",
          "text": [
            "Normalized test RSS = 0.406223\n",
            "Normalized test R^2 = 0.593777\n"
          ],
          "name": "stdout"
        }
      ]
    },
    {
      "cell_type": "markdown",
      "metadata": {
        "id": "NCEYx9jkcTs6"
      },
      "source": [
        "Plotting actual v/s predicted values"
      ]
    },
    {
      "cell_type": "code",
      "metadata": {
        "id": "6QgvSR3vcNWQ",
        "outputId": "5ba0b2da-a30b-46fd-b367-4bb01207a8fb",
        "colab": {
          "base_uri": "https://localhost:8080/",
          "height": 279
        }
      },
      "source": [
        "plt.scatter(y_ts,y_ts_pred)\n",
        "plt.xlabel('Actual lpsa')\n",
        "plt.ylabel('Pred lpsa')\n",
        "ymin = np.min(y_ts)\n",
        "ymax = np.max(y_ts)\n",
        "plt.plot([ymin,ymax], [ymin,ymax], 'r-', linewidth=3)\n",
        "plt.grid()\n",
        "plt.show()"
      ],
      "execution_count": 10,
      "outputs": [
        {
          "output_type": "display_data",
          "data": {
            "image/png": "[encoded data removed]",
            "text/plain": [
              "<Figure size 432x288 with 1 Axes>"
            ]
          },
          "metadata": {
            "tags": [],
            "needs_background": "light"
          }
        }
      ]
    },
    {
      "cell_type": "markdown",
      "metadata": {
        "id": "6sibjbTOdWVY"
      },
      "source": [
        "Plotting coefficients in the regression model"
      ]
    },
    {
      "cell_type": "code",
      "metadata": {
        "id": "dDwv1-IycWWI",
        "outputId": "fd5d1e2c-6fa1-4746-f1f1-8f0ce9598347",
        "colab": {
          "base_uri": "https://localhost:8080/",
          "height": 461
        }
      },
      "source": [
        "w = regr.coef_\n",
        "for name, wi in zip(names_x, w):\n",
        "    print('%10s %9.4f' % (name, wi))\n",
        "    \n",
        "plt.stem(w)"
      ],
      "execution_count": 11,
      "outputs": [
        {
          "output_type": "stream",
          "text": [
            "    lcavol    0.5393\n",
            "   lweight    0.3146\n",
            "       age   -0.1987\n",
            "      lbph    0.0902\n",
            "       svi    0.2228\n",
            "       lcp   -0.0310\n",
            "   gleason    0.0367\n"
          ],
          "name": "stdout"
        },
        {
          "output_type": "stream",
          "text": [
            "/usr/local/lib/python3.6/dist-packages/ipykernel_launcher.py:5: UserWarning: In Matplotlib 3.3 individual lines on a stem plot will be added as a LineCollection instead of individual lines. This significantly improves the performance of a stem plot. To remove this warning and switch to the new behaviour, set the \"use_line_collection\" keyword argument to True.\n",
            "  \"\"\"\n"
          ],
          "name": "stderr"
        },
        {
          "output_type": "execute_result",
          "data": {
            "text/plain": [
              "<StemContainer object of 3 artists>"
            ]
          },
          "metadata": {
            "tags": []
          },
          "execution_count": 11
        },
        {
          "output_type": "display_data",
          "data": {
            "image/png": "[encoded data removed]",
            "text/plain": [
              "<Figure size 432x288 with 1 Axes>"
            ]
          },
          "metadata": {
            "tags": [],
            "needs_background": "light"
          }
        }
      ]
    },
    {
      "cell_type": "markdown",
      "metadata": {
        "id": "sNdHaJH7d0K3"
      },
      "source": [
        "LASSO: Linear Model with L1 Regularization"
      ]
    },
    {
      "cell_type": "code",
      "metadata": {
        "id": "ElyA9Q8kds-g"
      },
      "source": [
        "import  sklearn.model_selection"
      ],
      "execution_count": 12,
      "outputs": []
    },
    {
      "cell_type": "markdown",
      "metadata": {
        "id": "VvzbQaAbeEWt"
      },
      "source": [
        "Finding regularization level alpha"
      ]
    },
    {
      "cell_type": "code",
      "metadata": {
        "id": "9ypC2PyBd8u-"
      },
      "source": [
        "nfold = 10\n",
        "kf = sklearn.model_selection.KFold(n_splits=nfold,shuffle=True)\n",
        "\n",
        "# Regularization values to test\n",
        "nalpha = 100\n",
        "alphas = np.logspace(-3,1,nalpha)\n",
        "\n",
        "# MSE for each alpha and fold value\n",
        "mse = np.zeros((nalpha,nfold))\n",
        "for ifold, ind in enumerate(kf.split(X)):\n",
        "        \n",
        "    # Get the training data in the split\n",
        "    Itr,Its = ind\n",
        "    X_tr = X[Itr,:]\n",
        "    y_tr = y[Itr]\n",
        "    X_ts = X[Its,:]\n",
        "    y_ts = y[Its]\n",
        "    \n",
        "    # Compute the lasso path for the split\n",
        "    for ia, a in enumerate(alphas):\n",
        "        \n",
        "        # Create a LASSO model object\n",
        "        model = linear_model.Lasso(alpha=a)\n",
        "        \n",
        "        # Fit the model on the training data\n",
        "        model.fit(X_tr,y_tr)\n",
        "        \n",
        "        # Compute the prediction error on the test data\n",
        "        y_ts_pred = model.predict(X_ts)\n",
        "        mse[ia,ifold] = np.mean((y_ts_pred-y_ts)**2)"
      ],
      "execution_count": 13,
      "outputs": []
    },
    {
      "cell_type": "markdown",
      "metadata": {
        "id": "J6AIsGr-eVSg"
      },
      "source": [
        "Plotting MSE v/s alpha"
      ]
    },
    {
      "cell_type": "code",
      "metadata": {
        "id": "6IUJcHrLeLae",
        "outputId": "221044a1-33dd-48ae-8a2e-12c9172094be",
        "colab": {
          "base_uri": "https://localhost:8080/",
          "height": 279
        }
      },
      "source": [
        "mse_mean = np.mean(mse,axis=1)\n",
        "mse_se = np.std(mse,axis=1) / np.sqrt(nfold-1)\n",
        "\n",
        "# Plot the mean MSE and the mean MSE with 1 SE error bars\n",
        "plt.errorbar(np.log10(alphas), mse_mean, yerr=mse_se)\n",
        "plt.xlabel('log10(alpha)')\n",
        "plt.ylabel('Test MSE')\n",
        "plt.grid()\n",
        "plt.show()"
      ],
      "execution_count": 14,
      "outputs": [
        {
          "output_type": "display_data",
          "data": {
            "image/png": "[encoded data removed]",
            "text/plain": [
              "<Figure size 432x288 with 1 Axes>"
            ]
          },
          "metadata": {
            "tags": [],
            "needs_background": "light"
          }
        }
      ]
    },
    {
      "cell_type": "markdown",
      "metadata": {
        "id": "6joSbmfbedDF"
      },
      "source": [
        "Finding optimal alpha using one SE rule"
      ]
    },
    {
      "cell_type": "code",
      "metadata": {
        "id": "lSJzhyx_eZin",
        "outputId": "3b1334cb-cad2-44aa-bb56-973ede7b98a1",
        "colab": {
          "base_uri": "https://localhost:8080/",
          "height": 301
        }
      },
      "source": [
        "imin = np.argmin(mse_mean)\n",
        "mse_tgt = mse_mean[imin] + mse_se[imin]\n",
        "alpha_min = alphas[imin]\n",
        "\n",
        "# Find the least complex model with mse_mean < mse_tgt\n",
        "I = np.where(mse_mean < mse_tgt)[0]\n",
        "iopt = I[-1]\n",
        "alpha_opt = alphas[iopt]\n",
        "print(\"Optimal alpha = %f\" % alpha_opt)\n",
        "\n",
        "# Plot the mean MSE and the mean MSE + 1 SE errorbars \n",
        "plt.errorbar(np.log10(alphas), mse_mean, yerr=mse_se)\n",
        "\n",
        "# Plot the MSE target\n",
        "amin_log = np.log10(alpha_min)\n",
        "aopt_log = np.log10(alpha_opt)\n",
        "plt.plot([amin_log,aopt_log], [mse_tgt,mse_tgt], 'rs--')\n",
        "\n",
        "# Plot the optimal alpha line\n",
        "plt.plot([aopt_log,aopt_log], [0.35,mse_mean[iopt]], 'ro--')\n",
        "\n",
        "plt.legend(['MSE', 'MSE target','alpha opt'],loc='upper left')\n",
        "plt.xlabel('log10(alpha)')\n",
        "plt.ylabel('Test MSE')\n",
        "plt.ylim([0.35,1.6])\n",
        "plt.grid()\n",
        "plt.show()"
      ],
      "execution_count": 15,
      "outputs": [
        {
          "output_type": "stream",
          "text": [
            "Optimal alpha = 0.183074\n"
          ],
          "name": "stdout"
        },
        {
          "output_type": "display_data",
          "data": {
            "image/png": "[encoded data removed]",
            "text/plain": [
              "<Figure size 432x288 with 1 Axes>"
            ]
          },
          "metadata": {
            "tags": [],
            "needs_background": "light"
          }
        }
      ]
    },
    {
      "cell_type": "markdown",
      "metadata": {
        "id": "CP3UVrIHeukP"
      },
      "source": [
        "Recomputing coefficients using the optimal alpha"
      ]
    },
    {
      "cell_type": "code",
      "metadata": {
        "id": "EBHODpUEejtm",
        "outputId": "ef6905db-10a0-4aee-bf21-12e910988e49",
        "colab": {
          "base_uri": "https://localhost:8080/",
          "height": 140
        }
      },
      "source": [
        "model.alpha = alpha_opt\n",
        "model.fit(X,y)\n",
        "\n",
        "# Print the coefficients\n",
        "for i, c in enumerate(model.coef_):\n",
        "    print(\"%8s %f\" % (names_x[i], c))\n"
      ],
      "execution_count": 16,
      "outputs": [
        {
          "output_type": "stream",
          "text": [
            "  lcavol 0.457465\n",
            " lweight 0.103180\n",
            "     age 0.000000\n",
            "    lbph 0.000000\n",
            "     svi 0.120609\n",
            "     lcp 0.000000\n",
            " gleason 0.000000\n"
          ],
          "name": "stdout"
        }
      ]
    },
    {
      "cell_type": "markdown",
      "metadata": {
        "id": "GZEXorRbe7bX"
      },
      "source": [
        "Using the above the features to determine mean regression coefficients"
      ]
    },
    {
      "cell_type": "code",
      "metadata": {
        "id": "VO9GQMCMe0xv",
        "outputId": "d2d725db-315b-4c7f-b486-e53258a3eb67",
        "colab": {
          "base_uri": "https://localhost:8080/",
          "height": 52
        }
      },
      "source": [
        "Isel = np.where(np.abs(model.coef_) > 1e-3)[0]\n",
        "\n",
        "\n",
        "# Select those features\n",
        "X1=X[:,Isel]\n",
        "nfea1 = len(Isel)\n",
        "\n",
        "# Run 10-fold validation with reduced feature matrix\n",
        "nfold = 10\n",
        "kf = sklearn.model_selection.KFold(n_splits=nfold,shuffle=True)\n",
        "\n",
        "# MSE for each alpha and fold value\n",
        "RSS_ts = np.zeros((nfold,1))\n",
        "coef=np.zeros((nfold,nfea1))\n",
        "for ifold, ind in enumerate(kf.split(X1)):\n",
        "    \n",
        "    \n",
        "    # Get the training data in the split\n",
        "    Itr,Its = ind\n",
        "    X_tr = X1[Itr,:]\n",
        "    y_tr = y[Itr]\n",
        "    X_ts = X1[Its,:]\n",
        "    y_ts = y[Its]\n",
        "    \n",
        "    regr.fit(X_tr,y_tr)\n",
        "    y_ts_pred = regr.predict(X_ts)\n",
        "    RSS_ts[ifold] = np.mean((y_ts_pred-y_ts)**2)/(np.std(y_ts)**2)\n",
        "    coef[ifold]=regr.coef_\n",
        "            \n",
        "mse_mean = np.mean(RSS_ts,axis=0)\n",
        "mse_se = np.std(RSS_ts,axis=0) / np.sqrt(nfold-1)\n",
        "coef_mean=np.mean(coef,axis=0)\n",
        "print(\"mse_mean=%f, mse_SE=%f\" % (mse_mean, mse_se))\n",
        "print(coef_mean)"
      ],
      "execution_count": 18,
      "outputs": [
        {
          "output_type": "stream",
          "text": [
            "mse_mean=0.601123, mse_SE=0.157180\n",
            "[0.53729396 0.24555926 0.23859117]\n"
          ],
          "name": "stdout"
        }
      ]
    },
    {
      "cell_type": "markdown",
      "metadata": {
        "id": "jBkX5LqyfOBy"
      },
      "source": [
        "**LASSO Path**\n",
        "\n",
        "Plot of coefficients as a function of regularization alpha"
      ]
    },
    {
      "cell_type": "code",
      "metadata": {
        "id": "gRS9skS3fD0-",
        "outputId": "10f9b0c6-786c-48a2-aa75-c4c225c79d03",
        "colab": {
          "base_uri": "https://localhost:8080/",
          "height": 287
        }
      },
      "source": [
        "alphas1, coeffs, _ = sklearn.linear_model.lasso_path(X, y, alphas=alphas)\n",
        "\n",
        "# Plot the paths of the coefficients\n",
        "plt.semilogx(alphas1,coeffs.T)\n",
        "plt.grid()\n",
        "plt.legend(names_x, loc='upper right')\n",
        "\n",
        "\n",
        "# Plot a line on the optimal alpha\n",
        "plt.semilogx([alpha_opt,alpha_opt], [-0.2,0.6], '--')\n",
        "plt.ylim([-0.2,0.6])\n",
        "plt.xlabel('alpha')\n",
        "plt.ylabel('coeff')\n",
        "plt.show()"
      ],
      "execution_count": 19,
      "outputs": [
        {
          "output_type": "display_data",
          "data": {
            "image/png": "[encoded data removed]",
            "text/plain": [
              "<Figure size 432x288 with 1 Axes>"
            ]
          },
          "metadata": {
            "tags": [],
            "needs_background": "light"
          }
        }
      ]
    }
  ]
}