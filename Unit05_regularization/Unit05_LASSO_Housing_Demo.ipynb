{
  "nbformat": 4,
  "nbformat_minor": 0,
  "metadata": {
    "colab": {
      "name": "Unit05_LASSO_Housing_Demo.ipynb",
      "provenance": [],
      "collapsed_sections": []
    },
    "kernelspec": {
      "name": "python3",
      "display_name": "Python 3"
    }
  },
  "cells": [
    {
      "cell_type": "markdown",
      "metadata": {
        "id": "vlDYtFbuf3fD"
      },
      "source": [
        "**Demo: House Price Feature Selection with LASSO**"
      ]
    },
    {
      "cell_type": "code",
      "metadata": {
        "id": "HW8W9E-efvxM"
      },
      "source": [
        "import pandas as pd\n",
        "import numpy as np\n",
        "import matplotlib.pyplot as plt\n",
        "import matplotlib"
      ],
      "execution_count": 1,
      "outputs": []
    },
    {
      "cell_type": "markdown",
      "metadata": {
        "id": "pQE30p-VniQl"
      },
      "source": [
        "Downloading and cleaning data"
      ]
    },
    {
      "cell_type": "code",
      "metadata": {
        "id": "d2NzP7Ttnhon",
        "outputId": "777149be-8caa-44f0-9a54-b0aada401ce7",
        "colab": {
          "base_uri": "https://localhost:8080/",
          "height": 35
        }
      },
      "source": [
        "fn_src = 'https://raw.githubusercontent.com/sdrangan/introml/master/unit05_lasso/housing_train.csv'\n",
        "fn_dst = 'housing_train.csv'\n",
        "\n",
        "import os\n",
        "from six.moves import urllib\n",
        "\n",
        "if os.path.isfile(fn_dst):\n",
        "    print('File %s is already downloaded' % fn_dst)\n",
        "else:\n",
        "    urllib.request.urlretrieve(fn_src, fn_dst)"
      ],
      "execution_count": 2,
      "outputs": [
        {
          "output_type": "stream",
          "text": [
            "File housing_train.csv is already downloaded\n"
          ],
          "name": "stdout"
        }
      ]
    },
    {
      "cell_type": "code",
      "metadata": {
        "id": "A9KU3tmUnmIp",
        "outputId": "3c54bcf8-05cd-49a5-96e8-98c1e5f51cc5",
        "colab": {
          "base_uri": "https://localhost:8080/",
          "height": 252
        }
      },
      "source": [
        "df = pd.read_csv('housing_train.csv')\n",
        "df.head()"
      ],
      "execution_count": 3,
      "outputs": [
        {
          "output_type": "execute_result",
          "data": {
            "text/html": [
              "<div>\n",
              "<style scoped>\n",
              "    .dataframe tbody tr th:only-of-type {\n",
              "        vertical-align: middle;\n",
              "    }\n",
              "\n",
              "    .dataframe tbody tr th {\n",
              "        vertical-align: top;\n",
              "    }\n",
              "\n",
              "    .dataframe thead th {\n",
              "        text-align: right;\n",
              "    }\n",
              "</style>\n",
              "<table border=\"1\" class=\"dataframe\">\n",
              "  <thead>\n",
              "    <tr style=\"text-align: right;\">\n",
              "      <th></th>\n",
              "      <th>Id</th>\n",
              "      <th>MSSubClass</th>\n",
              "      <th>MSZoning</th>\n",
              "      <th>LotFrontage</th>\n",
              "      <th>LotArea</th>\n",
              "      <th>Street</th>\n",
              "      <th>Alley</th>\n",
              "      <th>LotShape</th>\n",
              "      <th>LandContour</th>\n",
              "      <th>Utilities</th>\n",
              "      <th>LotConfig</th>\n",
              "      <th>LandSlope</th>\n",
              "      <th>Neighborhood</th>\n",
              "      <th>Condition1</th>\n",
              "      <th>Condition2</th>\n",
              "      <th>BldgType</th>\n",
              "      <th>HouseStyle</th>\n",
              "      <th>OverallQual</th>\n",
              "      <th>OverallCond</th>\n",
              "      <th>YearBuilt</th>\n",
              "      <th>YearRemodAdd</th>\n",
              "      <th>RoofStyle</th>\n",
              "      <th>RoofMatl</th>\n",
              "      <th>Exterior1st</th>\n",
              "      <th>Exterior2nd</th>\n",
              "      <th>MasVnrType</th>\n",
              "      <th>MasVnrArea</th>\n",
              "      <th>ExterQual</th>\n",
              "      <th>ExterCond</th>\n",
              "      <th>Foundation</th>\n",
              "      <th>BsmtQual</th>\n",
              "      <th>BsmtCond</th>\n",
              "      <th>BsmtExposure</th>\n",
              "      <th>BsmtFinType1</th>\n",
              "      <th>BsmtFinSF1</th>\n",
              "      <th>BsmtFinType2</th>\n",
              "      <th>BsmtFinSF2</th>\n",
              "      <th>BsmtUnfSF</th>\n",
              "      <th>TotalBsmtSF</th>\n",
              "      <th>Heating</th>\n",
              "      <th>...</th>\n",
              "      <th>CentralAir</th>\n",
              "      <th>Electrical</th>\n",
              "      <th>1stFlrSF</th>\n",
              "      <th>2ndFlrSF</th>\n",
              "      <th>LowQualFinSF</th>\n",
              "      <th>GrLivArea</th>\n",
              "      <th>BsmtFullBath</th>\n",
              "      <th>BsmtHalfBath</th>\n",
              "      <th>FullBath</th>\n",
              "      <th>HalfBath</th>\n",
              "      <th>BedroomAbvGr</th>\n",
              "      <th>KitchenAbvGr</th>\n",
              "      <th>KitchenQual</th>\n",
              "      <th>TotRmsAbvGrd</th>\n",
              "      <th>Functional</th>\n",
              "      <th>Fireplaces</th>\n",
              "      <th>FireplaceQu</th>\n",
              "      <th>GarageType</th>\n",
              "      <th>GarageYrBlt</th>\n",
              "      <th>GarageFinish</th>\n",
              "      <th>GarageCars</th>\n",
              "      <th>GarageArea</th>\n",
              "      <th>GarageQual</th>\n",
              "      <th>GarageCond</th>\n",
              "      <th>PavedDrive</th>\n",
              "      <th>WoodDeckSF</th>\n",
              "      <th>OpenPorchSF</th>\n",
              "      <th>EnclosedPorch</th>\n",
              "      <th>3SsnPorch</th>\n",
              "      <th>ScreenPorch</th>\n",
              "      <th>PoolArea</th>\n",
              "      <th>PoolQC</th>\n",
              "      <th>Fence</th>\n",
              "      <th>MiscFeature</th>\n",
              "      <th>MiscVal</th>\n",
              "      <th>MoSold</th>\n",
              "      <th>YrSold</th>\n",
              "      <th>SaleType</th>\n",
              "      <th>SaleCondition</th>\n",
              "      <th>SalePrice</th>\n",
              "    </tr>\n",
              "  </thead>\n",
              "  <tbody>\n",
              "    <tr>\n",
              "      <th>0</th>\n",
              "      <td>1</td>\n",
              "      <td>60</td>\n",
              "      <td>RL</td>\n",
              "      <td>65.0</td>\n",
              "      <td>8450</td>\n",
              "      <td>Pave</td>\n",
              "      <td>NaN</td>\n",
              "      <td>Reg</td>\n",
              "      <td>Lvl</td>\n",
              "      <td>AllPub</td>\n",
              "      <td>Inside</td>\n",
              "      <td>Gtl</td>\n",
              "      <td>CollgCr</td>\n",
              "      <td>Norm</td>\n",
              "      <td>Norm</td>\n",
              "      <td>1Fam</td>\n",
              "      <td>2Story</td>\n",
              "      <td>7</td>\n",
              "      <td>5</td>\n",
              "      <td>2003</td>\n",
              "      <td>2003</td>\n",
              "      <td>Gable</td>\n",
              "      <td>CompShg</td>\n",
              "      <td>VinylSd</td>\n",
              "      <td>VinylSd</td>\n",
              "      <td>BrkFace</td>\n",
              "      <td>196.0</td>\n",
              "      <td>Gd</td>\n",
              "      <td>TA</td>\n",
              "      <td>PConc</td>\n",
              "      <td>Gd</td>\n",
              "      <td>TA</td>\n",
              "      <td>No</td>\n",
              "      <td>GLQ</td>\n",
              "      <td>706</td>\n",
              "      <td>Unf</td>\n",
              "      <td>0</td>\n",
              "      <td>150</td>\n",
              "      <td>856</td>\n",
              "      <td>GasA</td>\n",
              "      <td>...</td>\n",
              "      <td>Y</td>\n",
              "      <td>SBrkr</td>\n",
              "      <td>856</td>\n",
              "      <td>854</td>\n",
              "      <td>0</td>\n",
              "      <td>1710</td>\n",
              "      <td>1</td>\n",
              "      <td>0</td>\n",
              "      <td>2</td>\n",
              "      <td>1</td>\n",
              "      <td>3</td>\n",
              "      <td>1</td>\n",
              "      <td>Gd</td>\n",
              "      <td>8</td>\n",
              "      <td>Typ</td>\n",
              "      <td>0</td>\n",
              "      <td>NaN</td>\n",
              "      <td>Attchd</td>\n",
              "      <td>2003.0</td>\n",
              "      <td>RFn</td>\n",
              "      <td>2</td>\n",
              "      <td>548</td>\n",
              "      <td>TA</td>\n",
              "      <td>TA</td>\n",
              "      <td>Y</td>\n",
              "      <td>0</td>\n",
              "      <td>61</td>\n",
              "      <td>0</td>\n",
              "      <td>0</td>\n",
              "      <td>0</td>\n",
              "      <td>0</td>\n",
              "      <td>NaN</td>\n",
              "      <td>NaN</td>\n",
              "      <td>NaN</td>\n",
              "      <td>0</td>\n",
              "      <td>2</td>\n",
              "      <td>2008</td>\n",
              "      <td>WD</td>\n",
              "      <td>Normal</td>\n",
              "      <td>208500</td>\n",
              "    </tr>\n",
              "    <tr>\n",
              "      <th>1</th>\n",
              "      <td>2</td>\n",
              "      <td>20</td>\n",
              "      <td>RL</td>\n",
              "      <td>80.0</td>\n",
              "      <td>9600</td>\n",
              "      <td>Pave</td>\n",
              "      <td>NaN</td>\n",
              "      <td>Reg</td>\n",
              "      <td>Lvl</td>\n",
              "      <td>AllPub</td>\n",
              "      <td>FR2</td>\n",
              "      <td>Gtl</td>\n",
              "      <td>Veenker</td>\n",
              "      <td>Feedr</td>\n",
              "      <td>Norm</td>\n",
              "      <td>1Fam</td>\n",
              "      <td>1Story</td>\n",
              "      <td>6</td>\n",
              "      <td>8</td>\n",
              "      <td>1976</td>\n",
              "      <td>1976</td>\n",
              "      <td>Gable</td>\n",
              "      <td>CompShg</td>\n",
              "      <td>MetalSd</td>\n",
              "      <td>MetalSd</td>\n",
              "      <td>None</td>\n",
              "      <td>0.0</td>\n",
              "      <td>TA</td>\n",
              "      <td>TA</td>\n",
              "      <td>CBlock</td>\n",
              "      <td>Gd</td>\n",
              "      <td>TA</td>\n",
              "      <td>Gd</td>\n",
              "      <td>ALQ</td>\n",
              "      <td>978</td>\n",
              "      <td>Unf</td>\n",
              "      <td>0</td>\n",
              "      <td>284</td>\n",
              "      <td>1262</td>\n",
              "      <td>GasA</td>\n",
              "      <td>...</td>\n",
              "      <td>Y</td>\n",
              "      <td>SBrkr</td>\n",
              "      <td>1262</td>\n",
              "      <td>0</td>\n",
              "      <td>0</td>\n",
              "      <td>1262</td>\n",
              "      <td>0</td>\n",
              "      <td>1</td>\n",
              "      <td>2</td>\n",
              "      <td>0</td>\n",
              "      <td>3</td>\n",
              "      <td>1</td>\n",
              "      <td>TA</td>\n",
              "      <td>6</td>\n",
              "      <td>Typ</td>\n",
              "      <td>1</td>\n",
              "      <td>TA</td>\n",
              "      <td>Attchd</td>\n",
              "      <td>1976.0</td>\n",
              "      <td>RFn</td>\n",
              "      <td>2</td>\n",
              "      <td>460</td>\n",
              "      <td>TA</td>\n",
              "      <td>TA</td>\n",
              "      <td>Y</td>\n",
              "      <td>298</td>\n",
              "      <td>0</td>\n",
              "      <td>0</td>\n",
              "      <td>0</td>\n",
              "      <td>0</td>\n",
              "      <td>0</td>\n",
              "      <td>NaN</td>\n",
              "      <td>NaN</td>\n",
              "      <td>NaN</td>\n",
              "      <td>0</td>\n",
              "      <td>5</td>\n",
              "      <td>2007</td>\n",
              "      <td>WD</td>\n",
              "      <td>Normal</td>\n",
              "      <td>181500</td>\n",
              "    </tr>\n",
              "    <tr>\n",
              "      <th>2</th>\n",
              "      <td>3</td>\n",
              "      <td>60</td>\n",
              "      <td>RL</td>\n",
              "      <td>68.0</td>\n",
              "      <td>11250</td>\n",
              "      <td>Pave</td>\n",
              "      <td>NaN</td>\n",
              "      <td>IR1</td>\n",
              "      <td>Lvl</td>\n",
              "      <td>AllPub</td>\n",
              "      <td>Inside</td>\n",
              "      <td>Gtl</td>\n",
              "      <td>CollgCr</td>\n",
              "      <td>Norm</td>\n",
              "      <td>Norm</td>\n",
              "      <td>1Fam</td>\n",
              "      <td>2Story</td>\n",
              "      <td>7</td>\n",
              "      <td>5</td>\n",
              "      <td>2001</td>\n",
              "      <td>2002</td>\n",
              "      <td>Gable</td>\n",
              "      <td>CompShg</td>\n",
              "      <td>VinylSd</td>\n",
              "      <td>VinylSd</td>\n",
              "      <td>BrkFace</td>\n",
              "      <td>162.0</td>\n",
              "      <td>Gd</td>\n",
              "      <td>TA</td>\n",
              "      <td>PConc</td>\n",
              "      <td>Gd</td>\n",
              "      <td>TA</td>\n",
              "      <td>Mn</td>\n",
              "      <td>GLQ</td>\n",
              "      <td>486</td>\n",
              "      <td>Unf</td>\n",
              "      <td>0</td>\n",
              "      <td>434</td>\n",
              "      <td>920</td>\n",
              "      <td>GasA</td>\n",
              "      <td>...</td>\n",
              "      <td>Y</td>\n",
              "      <td>SBrkr</td>\n",
              "      <td>920</td>\n",
              "      <td>866</td>\n",
              "      <td>0</td>\n",
              "      <td>1786</td>\n",
              "      <td>1</td>\n",
              "      <td>0</td>\n",
              "      <td>2</td>\n",
              "      <td>1</td>\n",
              "      <td>3</td>\n",
              "      <td>1</td>\n",
              "      <td>Gd</td>\n",
              "      <td>6</td>\n",
              "      <td>Typ</td>\n",
              "      <td>1</td>\n",
              "      <td>TA</td>\n",
              "      <td>Attchd</td>\n",
              "      <td>2001.0</td>\n",
              "      <td>RFn</td>\n",
              "      <td>2</td>\n",
              "      <td>608</td>\n",
              "      <td>TA</td>\n",
              "      <td>TA</td>\n",
              "      <td>Y</td>\n",
              "      <td>0</td>\n",
              "      <td>42</td>\n",
              "      <td>0</td>\n",
              "      <td>0</td>\n",
              "      <td>0</td>\n",
              "      <td>0</td>\n",
              "      <td>NaN</td>\n",
              "      <td>NaN</td>\n",
              "      <td>NaN</td>\n",
              "      <td>0</td>\n",
              "      <td>9</td>\n",
              "      <td>2008</td>\n",
              "      <td>WD</td>\n",
              "      <td>Normal</td>\n",
              "      <td>223500</td>\n",
              "    </tr>\n",
              "    <tr>\n",
              "      <th>3</th>\n",
              "      <td>4</td>\n",
              "      <td>70</td>\n",
              "      <td>RL</td>\n",
              "      <td>60.0</td>\n",
              "      <td>9550</td>\n",
              "      <td>Pave</td>\n",
              "      <td>NaN</td>\n",
              "      <td>IR1</td>\n",
              "      <td>Lvl</td>\n",
              "      <td>AllPub</td>\n",
              "      <td>Corner</td>\n",
              "      <td>Gtl</td>\n",
              "      <td>Crawfor</td>\n",
              "      <td>Norm</td>\n",
              "      <td>Norm</td>\n",
              "      <td>1Fam</td>\n",
              "      <td>2Story</td>\n",
              "      <td>7</td>\n",
              "      <td>5</td>\n",
              "      <td>1915</td>\n",
              "      <td>1970</td>\n",
              "      <td>Gable</td>\n",
              "      <td>CompShg</td>\n",
              "      <td>Wd Sdng</td>\n",
              "      <td>Wd Shng</td>\n",
              "      <td>None</td>\n",
              "      <td>0.0</td>\n",
              "      <td>TA</td>\n",
              "      <td>TA</td>\n",
              "      <td>BrkTil</td>\n",
              "      <td>TA</td>\n",
              "      <td>Gd</td>\n",
              "      <td>No</td>\n",
              "      <td>ALQ</td>\n",
              "      <td>216</td>\n",
              "      <td>Unf</td>\n",
              "      <td>0</td>\n",
              "      <td>540</td>\n",
              "      <td>756</td>\n",
              "      <td>GasA</td>\n",
              "      <td>...</td>\n",
              "      <td>Y</td>\n",
              "      <td>SBrkr</td>\n",
              "      <td>961</td>\n",
              "      <td>756</td>\n",
              "      <td>0</td>\n",
              "      <td>1717</td>\n",
              "      <td>1</td>\n",
              "      <td>0</td>\n",
              "      <td>1</td>\n",
              "      <td>0</td>\n",
              "      <td>3</td>\n",
              "      <td>1</td>\n",
              "      <td>Gd</td>\n",
              "      <td>7</td>\n",
              "      <td>Typ</td>\n",
              "      <td>1</td>\n",
              "      <td>Gd</td>\n",
              "      <td>Detchd</td>\n",
              "      <td>1998.0</td>\n",
              "      <td>Unf</td>\n",
              "      <td>3</td>\n",
              "      <td>642</td>\n",
              "      <td>TA</td>\n",
              "      <td>TA</td>\n",
              "      <td>Y</td>\n",
              "      <td>0</td>\n",
              "      <td>35</td>\n",
              "      <td>272</td>\n",
              "      <td>0</td>\n",
              "      <td>0</td>\n",
              "      <td>0</td>\n",
              "      <td>NaN</td>\n",
              "      <td>NaN</td>\n",
              "      <td>NaN</td>\n",
              "      <td>0</td>\n",
              "      <td>2</td>\n",
              "      <td>2006</td>\n",
              "      <td>WD</td>\n",
              "      <td>Abnorml</td>\n",
              "      <td>140000</td>\n",
              "    </tr>\n",
              "    <tr>\n",
              "      <th>4</th>\n",
              "      <td>5</td>\n",
              "      <td>60</td>\n",
              "      <td>RL</td>\n",
              "      <td>84.0</td>\n",
              "      <td>14260</td>\n",
              "      <td>Pave</td>\n",
              "      <td>NaN</td>\n",
              "      <td>IR1</td>\n",
              "      <td>Lvl</td>\n",
              "      <td>AllPub</td>\n",
              "      <td>FR2</td>\n",
              "      <td>Gtl</td>\n",
              "      <td>NoRidge</td>\n",
              "      <td>Norm</td>\n",
              "      <td>Norm</td>\n",
              "      <td>1Fam</td>\n",
              "      <td>2Story</td>\n",
              "      <td>8</td>\n",
              "      <td>5</td>\n",
              "      <td>2000</td>\n",
              "      <td>2000</td>\n",
              "      <td>Gable</td>\n",
              "      <td>CompShg</td>\n",
              "      <td>VinylSd</td>\n",
              "      <td>VinylSd</td>\n",
              "      <td>BrkFace</td>\n",
              "      <td>350.0</td>\n",
              "      <td>Gd</td>\n",
              "      <td>TA</td>\n",
              "      <td>PConc</td>\n",
              "      <td>Gd</td>\n",
              "      <td>TA</td>\n",
              "      <td>Av</td>\n",
              "      <td>GLQ</td>\n",
              "      <td>655</td>\n",
              "      <td>Unf</td>\n",
              "      <td>0</td>\n",
              "      <td>490</td>\n",
              "      <td>1145</td>\n",
              "      <td>GasA</td>\n",
              "      <td>...</td>\n",
              "      <td>Y</td>\n",
              "      <td>SBrkr</td>\n",
              "      <td>1145</td>\n",
              "      <td>1053</td>\n",
              "      <td>0</td>\n",
              "      <td>2198</td>\n",
              "      <td>1</td>\n",
              "      <td>0</td>\n",
              "      <td>2</td>\n",
              "      <td>1</td>\n",
              "      <td>4</td>\n",
              "      <td>1</td>\n",
              "      <td>Gd</td>\n",
              "      <td>9</td>\n",
              "      <td>Typ</td>\n",
              "      <td>1</td>\n",
              "      <td>TA</td>\n",
              "      <td>Attchd</td>\n",
              "      <td>2000.0</td>\n",
              "      <td>RFn</td>\n",
              "      <td>3</td>\n",
              "      <td>836</td>\n",
              "      <td>TA</td>\n",
              "      <td>TA</td>\n",
              "      <td>Y</td>\n",
              "      <td>192</td>\n",
              "      <td>84</td>\n",
              "      <td>0</td>\n",
              "      <td>0</td>\n",
              "      <td>0</td>\n",
              "      <td>0</td>\n",
              "      <td>NaN</td>\n",
              "      <td>NaN</td>\n",
              "      <td>NaN</td>\n",
              "      <td>0</td>\n",
              "      <td>12</td>\n",
              "      <td>2008</td>\n",
              "      <td>WD</td>\n",
              "      <td>Normal</td>\n",
              "      <td>250000</td>\n",
              "    </tr>\n",
              "  </tbody>\n",
              "</table>\n",
              "<p>5 rows × 81 columns</p>\n",
              "</div>"
            ],
            "text/plain": [
              "   Id  MSSubClass MSZoning  ...  SaleType  SaleCondition SalePrice\n",
              "0   1          60       RL  ...        WD         Normal    208500\n",
              "1   2          20       RL  ...        WD         Normal    181500\n",
              "2   3          60       RL  ...        WD         Normal    223500\n",
              "3   4          70       RL  ...        WD        Abnorml    140000\n",
              "4   5          60       RL  ...        WD         Normal    250000\n",
              "\n",
              "[5 rows x 81 columns]"
            ]
          },
          "metadata": {
            "tags": []
          },
          "execution_count": 3
        }
      ]
    },
    {
      "cell_type": "code",
      "metadata": {
        "id": "VNHBEF2anqNB",
        "outputId": "7053bc4d-79d1-4635-ef5f-924e29bcc332",
        "colab": {
          "base_uri": "https://localhost:8080/",
          "height": 52
        }
      },
      "source": [
        "nsamp, natt = df.shape\n",
        "print('Number samples = %d' % nsamp)\n",
        "print('Number attributes per sample = %d' % natt)"
      ],
      "execution_count": 4,
      "outputs": [
        {
          "output_type": "stream",
          "text": [
            "Number samples = 1460\n",
            "Number attributes per sample = 81\n"
          ],
          "name": "stdout"
        }
      ]
    },
    {
      "cell_type": "markdown",
      "metadata": {
        "id": "9LEkPYuknwj4"
      },
      "source": [
        "Removing columns with missing values"
      ]
    },
    {
      "cell_type": "code",
      "metadata": {
        "id": "BaZs4IqpnubB",
        "outputId": "afc59a10-9ddd-4c1a-966c-057f44b012a8",
        "colab": {
          "base_uri": "https://localhost:8080/",
          "height": 52
        }
      },
      "source": [
        "df = df.dropna(axis=1)\n",
        "\n",
        "nsamp, natt = df.shape\n",
        "print('Number samples = %d' % nsamp)\n",
        "print('Number attributes per sample = %d' % natt)"
      ],
      "execution_count": 5,
      "outputs": [
        {
          "output_type": "stream",
          "text": [
            "Number samples = 1460\n",
            "Number attributes per sample = 62\n"
          ],
          "name": "stdout"
        }
      ]
    },
    {
      "cell_type": "markdown",
      "metadata": {
        "id": "rQcmBfd6n74F"
      },
      "source": [
        "Entries with \"SaleCondition\" not normal are removed to make regression easier"
      ]
    },
    {
      "cell_type": "code",
      "metadata": {
        "id": "bmOwjeRAn4Ui",
        "outputId": "f41e6c50-b553-45a0-b06a-edd802d9cb6a",
        "colab": {
          "base_uri": "https://localhost:8080/",
          "height": 52
        }
      },
      "source": [
        "df = df.loc[df['SaleCondition'] == 'Normal']\n",
        "\n",
        "nsamp, natt = df.shape\n",
        "print('Number samples = %d' % nsamp)\n",
        "print('Number attributes per sample = %d' % natt)"
      ],
      "execution_count": 6,
      "outputs": [
        {
          "output_type": "stream",
          "text": [
            "Number samples = 1198\n",
            "Number attributes per sample = 62\n"
          ],
          "name": "stdout"
        }
      ]
    },
    {
      "cell_type": "markdown",
      "metadata": {
        "id": "IBiwxB2KoIz4"
      },
      "source": [
        "One hot coding the categorical variables"
      ]
    },
    {
      "cell_type": "code",
      "metadata": {
        "id": "Igd0XnfzoGNx",
        "outputId": "f2e5ad50-edde-4c42-e807-0e2b06f7ce6b",
        "colab": {
          "base_uri": "https://localhost:8080/",
          "height": 228
        }
      },
      "source": [
        "print(df.dtypes)"
      ],
      "execution_count": 7,
      "outputs": [
        {
          "output_type": "stream",
          "text": [
            "Id                int64\n",
            "MSSubClass        int64\n",
            "MSZoning         object\n",
            "LotArea           int64\n",
            "Street           object\n",
            "                  ...  \n",
            "MoSold            int64\n",
            "YrSold            int64\n",
            "SaleType         object\n",
            "SaleCondition    object\n",
            "SalePrice         int64\n",
            "Length: 62, dtype: object\n"
          ],
          "name": "stdout"
        }
      ]
    },
    {
      "cell_type": "code",
      "metadata": {
        "id": "9RJF8zIIoNCi",
        "outputId": "6a0a46ea-de58-4d6d-9295-fc3726dcc82e",
        "colab": {
          "base_uri": "https://localhost:8080/",
          "height": 90
        }
      },
      "source": [
        "ignore_vars = ['Id', 'MoSold', 'SalePrice']\n",
        "cols = df.columns\n",
        "cat_vars = []\n",
        "real_vars = []\n",
        "\n",
        "for col in cols:\n",
        "    \n",
        "    if not (col in ignore_vars):\n",
        "        if df.dtypes[col]  == 'object':\n",
        "            cat_vars.append(col)\n",
        "        else:\n",
        "            real_vars.append(col)\n",
        "                \n",
        "print('Categorical variables = ' + str(cat_vars))\n",
        "print('')\n",
        "print('Real variables = ' + str(real_vars))"
      ],
      "execution_count": 8,
      "outputs": [
        {
          "output_type": "stream",
          "text": [
            "Categorical variables = ['MSZoning', 'Street', 'LotShape', 'LandContour', 'Utilities', 'LotConfig', 'LandSlope', 'Neighborhood', 'Condition1', 'Condition2', 'BldgType', 'HouseStyle', 'RoofStyle', 'RoofMatl', 'Exterior1st', 'Exterior2nd', 'ExterQual', 'ExterCond', 'Foundation', 'Heating', 'HeatingQC', 'CentralAir', 'KitchenQual', 'Functional', 'PavedDrive', 'SaleType', 'SaleCondition']\n",
            "\n",
            "Real variables = ['MSSubClass', 'LotArea', 'OverallQual', 'OverallCond', 'YearBuilt', 'YearRemodAdd', 'BsmtFinSF1', 'BsmtFinSF2', 'BsmtUnfSF', 'TotalBsmtSF', '1stFlrSF', '2ndFlrSF', 'LowQualFinSF', 'GrLivArea', 'BsmtFullBath', 'BsmtHalfBath', 'FullBath', 'HalfBath', 'BedroomAbvGr', 'KitchenAbvGr', 'TotRmsAbvGrd', 'Fireplaces', 'GarageCars', 'GarageArea', 'WoodDeckSF', 'OpenPorchSF', 'EnclosedPorch', '3SsnPorch', 'ScreenPorch', 'PoolArea', 'MiscVal', 'YrSold']\n"
          ],
          "name": "stdout"
        }
      ]
    },
    {
      "cell_type": "code",
      "metadata": {
        "id": "5tf8N8JCofUo"
      },
      "source": [
        "df_real = df[real_vars]\n",
        "df_cat = df[cat_vars]\n",
        "\n",
        "# One-hot encode the categorical variables\n",
        "df_cat_enc = pd.get_dummies(df_cat, drop_first=True)"
      ],
      "execution_count": 9,
      "outputs": []
    },
    {
      "cell_type": "code",
      "metadata": {
        "id": "ttFgEIpdotHw",
        "outputId": "026c9242-2407-411d-8ed9-4972c67866a0",
        "colab": {
          "base_uri": "https://localhost:8080/",
          "height": 35
        }
      },
      "source": [
        "df_enc = pd.concat((df_real, df_cat_enc), axis=1)\n",
        "X = np.array(df_enc)\n",
        "print(X.shape)\n",
        "\n",
        "xnames = df_enc.columns"
      ],
      "execution_count": 10,
      "outputs": [
        {
          "output_type": "stream",
          "text": [
            "(1198, 174)\n"
          ],
          "name": "stdout"
        }
      ]
    },
    {
      "cell_type": "code",
      "metadata": {
        "id": "2CiaPW3Xo1Ii"
      },
      "source": [
        "y = np.array(df['SalePrice'])"
      ],
      "execution_count": 11,
      "outputs": []
    },
    {
      "cell_type": "markdown",
      "metadata": {
        "id": "SGiNPVtLo6Xk"
      },
      "source": [
        "Scaling the data"
      ]
    },
    {
      "cell_type": "code",
      "metadata": {
        "id": "HDLFCEJro4_p"
      },
      "source": [
        "from sklearn.model_selection import train_test_split\n",
        "\n",
        "Xtr, Xts, ytr, yts = train_test_split(X,y,test_size=0.3)"
      ],
      "execution_count": 12,
      "outputs": []
    },
    {
      "cell_type": "code",
      "metadata": {
        "id": "6sK_0da6o-FI"
      },
      "source": [
        "from sklearn.preprocessing import StandardScaler\n",
        "\n",
        "# Create the scaler objects\n",
        "xscal = StandardScaler()\n",
        "yscal = StandardScaler()\n",
        "\n",
        "# Fit and transform the training data\n",
        "Xtr1 = xscal.fit_transform(Xtr)\n",
        "ytr1 = yscal.fit_transform(ytr[:,None])\n",
        "\n",
        "# Transform the test data\n",
        "Xts1 = xscal.transform(Xts)\n",
        "yts1 = yscal.transform(yts[:,None])"
      ],
      "execution_count": 13,
      "outputs": []
    },
    {
      "cell_type": "markdown",
      "metadata": {
        "id": "Ijoeh77ipEDL"
      },
      "source": [
        "**Linear Regression without Regularization**"
      ]
    },
    {
      "cell_type": "code",
      "metadata": {
        "id": "GuASWtMhpCmS",
        "outputId": "744fdbd3-ac72-4e3e-bf40-5ba6926dc672",
        "colab": {
          "base_uri": "https://localhost:8080/",
          "height": 52
        }
      },
      "source": [
        "from sklearn.linear_model import LinearRegression, Ridge\n",
        "from sklearn.metrics import r2_score\n",
        "\n",
        "# Fit\n",
        "reg_ls = LinearRegression()\n",
        "reg_ls.fit(Xtr1, ytr1)\n",
        "\n",
        "# Training R^2\n",
        "yhat1_tr = reg_ls.predict(Xtr1)\n",
        "rsq_tr = r2_score(yhat1_tr, ytr1)\n",
        "print('Training R^2 = %12.4e' % rsq_tr)\n",
        "\n",
        "# Test R^2\n",
        "yhat1_ts = reg_ls.predict(Xts1)\n",
        "rsq_ts = r2_score(yts1, yhat1_ts)\n",
        "print('Test R^2     = %12.4e' % rsq_ts)"
      ],
      "execution_count": 14,
      "outputs": [
        {
          "output_type": "stream",
          "text": [
            "Training R^2 =   9.3966e-01\n",
            "Test R^2     =  -3.4567e+22\n"
          ],
          "name": "stdout"
        }
      ]
    },
    {
      "cell_type": "markdown",
      "metadata": {
        "id": "WjrkgM_6pRh7"
      },
      "source": [
        "Using ridge regression for a better fit"
      ]
    },
    {
      "cell_type": "code",
      "metadata": {
        "id": "xJ_iituEpMZh",
        "outputId": "bc368e7d-4246-4f04-e8dd-f62656ac6af1",
        "colab": {
          "base_uri": "https://localhost:8080/",
          "height": 35
        }
      },
      "source": [
        "reg_ls = Ridge(alpha=1e-5)\n",
        "reg_ls.fit(Xtr1, ytr1)\n",
        "yhat1 = reg_ls.predict(Xts1)\n",
        "rsq = r2_score(yts1, yhat1)\n",
        "print('Test R^2     = %f' % rsq)"
      ],
      "execution_count": 15,
      "outputs": [
        {
          "output_type": "stream",
          "text": [
            "Test R^2     = 0.887131\n"
          ],
          "name": "stdout"
        }
      ]
    },
    {
      "cell_type": "markdown",
      "metadata": {
        "id": "skbXdOeIpnXc"
      },
      "source": [
        "Plotting the actual v/s predicted values"
      ]
    },
    {
      "cell_type": "code",
      "metadata": {
        "id": "xSp0ZlTSplNJ",
        "outputId": "e250bc94-8d5b-4cc4-fbb2-0ad5b8f94c5e",
        "colab": {
          "base_uri": "https://localhost:8080/",
          "height": 297
        }
      },
      "source": [
        "yhat = yscal.inverse_transform(yhat1)\n",
        "\n",
        "yline = np.array([0, np.max(yts)])\n",
        "plt.plot(yhat, yts, 'o')\n",
        "plt.plot(yline, yline)\n",
        "plt.grid()\n",
        "plt.xlabel('Predicted')\n",
        "plt.ylabel('Actual')"
      ],
      "execution_count": 16,
      "outputs": [
        {
          "output_type": "execute_result",
          "data": {
            "text/plain": [
              "Text(0, 0.5, 'Actual')"
            ]
          },
          "metadata": {
            "tags": []
          },
          "execution_count": 16
        },
        {
          "output_type": "display_data",
          "data": {
            "image/png": "[encoded data removed]",
            "text/plain": [
              "<Figure size 432x288 with 1 Axes>"
            ]
          },
          "metadata": {
            "tags": [],
            "needs_background": "light"
          }
        }
      ]
    },
    {
      "cell_type": "markdown",
      "metadata": {
        "id": "-lv2Ql1OqKlo"
      },
      "source": [
        "Listing the variables with largest 10 coefficients"
      ]
    },
    {
      "cell_type": "code",
      "metadata": {
        "id": "cpIo1bfMpsF5",
        "outputId": "051fa096-90f7-489d-dd08-5725d439181c",
        "colab": {
          "base_uri": "https://localhost:8080/",
          "height": 193
        }
      },
      "source": [
        "coeff_ls = reg_ls.coef_.ravel()\n",
        "nprint = 10\n",
        "I = np.argsort(np.abs(coeff_ls))\n",
        "I = np.flipud(I)\n",
        "for i in range(nprint):\n",
        "    j = I[i]\n",
        "    print('%20s %f' % (xnames[j], coeff_ls[j]) )"
      ],
      "execution_count": 17,
      "outputs": [
        {
          "output_type": "stream",
          "text": [
            "         MSZoning_RL 0.339747\n",
            "           GrLivArea 0.278911\n",
            "         MSZoning_RM 0.258912\n",
            "            2ndFlrSF 0.234154\n",
            "      KitchenQual_TA -0.204069\n",
            "      KitchenQual_Gd -0.192469\n",
            "           YearBuilt 0.191706\n",
            "     RoofStyle_Gable 0.191623\n",
            "       RoofStyle_Hip 0.181819\n",
            "         OverallQual 0.161282\n"
          ],
          "name": "stdout"
        }
      ]
    },
    {
      "cell_type": "code",
      "metadata": {
        "id": "l-eWx2daqPpQ",
        "outputId": "b758ad0d-0521-42d8-fffd-ae8b3e7ab6ac",
        "colab": {
          "base_uri": "https://localhost:8080/",
          "height": 369
        }
      },
      "source": [
        "plt.figure(figsize=(10,5))\n",
        "plt.subplot(1,2,1)\n",
        "plt.stem(coeff_ls, use_line_collection=True)\n",
        "plt.xlabel('Variable index')\n",
        "plt.ylabel('Coeff')\n",
        "plt.grid()\n",
        "\n",
        "\n",
        "plt.subplot(1,2,2)\n",
        "coeff_sort_ls = np.flipud(np.sort(np.abs(coeff_ls)))\n",
        "plt.plot(coeff_sort_ls)\n",
        "plt.xlabel('Sorted var index')\n",
        "plt.ylabel('Coeff Mag')\n",
        "plt.grid()\n",
        "plt.tight_layout()"
      ],
      "execution_count": 18,
      "outputs": [
        {
          "output_type": "display_data",
          "data": {
            "image/png": "[encoded data removed]",
            "text/plain": [
              "<Figure size 720x360 with 2 Axes>"
            ]
          },
          "metadata": {
            "tags": [],
            "needs_background": "light"
          }
        }
      ]
    },
    {
      "cell_type": "markdown",
      "metadata": {
        "id": "BSBXpPGWqaxE"
      },
      "source": [
        "Retraining model with the top 50 parameters"
      ]
    },
    {
      "cell_type": "code",
      "metadata": {
        "id": "g6GxlL9LqUbI"
      },
      "source": [
        "xnames2 = []\n",
        "\n",
        "nprint = 50\n",
        "I = np.argsort(np.abs(coeff_ls))\n",
        "I = np.flipud(I)\n",
        "for i in range(nprint):\n",
        "    j = I[i]\n",
        "    temp = xnames[j]\n",
        "    xnames2.append(temp)\n",
        "\n",
        "new_df = df_enc[xnames2]"
      ],
      "execution_count": 19,
      "outputs": []
    },
    {
      "cell_type": "code",
      "metadata": {
        "id": "w9CNDX15rACu"
      },
      "source": [
        "Xnew = np.array(new_df)\n",
        "\n",
        "Xtr_new, Xts_new, ytr_new, yts_new = train_test_split(Xnew,y,test_size=0.3)"
      ],
      "execution_count": 20,
      "outputs": []
    },
    {
      "cell_type": "code",
      "metadata": {
        "id": "_dz2yfXVuaeJ"
      },
      "source": [
        "xscal = StandardScaler()\n",
        "yscal = StandardScaler()\n",
        "\n",
        "# Fit and transform the training data\n",
        "Xtr1 = xscal.fit_transform(Xtr_new)\n",
        "ytr1 = yscal.fit_transform(ytr_new[:,None])\n",
        "\n",
        "# Transform the test data\n",
        "Xts1 = xscal.transform(Xts_new)\n",
        "yts1 = yscal.transform(yts_new[:,None])"
      ],
      "execution_count": 21,
      "outputs": []
    },
    {
      "cell_type": "code",
      "metadata": {
        "id": "flsFn4xRupoK",
        "outputId": "21368bad-1ef1-44e9-d985-f59fd348960e",
        "colab": {
          "base_uri": "https://localhost:8080/",
          "height": 35
        }
      },
      "source": [
        "reg_ls = Ridge(alpha=1e-5)\n",
        "reg_ls.fit(Xtr1, ytr1)\n",
        "yhat1 = reg_ls.predict(Xts1)\n",
        "rsq = r2_score(yts1, yhat1)\n",
        "print('Test R^2     = %f' % rsq)"
      ],
      "execution_count": 22,
      "outputs": [
        {
          "output_type": "stream",
          "text": [
            "Test R^2     = 0.921555\n"
          ],
          "name": "stdout"
        }
      ]
    },
    {
      "cell_type": "markdown",
      "metadata": {
        "id": "KCLIprmDu7k4"
      },
      "source": [
        "**LASSO Regression**\n",
        "\n",
        "Minimizing objective of the form,\n",
        "\n",
        "betahat = argmin (1/2/n)*\\| y - A.dot(beta) \\|^2 + alpha * \\| beta \\|_1"
      ]
    },
    {
      "cell_type": "code",
      "metadata": {
        "id": "nRikOK60wG8G",
        "outputId": "0f0688c7-d5da-495e-e263-c08122ea823d",
        "colab": {
          "base_uri": "https://localhost:8080/",
          "height": 35
        }
      },
      "source": [
        "from sklearn.linear_model import Lasso\n",
        "from warnings import simplefilter\n",
        "from sklearn.exceptions import ConvergenceWarning\n",
        "simplefilter(\"ignore\", category=ConvergenceWarning)\n",
        "\n",
        "# Select alpha\n",
        "alpha = 3e-3\n",
        "\n",
        "# Create Lasso object and fit on training data\n",
        "reg = Lasso(alpha=alpha)\n",
        "reg.fit(Xtr1, ytr1)\n",
        "\n",
        "# Predict and score on test\n",
        "yhat1 = reg.predict(Xts1)\n",
        "rsq = r2_score(yts1, yhat1)\n",
        "\n",
        "print('Test R^2= %f' % rsq)"
      ],
      "execution_count": 23,
      "outputs": [
        {
          "output_type": "stream",
          "text": [
            "Test R^2= 0.914195\n"
          ],
          "name": "stdout"
        }
      ]
    },
    {
      "cell_type": "code",
      "metadata": {
        "id": "rh4DNd2owKHd",
        "outputId": "e8ceda85-6d45-4d7c-a888-f77f464bb6e8",
        "colab": {
          "base_uri": "https://localhost:8080/",
          "height": 369
        }
      },
      "source": [
        "coeff_lasso = reg.coef_.ravel()\n",
        "\n",
        "plt.figure(figsize=(10,5))\n",
        "plt.subplot(1,2,1)\n",
        "plt.stem(coeff_lasso, use_line_collection=True)\n",
        "plt.xlabel('Variable index')\n",
        "plt.ylabel('Coeff')\n",
        "plt.grid()\n",
        "\n",
        "\n",
        "plt.subplot(1,2,2)\n",
        "coeff_sort_lasso = np.flipud(np.sort(np.abs(coeff_lasso)))\n",
        "plt.plot(coeff_sort_lasso)\n",
        "plt.plot(coeff_sort_ls)\n",
        "plt.xlabel('Sorted var index')\n",
        "plt.ylabel('Coeff Mag')\n",
        "plt.grid()\n",
        "plt.legend(['Lasso, alpha=3e-3', 'Ridge 1e-5'])\n",
        "plt.tight_layout()"
      ],
      "execution_count": 24,
      "outputs": [
        {
          "output_type": "display_data",
          "data": {
            "image/png": "[encoded data removed]",
            "text/plain": [
              "<Figure size 720x360 with 2 Axes>"
            ]
          },
          "metadata": {
            "tags": [],
            "needs_background": "light"
          }
        }
      ]
    },
    {
      "cell_type": "code",
      "metadata": {
        "id": "POMC_r3_wO7f",
        "outputId": "991745be-f0ae-4778-ea39-c9b1f08a3c4c",
        "colab": {
          "base_uri": "https://localhost:8080/",
          "height": 193
        }
      },
      "source": [
        "from sklearn.model_selection import KFold\n",
        "nfold = 10\n",
        "kf =KFold(nfold, shuffle=True)\n",
        "\n",
        "# Alpha values to test\n",
        "alphas = np.logspace(-6,-1,40)\n",
        "nalpha = len(alphas)\n",
        "\n",
        "# Run the cross-validation\n",
        "rsq = np.zeros((nalpha, nfold))\n",
        "for ifold, ind in enumerate(kf.split(X)):\n",
        "        \n",
        "    # Get the training data in the split\n",
        "    Itr,Its = ind\n",
        "    Xtr = X[Itr,:]\n",
        "    ytr = y[Itr]\n",
        "    Xts = X[Its,:]\n",
        "    yts = y[Its]\n",
        "    \n",
        "    # Fit and transform the data\n",
        "    Xtr1 = xscal.fit_transform(Xtr)\n",
        "    Xts1 = xscal.transform(Xts)\n",
        "    ytr1 = yscal.fit_transform(ytr[:,None])\n",
        "    yts1 = yscal.transform(yts[:,None])\n",
        "\n",
        "    for i, alpha in enumerate(alphas):\n",
        "\n",
        "        # Fit on the training data\n",
        "        reg = Lasso(alpha=alpha)\n",
        "        reg.fit(Xtr1, ytr1)\n",
        "\n",
        "        # Score on the test data\n",
        "        yhat1 = reg.predict(Xts1)\n",
        "        rsq[i, ifold] = r2_score(yts1, yhat1)\n",
        "    \n",
        "    print('Fold = %d' % ifold)\n",
        "    \n",
        "# Compute mean and SE\n",
        "rsq_lasso_mean = np.mean(rsq, axis=1)\n",
        "rsq_lasso_se  = np.std(rsq, axis=1) / np.sqrt(nfold-1)"
      ],
      "execution_count": 25,
      "outputs": [
        {
          "output_type": "stream",
          "text": [
            "Fold = 0\n",
            "Fold = 1\n",
            "Fold = 2\n",
            "Fold = 3\n",
            "Fold = 4\n",
            "Fold = 5\n",
            "Fold = 6\n",
            "Fold = 7\n",
            "Fold = 8\n",
            "Fold = 9\n"
          ],
          "name": "stdout"
        }
      ]
    },
    {
      "cell_type": "code",
      "metadata": {
        "id": "Oelztb6gwWQF",
        "outputId": "4a65286a-66e7-42a9-da01-044c49e09c17",
        "colab": {
          "base_uri": "https://localhost:8080/",
          "height": 279
        }
      },
      "source": [
        "plt.errorbar(np.log10(alphas), rsq_lasso_mean, yerr=rsq_lasso_se)\n",
        "plt.xlabel('log10(alpha)')\n",
        "plt.ylabel('Test R^2')\n",
        "plt.grid()\n",
        "plt.show()"
      ],
      "execution_count": 26,
      "outputs": [
        {
          "output_type": "display_data",
          "data": {
            "image/png": "[encoded data removed]",
            "text/plain": [
              "<Figure size 432x288 with 1 Axes>"
            ]
          },
          "metadata": {
            "tags": [],
            "needs_background": "light"
          }
        }
      ]
    },
    {
      "cell_type": "code",
      "metadata": {
        "id": "EgfTqLI-wa_9",
        "outputId": "8bd51249-bb66-48ab-c17b-439f66f6ef01",
        "colab": {
          "base_uri": "https://localhost:8080/",
          "height": 52
        }
      },
      "source": [
        "im = np.argmax(rsq_lasso_mean)\n",
        "alpha_normal = alphas[im]\n",
        "print('Alpha optimal (normal rule) = %12.4e' % alpha_normal)\n",
        "print('Mean test R^2 (normal rule) = %7.3f' % rsq_lasso_mean[im])"
      ],
      "execution_count": 27,
      "outputs": [
        {
          "output_type": "stream",
          "text": [
            "Alpha optimal (normal rule) =   3.8882e-03\n",
            "Mean test R^2 (normal rule) =   0.908\n"
          ],
          "name": "stdout"
        }
      ]
    },
    {
      "cell_type": "code",
      "metadata": {
        "id": "PQvA8I2UwefN",
        "outputId": "24b2038d-85ae-4052-a238-1efc4495632a",
        "colab": {
          "base_uri": "https://localhost:8080/",
          "height": 369
        }
      },
      "source": [
        "reg = Lasso(alpha=alpha_normal)\n",
        "reg.fit(Xtr1, ytr1)\n",
        "\n",
        "# Plot the normalized coefficients\n",
        "coeff_lasso_norm = reg.coef_.ravel()\n",
        "\n",
        "plt.figure(figsize=(10,5))\n",
        "plt.subplot(1,2,1)\n",
        "plt.stem(coeff_lasso_norm, use_line_collection=True)\n",
        "plt.xlabel('Variable index')\n",
        "plt.ylabel('Coeff')\n",
        "plt.grid()\n",
        "\n",
        "\n",
        "plt.subplot(1,2,2)\n",
        "coeff_sort_norm = np.flipud(np.sort(np.abs(coeff_lasso_norm)))\n",
        "plt.plot(coeff_sort_norm)\n",
        "plt.plot(coeff_sort_ls)\n",
        "plt.xlabel('Sorted var index')\n",
        "plt.ylabel('Coeff Mag')\n",
        "plt.grid()\n",
        "plt.legend(['Lasso, normal rule', 'Ridge 1e-5'])\n",
        "plt.tight_layout()"
      ],
      "execution_count": 28,
      "outputs": [
        {
          "output_type": "display_data",
          "data": {
            "image/png": "[encoded data removed]",
            "text/plain": [
              "<Figure size 720x360 with 2 Axes>"
            ]
          },
          "metadata": {
            "tags": [],
            "needs_background": "light"
          }
        }
      ]
    },
    {
      "cell_type": "markdown",
      "metadata": {
        "id": "uMUU9YfQwo9P"
      },
      "source": [
        "Getting sparse solution using SE rule"
      ]
    },
    {
      "cell_type": "code",
      "metadata": {
        "id": "o7zy6Mtjwjd1",
        "outputId": "4efc5daf-8c68-4060-d28f-1ed162cb9849",
        "colab": {
          "base_uri": "https://localhost:8080/",
          "height": 52
        }
      },
      "source": [
        "im = np.argmax(rsq_lasso_mean)\n",
        "rsq_tgt = rsq_lasso_mean[im] - rsq_lasso_se[im]\n",
        "\n",
        "# Find the least complex model with R^2 > rsq_tgt\n",
        "I = np.where(rsq_lasso_mean >= rsq_tgt)[0]\n",
        "iopt = I[-1]\n",
        "alpha_onese = alphas[iopt]\n",
        "\n",
        "print('Alpha optimal (one SE rule) = %12.4e' % alpha_onese)\n",
        "print('Mean test R^2 (one SE rule) = %7.3f' % rsq_lasso_mean[iopt])"
      ],
      "execution_count": 29,
      "outputs": [
        {
          "output_type": "stream",
          "text": [
            "Alpha optimal (one SE rule) =   9.4267e-03\n",
            "Mean test R^2 (one SE rule) =   0.902\n"
          ],
          "name": "stdout"
        }
      ]
    },
    {
      "cell_type": "code",
      "metadata": {
        "id": "Uz4IaUvxwuPk",
        "outputId": "524bfa7b-1ae9-43ed-8b4b-689aea2dad27",
        "colab": {
          "base_uri": "https://localhost:8080/",
          "height": 387
        }
      },
      "source": [
        "reg = Lasso(alpha=alpha_onese)\n",
        "reg.fit(Xtr1, ytr1)\n",
        "\n",
        "# Plot the normalized coefficients\n",
        "coeff_lasso_onese = reg.coef_.ravel()\n",
        "\n",
        "plt.figure(figsize=(10,5))\n",
        "plt.subplot(1,2,1)\n",
        "plt.stem(coeff_lasso_onese, use_line_collection=True)\n",
        "plt.xlabel('Variable index')\n",
        "plt.ylabel('Coeff')\n",
        "plt.grid()\n",
        "\n",
        "\n",
        "plt.subplot(1,2,2)\n",
        "coeff_sort_onese = np.flipud(np.sort(np.abs(coeff_lasso_onese)))\n",
        "plt.plot(coeff_sort_onese)\n",
        "plt.plot(coeff_sort_norm)\n",
        "plt.plot(coeff_sort_ls)\n",
        "plt.xlabel('Sorted var index')\n",
        "plt.ylabel('Coeff Mag')\n",
        "plt.grid()\n",
        "plt.legend(['Lasso, one SE rule', 'Lasso, normal rule', 'Ridge 1e-5'])\n",
        "plt.tight_layout()\n",
        "\n",
        "print(\"Optimal alpha = %f\" % alpha_onese)"
      ],
      "execution_count": 30,
      "outputs": [
        {
          "output_type": "stream",
          "text": [
            "Optimal alpha = 0.009427\n"
          ],
          "name": "stdout"
        },
        {
          "output_type": "display_data",
          "data": {
            "image/png": "[encoded data removed]",
            "text/plain": [
              "<Figure size 720x360 with 2 Axes>"
            ]
          },
          "metadata": {
            "tags": [],
            "needs_background": "light"
          }
        }
      ]
    },
    {
      "cell_type": "code",
      "metadata": {
        "id": "Xo9VWEa8wxmk",
        "outputId": "ee12c581-1a9d-4bd4-cd79-305fc3907e0c",
        "colab": {
          "base_uri": "https://localhost:8080/",
          "height": 228
        }
      },
      "source": [
        "Ils = np.argsort(np.abs(coeff_ls))\n",
        "Ils = np.flipud(Ils)\n",
        "\n",
        "Ilasso = np.argsort(np.abs(coeff_lasso_onese))\n",
        "Ilasso = np.flipud(Ilasso)\n",
        "\n",
        "nprint = 10\n",
        "print('Ridge                        | Lasso')\n",
        "print('-----------------------------|--------------------------------')\n",
        "for i in range(nprint):\n",
        "    jls = Ils[i]\n",
        "    jlasso = Ilasso[i]\n",
        "    print('%20s %7.2f |  %20s %7.2f' % (xnames[jls], coeff_ls[jls], xnames[jlasso], coeff_lasso_onese[jlasso]) )"
      ],
      "execution_count": 31,
      "outputs": [
        {
          "output_type": "stream",
          "text": [
            "Ridge                        | Lasso\n",
            "-----------------------------|--------------------------------\n",
            "         MSZoning_RL    0.34 |             GrLivArea    0.41\n",
            "           GrLivArea    0.28 |           OverallQual    0.21\n",
            "         MSZoning_RM    0.26 |             YearBuilt    0.12\n",
            "            2ndFlrSF    0.23 |            BsmtFinSF1    0.11\n",
            "      KitchenQual_TA   -0.20 |        KitchenQual_TA   -0.09\n",
            "      KitchenQual_Gd   -0.19 |           TotalBsmtSF    0.09\n",
            "           YearBuilt    0.19 |        KitchenQual_Gd   -0.09\n",
            "     RoofStyle_Gable    0.19 |               LotArea    0.08\n",
            "       RoofStyle_Hip    0.18 |           OverallCond    0.08\n",
            "         OverallQual    0.16 |  Neighborhood_NridgHt    0.07\n"
          ],
          "name": "stdout"
        }
      ]
    },
    {
      "cell_type": "markdown",
      "metadata": {
        "id": "eKoEvLEgxEvJ"
      },
      "source": [
        "Getting the LASSO Path"
      ]
    },
    {
      "cell_type": "code",
      "metadata": {
        "id": "lgQVgYMRw3u0",
        "outputId": "963ad484-4758-459b-e761-0d2e79465f17",
        "colab": {
          "base_uri": "https://localhost:8080/",
          "height": 287
        }
      },
      "source": [
        "import sklearn.linear_model\n",
        "\n",
        "X1 = xscal.fit_transform(X)\n",
        "y1 = xscal.fit_transform(y[:,None])\n",
        "\n",
        "alphas_path = np.logspace(-5,1,40)\n",
        "alphas1, coeffs, _ = sklearn.linear_model.lasso_path(X1, y1, alphas=alphas_path)\n",
        "\n",
        "nplot = 10\n",
        "I = np.argsort(np.abs(coeffs[0,:,-1]))\n",
        "I = np.flipud(I)\n",
        "I = I[:nplot]\n",
        "\n",
        "# Plot the paths of the coefficients\n",
        "coeff_top = coeffs[0,I,:].T\n",
        "plt.semilogx(alphas1,coeff_top)\n",
        "plt.plot(alpha_onese*np.array([1,1]), [-0.3,0.5], '--')\n",
        "plt.grid()\n",
        "plt.legend(xnames[I], bbox_to_anchor=(1.05, 1))\n",
        "plt.xlabel('Alpha')\n",
        "plt.ylabel('Coeff')\n",
        "plt.xlim([1e-5, 10])\n",
        "_ = plt.ylim([-0.3, 0.5])"
      ],
      "execution_count": 32,
      "outputs": [
        {
          "output_type": "display_data",
          "data": {
            "image/png": "[encoded data removed]",
            "text/plain": [
              "<Figure size 432x288 with 1 Axes>"
            ]
          },
          "metadata": {
            "tags": [],
            "needs_background": "light"
          }
        }
      ]
    }
  ]
}